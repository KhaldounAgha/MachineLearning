{
 "cells": [
  {
   "cell_type": "code",
   "execution_count": 4,
   "metadata": {},
   "outputs": [
    {
     "name": "stdout",
     "output_type": "stream",
     "text": [
      "Sorted Characters:\n",
      " : [9]\n",
      "a: [4]\n",
      "d: [1]\n",
      "e: [2]\n",
      "g: [1]\n",
      "h: [3]\n",
      "i: [1]\n",
      "l: [1]\n",
      "m: [2]\n",
      "n: [2]\n",
      "o: [5]\n",
      "p: [1]\n",
      "r: [1]\n",
      "s: [1]\n",
      "t: [3]\n",
      "w: [2]\n",
      "\n",
      "Sorted Frequencies:\n",
      "1: ['i', 'g', 'd', 'l', 'p', 'r', 's']\n",
      "2: ['m', 'n', 'w', 'e']\n",
      "3: ['h', 't']\n",
      "4: ['a']\n",
      "5: ['o']\n",
      "9: [' ']\n"
     ]
    }
   ],
   "source": [
    "## Count the occurrences of each character in a sentence\n",
    "\n",
    "example_1 = 'I am a good man who want to help others'\n",
    "\n",
    "def count_chr(string: str) -> dict:\n",
    "    \n",
    "    characters_dict: dict = {}\n",
    "    counting_dict: dict = {}\n",
    "    string = string.lower()\n",
    "    \n",
    "    for char in string:\n",
    "        \n",
    "        characters_dict[char] = characters_dict.get(char, 0) + 1\n",
    "\n",
    "    \n",
    "    for key, val in characters_dict.items():\n",
    "\n",
    "        if val in counting_dict:\n",
    "            counting_dict[val].append(key)\n",
    "        else:\n",
    "            counting_dict[val] = [key]\n",
    "        \n",
    "    return characters_dict, counting_dict\n",
    "\n",
    "\n",
    "characters, frequency = count_chr(example_1)\n",
    "\n",
    "\n",
    "sorted_characters = dict(sorted(characters.items()))\n",
    "sorted_frequency = dict(sorted(frequency.items()))\n",
    "\n",
    "print(\"Sorted Characters:\")\n",
    "for key, val in sorted_characters.items():\n",
    "    print(f'{key}: [{val}]')\n",
    "    \n",
    "print()\n",
    "\n",
    "print(\"Sorted Frequencies:\" )\n",
    "for key, val in sorted_frequency.items():\n",
    "    print(f'{key}: {val}')"
   ]
  },
  {
   "cell_type": "code",
   "execution_count": 5,
   "metadata": {},
   "outputs": [
    {
     "name": "stdout",
     "output_type": "stream",
     "text": [
      " : [9]\n",
      "a: [4]\n",
      "d: [1]\n",
      "e: [2]\n",
      "g: [1]\n",
      "h: [3]\n",
      "i: [1]\n",
      "l: [1]\n",
      "m: [2]\n",
      "n: [2]\n",
      "o: [5]\n",
      "p: [1]\n",
      "r: [1]\n",
      "s: [1]\n",
      "t: [3]\n",
      "w: [2]\n"
     ]
    }
   ],
   "source": [
    "## Count the occurrences of each character in a sentence\n",
    "\n",
    "example_2 = 'I am a good man who want to help others'\n",
    "\n",
    "def count_chr(string: str) -> dict:\n",
    "    \n",
    "    character_dict: dict = {}\n",
    "    string = string.lower()\n",
    "    \n",
    "    for char in string:\n",
    "        if char not in character_dict:\n",
    "            character_dict[char] = 1\n",
    "        else:\n",
    "            character_dict[char] += 1\n",
    "        \n",
    "    return character_dict\n",
    "\n",
    "view_frequencies = count_chr(example_2)\n",
    "\n",
    "def print_results(dictionary: dict) -> None:\n",
    "    \n",
    "    keys_list = sorted(dictionary.keys())\n",
    "    \n",
    "    for key in keys_list:\n",
    "\n",
    "        print(f'{key}: [{view_frequencies[key]}]')\n",
    "        \n",
    "print_results(view_frequencies)"
   ]
  }
 ],
 "metadata": {
  "kernelspec": {
   "display_name": "Python 3",
   "language": "python",
   "name": "python3"
  },
  "language_info": {
   "codemirror_mode": {
    "name": "ipython",
    "version": 3
   },
   "file_extension": ".py",
   "mimetype": "text/x-python",
   "name": "python",
   "nbconvert_exporter": "python",
   "pygments_lexer": "ipython3",
   "version": "3.12.5"
  }
 },
 "nbformat": 4,
 "nbformat_minor": 2
}
