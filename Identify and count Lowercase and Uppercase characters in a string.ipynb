{
 "cells": [
  {
   "cell_type": "code",
   "execution_count": 1,
   "metadata": {},
   "outputs": [
    {
     "name": "stdout",
     "output_type": "stream",
     "text": [
      "Lowercase characters ['a', 'l', 'd', 'f'] Uppercase characters: ['W', 'P', 'A', 'S'].\n"
     ]
    }
   ],
   "source": [
    "## Identify and count Lowercase and Uppercase characters in a string.\n",
    "\n",
    "example_1: str = \"WPal.ASdf?\"\n",
    "\n",
    "def upper_lower(string: str) -> None:\n",
    "    \n",
    "    lower_list: list[str] = []\n",
    "    upper_list: list[str] = []\n",
    "\n",
    "    for char in string:\n",
    "    \n",
    "        if char.islower():\n",
    "            lower_list.append(char)\n",
    "\n",
    "        elif char.isupper():\n",
    "            upper_list.append(char)\n",
    "    \n",
    "    print(f'Lowercase characters {lower_list} Uppercase characters: {upper_list}.')\n",
    "    \n",
    "upper_lower(example_1)"
   ]
  }
 ],
 "metadata": {
  "kernelspec": {
   "display_name": "Python 3",
   "language": "python",
   "name": "python3"
  },
  "language_info": {
   "codemirror_mode": {
    "name": "ipython",
    "version": 3
   },
   "file_extension": ".py",
   "mimetype": "text/x-python",
   "name": "python",
   "nbconvert_exporter": "python",
   "pygments_lexer": "ipython3",
   "version": "3.12.5"
  }
 },
 "nbformat": 4,
 "nbformat_minor": 2
}
