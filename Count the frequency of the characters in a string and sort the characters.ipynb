{
 "cells": [
  {
   "cell_type": "code",
   "execution_count": 1,
   "metadata": {},
   "outputs": [
    {
     "name": "stdout",
     "output_type": "stream",
     "text": [
      "[ ] : 9\n",
      "[a] : 4\n",
      "[d] : 1\n",
      "[e] : 2\n",
      "[g] : 1\n",
      "[h] : 3\n",
      "[i] : 1\n",
      "[l] : 1\n",
      "[m] : 2\n",
      "[n] : 2\n",
      "[o] : 5\n",
      "[p] : 1\n",
      "[r] : 1\n",
      "[s] : 1\n",
      "[t] : 3\n",
      "[w] : 2\n"
     ]
    }
   ],
   "source": [
    "## Count the frequency of the characters in a string; sort the characters\n",
    "\n",
    "example_1: str = 'I am a good man who want to help others'\n",
    "\n",
    "def count_chr(text: str) -> dict:\n",
    "    \n",
    "    text_dict: dict = {}\n",
    "    text = text.lower()\n",
    "    \n",
    "    for i in text:\n",
    "        if i not in text_dict:\n",
    "            text_dict[i] = 1\n",
    "        else:\n",
    "            text_dict[i] += 1\n",
    "        \n",
    "    return text_dict\n",
    "\n",
    "view_dict = count_chr(example_1)\n",
    "\n",
    "def print_result(dic: dict):\n",
    "    \n",
    "    key_list: list[str] = sorted(dic.keys())\n",
    "    \n",
    "    for key in key_list:\n",
    "\n",
    "        print(f'[{key}] : {dic[key]}')\n",
    "        \n",
    "print_result(view_dict)"
   ]
  }
 ],
 "metadata": {
  "kernelspec": {
   "display_name": "Python 3",
   "language": "python",
   "name": "python3"
  },
  "language_info": {
   "codemirror_mode": {
    "name": "ipython",
    "version": 3
   },
   "file_extension": ".py",
   "mimetype": "text/x-python",
   "name": "python",
   "nbconvert_exporter": "python",
   "pygments_lexer": "ipython3",
   "version": "3.12.5"
  }
 },
 "nbformat": 4,
 "nbformat_minor": 2
}
