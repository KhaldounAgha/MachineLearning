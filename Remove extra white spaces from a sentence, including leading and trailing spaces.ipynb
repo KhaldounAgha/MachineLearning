{
 "cells": [
  {
   "cell_type": "code",
   "execution_count": 1,
   "metadata": {},
   "outputs": [
    {
     "data": {
      "text/plain": [
       "'I went to the supermarket to buy apples.'"
      ]
     },
     "execution_count": 1,
     "metadata": {},
     "output_type": "execute_result"
    }
   ],
   "source": [
    "## Remove extra white spaces from a sentence, including leading and trailing spaces.\n",
    "\n",
    "example_1 = \"  I went to the     supermarket to buy apples.   \"\n",
    "\n",
    "def remove_excess(sentence: str) -> str:\n",
    "    \n",
    "    word_memory: str = \"\"\n",
    "    words_list: list[str] = []\n",
    "    joined_words: str = \"\"\n",
    "\n",
    "    for i in range(len(sentence)):\n",
    "\n",
    "        if i < (len(sentence) - 1) and sentence[i] != \" \" and sentence[i + 1] != \" \":\n",
    "            word_memory += sentence[i]\n",
    "\n",
    "        elif i < (len(sentence) - 1) and sentence[i] != \" \":\n",
    "            word_memory += sentence[i]\n",
    "            words_list.append(word_memory)\n",
    "            word_memory = \"\"\n",
    "\n",
    "        elif i == (len(sentence) - 1) and sentence[i] != \" \":\n",
    "            word_memory += sentence[i]\n",
    "            words_list.append(word_memory)\n",
    "            word_memory = \"\"\n",
    "\n",
    "        else:\n",
    "            continue\n",
    "\n",
    "    for word in words_list:\n",
    "        if word in words_list[:-1]:\n",
    "            joined_words += word + \" \"\n",
    "        else:\n",
    "            joined_words += word\n",
    "    \n",
    "    return joined_words\n",
    "\n",
    "remove_excess(example_1)"
   ]
  },
  {
   "cell_type": "code",
   "execution_count": 31,
   "metadata": {},
   "outputs": [
    {
     "name": "stdout",
     "output_type": "stream",
     "text": [
      "[I went to the supermarket to buy apples.]\n"
     ]
    }
   ],
   "source": [
    "## Remove extra white spaces from a sentence, including leading and trailing spaces.\n",
    "\n",
    "example_1 = \"  I went to the     supermarket to buy apples.  \"\n",
    "\n",
    "def remove_excess(sentence: str) -> str:\n",
    "    \n",
    "    word_memory: str = \"\"\n",
    "    words_list: list[str] = []\n",
    "    joined_words: str = \"\"\n",
    "\n",
    "    for i in range(len(sentence)):\n",
    "\n",
    "        if i < (len(sentence) - 1): \n",
    "            if sentence[i] != \" \":\n",
    "                word_memory += sentence[i]\n",
    "\n",
    "            else:\n",
    "                words_list.append(word_memory)\n",
    "                word_memory = \"\"\n",
    "\n",
    "        else:\n",
    "            if sentence[i] != \" \":\n",
    "                word_memory += sentence[i]\n",
    "            words_list.append(word_memory)\n",
    "            word_memory = \"\"\n",
    "\n",
    "    for word in words_list[:-1]:\n",
    "        if word != '':\n",
    "            joined_words += f\"{word} \"\n",
    "    \n",
    "    if joined_words[-1] == ' ':\n",
    "        joined_words = joined_words[:-1]\n",
    "        \n",
    "    print (f'[{joined_words}]')\n",
    "    \n",
    "remove_excess(example_1)\n"
   ]
  },
  {
   "cell_type": "code",
   "execution_count": 1,
   "metadata": {},
   "outputs": [
    {
     "data": {
      "text/plain": [
       "'I went to the supermarket to buy apples!?.'"
      ]
     },
     "execution_count": 1,
     "metadata": {},
     "output_type": "execute_result"
    }
   ],
   "source": [
    "## Remove extra white spaces from a sentence, including leading and trailing spaces.\n",
    "\n",
    "example_1 = \"       I went to the      supermarket to buy  apples!?. \"\n",
    "\n",
    "def remove_excess(sentence: str) -> str:\n",
    "\n",
    "    return ' '.join(sentence.split())\n",
    "\n",
    "remove_excess(example_1)"
   ]
  }
 ],
 "metadata": {
  "kernelspec": {
   "display_name": "Python 3",
   "language": "python",
   "name": "python3"
  },
  "language_info": {
   "codemirror_mode": {
    "name": "ipython",
    "version": 3
   },
   "file_extension": ".py",
   "mimetype": "text/x-python",
   "name": "python",
   "nbconvert_exporter": "python",
   "pygments_lexer": "ipython3",
   "version": "3.12.5"
  }
 },
 "nbformat": 4,
 "nbformat_minor": 2
}
