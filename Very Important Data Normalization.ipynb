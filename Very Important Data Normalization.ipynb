{
 "cells": [
  {
   "cell_type": "code",
   "execution_count": 1,
   "metadata": {},
   "outputs": [],
   "source": [
    "import numpy as np\n",
    "import random\n",
    "import matplotlib.pyplot as plt"
   ]
  },
  {
   "cell_type": "code",
   "execution_count": 2,
   "metadata": {},
   "outputs": [
    {
     "data": {
      "text/plain": [
       "array([-95, -90, -85, -80, -75, -70, -65, -60, -55, -50, -45, -40, -35,\n",
       "       -30, -25, -20, -15, -10,  -5,   0,   5,  10,  15,  20,  25,  30,\n",
       "        35,  40,  45,  50,  55,  60,  65,  70,  75,  80,  85,  90,  95])"
      ]
     },
     "execution_count": 2,
     "metadata": {},
     "output_type": "execute_result"
    }
   ],
   "source": [
    "## Constructing an array \n",
    "X = np.arange(-95, 100, 5, dtype=int)\n",
    "X"
   ]
  },
  {
   "cell_type": "code",
   "execution_count": 3,
   "metadata": {},
   "outputs": [
    {
     "data": {
      "text/plain": [
       "array([-1.6881943 , -1.59934197, -1.51048964, -1.42163731, -1.33278497,\n",
       "       -1.24393264, -1.15508031, -1.06622798, -0.97737565, -0.88852332,\n",
       "       -0.79967098, -0.71081865, -0.62196632, -0.53311399, -0.44426166,\n",
       "       -0.35540933, -0.26655699, -0.17770466, -0.08885233,  0.        ,\n",
       "        0.08885233,  0.17770466,  0.26655699,  0.35540933,  0.44426166,\n",
       "        0.53311399,  0.62196632,  0.71081865,  0.79967098,  0.88852332,\n",
       "        0.97737565,  1.06622798,  1.15508031,  1.24393264,  1.33278497,\n",
       "        1.42163731,  1.51048964,  1.59934197,  1.6881943 ])"
      ]
     },
     "execution_count": 3,
     "metadata": {},
     "output_type": "execute_result"
    }
   ],
   "source": [
    "## Standardization (Z-score Normalization)\n",
    "X_Standardized = (X - np.mean(X)) / np.std(X)\n",
    "X_Standardized"
   ]
  },
  {
   "cell_type": "code",
   "execution_count": 4,
   "metadata": {},
   "outputs": [
    {
     "data": {
      "text/plain": [
       "array([0.        , 0.02631579, 0.05263158, 0.07894737, 0.10526316,\n",
       "       0.13157895, 0.15789474, 0.18421053, 0.21052632, 0.23684211,\n",
       "       0.26315789, 0.28947368, 0.31578947, 0.34210526, 0.36842105,\n",
       "       0.39473684, 0.42105263, 0.44736842, 0.47368421, 0.5       ,\n",
       "       0.52631579, 0.55263158, 0.57894737, 0.60526316, 0.63157895,\n",
       "       0.65789474, 0.68421053, 0.71052632, 0.73684211, 0.76315789,\n",
       "       0.78947368, 0.81578947, 0.84210526, 0.86842105, 0.89473684,\n",
       "       0.92105263, 0.94736842, 0.97368421, 1.        ])"
      ]
     },
     "execution_count": 4,
     "metadata": {},
     "output_type": "execute_result"
    }
   ],
   "source": [
    "## Min-Max Scaling (Range [0, 1])\n",
    "X_MinMaxScaled = (X - np.min(X)) / (np.max(X) - np.min(X)) \n",
    "X_MinMaxScaled\n",
    "\n",
    "# X_MinMaxScaled_2 = np.divide(np.subtract(X, np.min(X)), np.subtract(np.max(X), np.min(X)))\n",
    "# X_MinMaxScaled_2"
   ]
  },
  {
   "cell_type": "code",
   "execution_count": 5,
   "metadata": {},
   "outputs": [
    {
     "data": {
      "text/plain": [
       "array([-1.        , -0.94736842, -0.89473684, -0.84210526, -0.78947368,\n",
       "       -0.73684211, -0.68421053, -0.63157895, -0.57894737, -0.52631579,\n",
       "       -0.47368421, -0.42105263, -0.36842105, -0.31578947, -0.26315789,\n",
       "       -0.21052632, -0.15789474, -0.10526316, -0.05263158,  0.        ,\n",
       "        0.05263158,  0.10526316,  0.15789474,  0.21052632,  0.26315789,\n",
       "        0.31578947,  0.36842105,  0.42105263,  0.47368421,  0.52631579,\n",
       "        0.57894737,  0.63157895,  0.68421053,  0.73684211,  0.78947368,\n",
       "        0.84210526,  0.89473684,  0.94736842,  1.        ])"
      ]
     },
     "execution_count": 5,
     "metadata": {},
     "output_type": "execute_result"
    }
   ],
   "source": [
    "## Robust Scaling\n",
    "X_RobustScaled = (X - np.median(X)) / (np.quantile(X, 0.75) - np.quantile(X, 0.25))\n",
    "X_RobustScaled"
   ]
  },
  {
   "cell_type": "code",
   "execution_count": 6,
   "metadata": {},
   "outputs": [
    {
     "data": {
      "text/plain": [
       "array([-0.05      , -0.04736842, -0.04473684, -0.04210526, -0.03947368,\n",
       "       -0.03684211, -0.03421053, -0.03157895, -0.02894737, -0.02631579,\n",
       "       -0.02368421, -0.02105263, -0.01842105, -0.01578947, -0.01315789,\n",
       "       -0.01052632, -0.00789474, -0.00526316, -0.00263158,  0.        ,\n",
       "        0.00263158,  0.00526316,  0.00789474,  0.01052632,  0.01315789,\n",
       "        0.01578947,  0.01842105,  0.02105263,  0.02368421,  0.02631579,\n",
       "        0.02894737,  0.03157895,  0.03421053,  0.03684211,  0.03947368,\n",
       "        0.04210526,  0.04473684,  0.04736842,  0.05      ])"
      ]
     },
     "execution_count": 6,
     "metadata": {},
     "output_type": "execute_result"
    }
   ],
   "source": [
    "## Normalization (L1 Normalization - Manhattan Norm)\n",
    "X_Normalized_L1 = X / np.sum(np.abs(X))\n",
    "X_Normalized_L1"
   ]
  },
  {
   "cell_type": "code",
   "execution_count": 7,
   "metadata": {},
   "outputs": [
    {
     "data": {
      "text/plain": [
       "array([-0.27032744, -0.25609968, -0.24187192, -0.22764416, -0.2134164 ,\n",
       "       -0.19918864, -0.18496088, -0.17073312, -0.15650536, -0.1422776 ,\n",
       "       -0.12804984, -0.11382208, -0.09959432, -0.08536656, -0.0711388 ,\n",
       "       -0.05691104, -0.04268328, -0.02845552, -0.01422776,  0.        ,\n",
       "        0.01422776,  0.02845552,  0.04268328,  0.05691104,  0.0711388 ,\n",
       "        0.08536656,  0.09959432,  0.11382208,  0.12804984,  0.1422776 ,\n",
       "        0.15650536,  0.17073312,  0.18496088,  0.19918864,  0.2134164 ,\n",
       "        0.22764416,  0.24187192,  0.25609968,  0.27032744])"
      ]
     },
     "execution_count": 7,
     "metadata": {},
     "output_type": "execute_result"
    }
   ],
   "source": [
    "## Normalization (L2 Normalization - Euclidean Norm)\n",
    "X_Normalized_L2 = X / np.sqrt(np.sum((X)**2))\n",
    "X_Normalized_L2"
   ]
  },
  {
   "cell_type": "code",
   "execution_count": 8,
   "metadata": {},
   "outputs": [
    {
     "data": {
      "text/plain": [
       "array([-1.        , -0.94736842, -0.89473684, -0.84210526, -0.78947368,\n",
       "       -0.73684211, -0.68421053, -0.63157895, -0.57894737, -0.52631579,\n",
       "       -0.47368421, -0.42105263, -0.36842105, -0.31578947, -0.26315789,\n",
       "       -0.21052632, -0.15789474, -0.10526316, -0.05263158,  0.        ,\n",
       "        0.05263158,  0.10526316,  0.15789474,  0.21052632,  0.26315789,\n",
       "        0.31578947,  0.36842105,  0.42105263,  0.47368421,  0.52631579,\n",
       "        0.57894737,  0.63157895,  0.68421053,  0.73684211,  0.78947368,\n",
       "        0.84210526,  0.89473684,  0.94736842,  1.        ])"
      ]
     },
     "execution_count": 8,
     "metadata": {},
     "output_type": "execute_result"
    }
   ],
   "source": [
    "## MaxAbs Scaling (Range [-1, 1])\n",
    "X_MaxAbsScaled = X / np.max(np.abs(X))\n",
    "X_MaxAbsScaled"
   ]
  },
  {
   "cell_type": "code",
   "execution_count": 9,
   "metadata": {},
   "outputs": [
    {
     "data": {
      "text/plain": [
       "array([0.        , 1.79175947, 2.39789527, 2.77258872, 3.04452244,\n",
       "       3.25809654, 3.4339872 , 3.58351894, 3.71357207, 3.8286414 ,\n",
       "       3.93182563, 4.02535169, 4.11087386, 4.18965474, 4.26267988,\n",
       "       4.33073334, 4.39444915, 4.4543473 , 4.51085951, 4.56434819])"
      ]
     },
     "execution_count": 9,
     "metadata": {},
     "output_type": "execute_result"
    }
   ],
   "source": [
    "X = np.arange(0, 100, 5, dtype=int) # X should not include negative values\n",
    "X\n",
    "## Log Transformation [log(x + 1)]\n",
    "X_Log1_Transformed = np.log1p(X)\n",
    "X_Log1_Transformed"
   ]
  }
 ],
 "metadata": {
  "kernelspec": {
   "display_name": "Python 3",
   "language": "python",
   "name": "python3"
  },
  "language_info": {
   "codemirror_mode": {
    "name": "ipython",
    "version": 3
   },
   "file_extension": ".py",
   "mimetype": "text/x-python",
   "name": "python",
   "nbconvert_exporter": "python",
   "pygments_lexer": "ipython3",
   "version": "3.12.5"
  }
 },
 "nbformat": 4,
 "nbformat_minor": 2
}
