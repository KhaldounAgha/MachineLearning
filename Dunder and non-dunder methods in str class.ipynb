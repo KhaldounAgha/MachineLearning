{
 "cells": [
  {
   "cell_type": "code",
   "execution_count": 50,
   "metadata": {},
   "outputs": [
    {
     "name": "stdout",
     "output_type": "stream",
     "text": [
      "The object is an instance of a class (or subclass): <class 'str'>\n",
      "Is the object an instance of 'str'? Yes\n"
     ]
    }
   ],
   "source": [
    "example_string = 'str_class attributes'\n",
    "\n",
    "# Print a message confirming the object's type and whether it's an instance of the `str` class\n",
    "print(f\"The object is an instance of a class (or subclass): {type(example_string)}\")\n",
    "print(f\"Is the object an instance of 'str'? {'Yes' if isinstance(example_string, str) else 'No'}\")\n"
   ]
  },
  {
   "cell_type": "code",
   "execution_count": 43,
   "metadata": {},
   "outputs": [
    {
     "name": "stdout",
     "output_type": "stream",
     "text": [
      "Number of str_class methods: 81\n"
     ]
    }
   ],
   "source": [
    "# Count the number of  methods and attributes in the 'str' class\n",
    "num_methods = len(dir(example_string))\n",
    "print(f\"Number of 'str' class methods and attributes: {num_methods}\")"
   ]
  },
  {
   "cell_type": "code",
   "execution_count": 51,
   "metadata": {},
   "outputs": [
    {
     "name": "stdout",
     "output_type": "stream",
     "text": [
      "Number of dunder methods in 'str' class: 34\n"
     ]
    }
   ],
   "source": [
    "# Count the number of dunder (double underscore) method in the 'str' class\n",
    "num_dunder_methods = len([method for method in dir(example_string) if method.startswith('__')])\n",
    "print(f\"Number of dunder methods in 'str' class: {num_dunder_methods}\")"
   ]
  },
  {
   "cell_type": "code",
   "execution_count": 34,
   "metadata": {},
   "outputs": [
    {
     "name": "stdout",
     "output_type": "stream",
     "text": [
      "Number of nondunder-methods in str_class: 47\n"
     ]
    }
   ],
   "source": [
    "# Count the number of non-dunder methods in the 'str' class\n",
    "num_nondunder_methods = len([method for method in dir(example_string) if not method.startswith('__')])\n",
    "print(f\"Number of non-dunder methods and attributes in 'str' class: {num_nondunder_methods}\")"
   ]
  },
  {
   "cell_type": "code",
   "execution_count": 59,
   "metadata": {},
   "outputs": [
    {
     "name": "stdout",
     "output_type": "stream",
     "text": [
      "1: __add__\n",
      "2: __class__\n",
      "3: __contains__\n",
      "4: __delattr__\n",
      "5: __dir__\n",
      "6: __doc__\n",
      "7: __eq__\n",
      "8: __format__\n",
      "9: __ge__\n",
      "10: __getattribute__\n",
      "11: __getitem__\n",
      "12: __getnewargs__\n",
      "13: __getstate__\n",
      "14: __gt__\n",
      "15: __hash__\n",
      "16: __init__\n",
      "17: __init_subclass__\n",
      "18: __iter__\n",
      "19: __le__\n",
      "20: __len__\n",
      "21: __lt__\n",
      "22: __mod__\n",
      "23: __mul__\n",
      "24: __ne__\n",
      "25: __new__\n",
      "26: __reduce__\n",
      "27: __reduce_ex__\n",
      "28: __repr__\n",
      "29: __rmod__\n",
      "30: __rmul__\n",
      "31: __setattr__\n",
      "32: __sizeof__\n",
      "33: __str__\n",
      "34: __subclasshook__\n"
     ]
    }
   ],
   "source": [
    "# List dunder methods in the 'str' class\n",
    "list_dunder_methods = [method for method in dir(example_string) if method.startswith('__')]\n",
    "\n",
    "# Enumerate and print each dunder method with its index\n",
    "for index, method_name in enumerate(list_dunder_methods, start=1):\n",
    "    print(f\"{index}: {method_name}\")"
   ]
  },
  {
   "cell_type": "code",
   "execution_count": 62,
   "metadata": {},
   "outputs": [
    {
     "name": "stdout",
     "output_type": "stream",
     "text": [
      "1: capitalize\n",
      "2: casefold\n",
      "3: center\n",
      "4: count\n",
      "5: encode\n",
      "6: endswith\n",
      "7: expandtabs\n",
      "8: find\n",
      "9: format\n",
      "10: format_map\n",
      "11: index\n",
      "12: isalnum\n",
      "13: isalpha\n",
      "14: isascii\n",
      "15: isdecimal\n",
      "16: isdigit\n",
      "17: isidentifier\n",
      "18: islower\n",
      "19: isnumeric\n",
      "20: isprintable\n",
      "21: isspace\n",
      "22: istitle\n",
      "23: isupper\n",
      "24: join\n",
      "25: ljust\n",
      "26: lower\n",
      "27: lstrip\n",
      "28: maketrans\n",
      "29: partition\n",
      "30: removeprefix\n",
      "31: removesuffix\n",
      "32: replace\n",
      "33: rfind\n",
      "34: rindex\n",
      "35: rjust\n",
      "36: rpartition\n",
      "37: rsplit\n",
      "38: rstrip\n",
      "39: split\n",
      "40: splitlines\n",
      "41: startswith\n",
      "42: strip\n",
      "43: swapcase\n",
      "44: title\n",
      "45: translate\n",
      "46: upper\n",
      "47: zfill\n"
     ]
    }
   ],
   "source": [
    "# List non-dunder methods and attributes in the 'str' class\n",
    "list_nondunder_methods = [method for method in dir(example_string) if not method.startswith('__')]\n",
    "\n",
    "# Enumerate and print each non-dunder method/attribute with its index\n",
    "for index, method_name in enumerate(list_nondunder_methods, start=1):\n",
    "    print(f\"{index}: {method_name}\")"
   ]
  },
  {
   "cell_type": "code",
   "execution_count": null,
   "metadata": {},
   "outputs": [],
   "source": []
  }
 ],
 "metadata": {
  "kernelspec": {
   "display_name": "Python 3",
   "language": "python",
   "name": "python3"
  },
  "language_info": {
   "codemirror_mode": {
    "name": "ipython",
    "version": 3
   },
   "file_extension": ".py",
   "mimetype": "text/x-python",
   "name": "python",
   "nbconvert_exporter": "python",
   "pygments_lexer": "ipython3",
   "version": "3.12.5"
  }
 },
 "nbformat": 4,
 "nbformat_minor": 2
}
