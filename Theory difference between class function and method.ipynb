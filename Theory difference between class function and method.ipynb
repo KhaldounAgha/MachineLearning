{
 "cells": [
  {
   "cell_type": "code",
   "execution_count": 1,
   "metadata": {},
   "outputs": [
    {
     "name": "stdout",
     "output_type": "stream",
     "text": [
      "{'A': 1, 'p': 2, 'l': 1, 'e': 1}\n"
     ]
    }
   ],
   "source": [
    "str1 = \"Apple\"\n",
    "\n",
    "class Counter:\n",
    "    def __init__(self, input_string):\n",
    "        self._str = input_string\n",
    "\n",
    "    @classmethod\n",
    "    def count_letter(cls, input_string):\n",
    "        return {letter: input_string.count(letter) for letter in input_string}\n",
    "\n",
    "# Calling class method\n",
    "str1 = \"Apple\"\n",
    "print(Counter.count_letter(str1))"
   ]
  },
  {
   "cell_type": "code",
   "execution_count": 2,
   "metadata": {},
   "outputs": [
    {
     "name": "stdout",
     "output_type": "stream",
     "text": [
      "{'A': 1, 'p': 2, 'l': 1, 'e': 1}\n"
     ]
    }
   ],
   "source": [
    "str1 = \"Apple\"\n",
    "\n",
    "class Counter:\n",
    "    def __init__(self, input_string):\n",
    "        self._str = input_string\n",
    "\n",
    "    def count_letter(self):\n",
    "        return {letter: self._str.count(letter) for letter in self._str}\n",
    "\n",
    "# Calling class function\n",
    "new_instance = Counter(str1)\n",
    "print(new_instance.count_letter())"
   ]
  },
  {
   "cell_type": "code",
   "execution_count": null,
   "metadata": {},
   "outputs": [],
   "source": []
  }
 ],
 "metadata": {
  "kernelspec": {
   "display_name": "Python 3",
   "language": "python",
   "name": "python3"
  },
  "language_info": {
   "codemirror_mode": {
    "name": "ipython",
    "version": 3
   },
   "file_extension": ".py",
   "mimetype": "text/x-python",
   "name": "python",
   "nbconvert_exporter": "python",
   "pygments_lexer": "ipython3",
   "version": "3.12.5"
  }
 },
 "nbformat": 4,
 "nbformat_minor": 2
}
