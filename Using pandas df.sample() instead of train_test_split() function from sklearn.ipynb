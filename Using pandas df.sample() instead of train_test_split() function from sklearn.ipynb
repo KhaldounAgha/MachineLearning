{
 "cells": [
  {
   "cell_type": "code",
   "execution_count": 1,
   "metadata": {},
   "outputs": [],
   "source": [
    "import pandas as pd\n",
    "import random"
   ]
  },
  {
   "cell_type": "code",
   "execution_count": 2,
   "metadata": {},
   "outputs": [],
   "source": [
    "memory_list = []\n",
    "for _ in range(100):\n",
    "    for chr in ['A', 'B', 'C']:\n",
    "        for _ in range(1):\n",
    "            memory_list.append([chr, random.randrange(start=0, stop=365, step=1)])\n"
   ]
  },
  {
   "cell_type": "code",
   "execution_count": 3,
   "metadata": {},
   "outputs": [
    {
     "data": {
      "text/plain": [
       "[['A', 53], ['B', 196], ['C', 50], ['A', 182], ['B', 205]]"
      ]
     },
     "execution_count": 3,
     "metadata": {},
     "output_type": "execute_result"
    }
   ],
   "source": [
    "# Print out the first five elements in the constructed list list[nested lists]\n",
    "memory_list[0:5]"
   ]
  },
  {
   "cell_type": "code",
   "execution_count": 4,
   "metadata": {},
   "outputs": [],
   "source": [
    "df = pd.DataFrame(memory_list, columns=['Category', 'Value'])"
   ]
  },
  {
   "cell_type": "code",
   "execution_count": 5,
   "metadata": {},
   "outputs": [
    {
     "data": {
      "text/html": [
       "<div>\n",
       "<style scoped>\n",
       "    .dataframe tbody tr th:only-of-type {\n",
       "        vertical-align: middle;\n",
       "    }\n",
       "\n",
       "    .dataframe tbody tr th {\n",
       "        vertical-align: top;\n",
       "    }\n",
       "\n",
       "    .dataframe thead th {\n",
       "        text-align: right;\n",
       "    }\n",
       "</style>\n",
       "<table border=\"1\" class=\"dataframe\">\n",
       "  <thead>\n",
       "    <tr style=\"text-align: right;\">\n",
       "      <th></th>\n",
       "      <th>Category</th>\n",
       "      <th>Value</th>\n",
       "    </tr>\n",
       "  </thead>\n",
       "  <tbody>\n",
       "    <tr>\n",
       "      <th>0</th>\n",
       "      <td>A</td>\n",
       "      <td>53</td>\n",
       "    </tr>\n",
       "    <tr>\n",
       "      <th>1</th>\n",
       "      <td>B</td>\n",
       "      <td>196</td>\n",
       "    </tr>\n",
       "    <tr>\n",
       "      <th>2</th>\n",
       "      <td>C</td>\n",
       "      <td>50</td>\n",
       "    </tr>\n",
       "    <tr>\n",
       "      <th>3</th>\n",
       "      <td>A</td>\n",
       "      <td>182</td>\n",
       "    </tr>\n",
       "    <tr>\n",
       "      <th>4</th>\n",
       "      <td>B</td>\n",
       "      <td>205</td>\n",
       "    </tr>\n",
       "  </tbody>\n",
       "</table>\n",
       "</div>"
      ],
      "text/plain": [
       "  Category  Value\n",
       "0        A     53\n",
       "1        B    196\n",
       "2        C     50\n",
       "3        A    182\n",
       "4        B    205"
      ]
     },
     "execution_count": 5,
     "metadata": {},
     "output_type": "execute_result"
    }
   ],
   "source": [
    "df.head()"
   ]
  },
  {
   "cell_type": "code",
   "execution_count": 6,
   "metadata": {},
   "outputs": [
    {
     "name": "stdout",
     "output_type": "stream",
     "text": [
      "Number of rows in the DataFrame: [300]. Number of columns: [2].\n",
      "DataFrame columns: ['Category', 'Value']\n"
     ]
    }
   ],
   "source": [
    "print(f'Number of rows in the DataFrame: [{df.shape[0]}]. Number of columns: [{df.shape[1]}].')\n",
    "print(f'DataFrame columns: {[col for col in df.columns]}')"
   ]
  },
  {
   "cell_type": "code",
   "execution_count": 7,
   "metadata": {},
   "outputs": [],
   "source": [
    "# The df.sample() method in Pandas is a powerful tool for randomly sampling rows from a DataFrame. \n",
    "# It's particularly useful for tasks like: Creating training and testing sets\n",
    "# Key Parameters:\n",
    "# n: The number of rows to sample.\n",
    "# frac: The fraction of rows to sample.\n",
    "# replace: Whether to sample with replacement (default is False).\n",
    "# weights: Weights associated with each row, used for weighted sampling.\n",
    "# random_state: A seed for the random number generator, ensuring reproducibility.\n",
    "# axis: The axis along which to sample (0 for rows, 1 for columns).\n",
    "\n",
    "\n",
    "df = df.sample(frac=1, random_state=42, replace=False) # Ex: frac=0.2 Sample 20% of the rows"
   ]
  },
  {
   "cell_type": "code",
   "execution_count": 8,
   "metadata": {},
   "outputs": [
    {
     "name": "stdout",
     "output_type": "stream",
     "text": [
      "Number of rows in the DataFrame: [300]. Number of columns: [2].\n"
     ]
    }
   ],
   "source": [
    "print(f'Number of rows in the DataFrame: [{df.shape[0]}]. Number of columns: [{df.shape[1]}].')"
   ]
  },
  {
   "cell_type": "code",
   "execution_count": 16,
   "metadata": {},
   "outputs": [
    {
     "name": "stdout",
     "output_type": "stream",
     "text": [
      "Splitting point: [210]\n"
     ]
    }
   ],
   "source": [
    "# The issue is with how df.loc[0:size-1, ['Value']] is being used. \n",
    "# Since you’re shuffling the DataFrame with df.sample(frac=1, random_state=42, replace=False), \n",
    "# the indices are no longer in sequential order from 0 to df.shape[0] - 1. \n",
    "# Instead, the indices are mixed up after shuffling, so df.loc[0:size-1, ['Value']] \n",
    "# will not select the first size rows as intended; \n",
    "# it’s actually pulling rows based on the existing index values 0 to size-1.\n",
    "\n",
    "# Solution\n",
    "# To select the first size rows after shuffling, use .iloc rather than .loc, (as in X_train = df.loc[0:size-1, ['Value']])\n",
    "# as .iloc allows selection by position regardless of index labels\n",
    "\n",
    "# Alternatively, if you want to keep using column names, you can still use .loc but reset the index after shuffling to ensure a sequential order:\n",
    "# df = df.sample(frac=1, random_state=42, replace=False).reset_index(drop=True)\n",
    "\n",
    "# Use .loc now that indices are in sequential order\n",
    "# X_train = df.loc[0:size-1, ['Value']]\n",
    "# X_test = df.loc[size:, ['Value']]\n",
    "# y_train = df.loc[0:size-1, 'Category']\n",
    "# y_test = df.loc[size:, 'Category']\n",
    "\n",
    "size = int(df.shape[0] * 0.7)\n",
    "print(f'Splitting point: [{size}]')\n",
    "\n",
    "X_train = df.iloc[0:size-1, 1]\n",
    "X_test = df.iloc[size:, 1]\n",
    "y_train = df.iloc[0:size-1, 0]\n",
    "y_test = df.iloc[size:, 0]"
   ]
  },
  {
   "cell_type": "code",
   "execution_count": 17,
   "metadata": {},
   "outputs": [
    {
     "name": "stdout",
     "output_type": "stream",
     "text": [
      "Size of X_train = 209\n"
     ]
    },
    {
     "data": {
      "text/plain": [
       "203    140\n",
       "266     20\n",
       "152    284\n",
       "9       19\n",
       "233     48\n",
       "Name: Value, dtype: int64"
      ]
     },
     "execution_count": 17,
     "metadata": {},
     "output_type": "execute_result"
    }
   ],
   "source": [
    "print('Size of X_train =', X_train.shape[0])\n",
    "X_train.head()"
   ]
  },
  {
   "cell_type": "code",
   "execution_count": 19,
   "metadata": {},
   "outputs": [
    {
     "name": "stdout",
     "output_type": "stream",
     "text": [
      "Size of X_test = 90\n"
     ]
    },
    {
     "data": {
      "text/plain": [
       "128     66\n",
       "290     85\n",
       "8       47\n",
       "70      17\n",
       "264    117\n",
       "Name: Value, dtype: int64"
      ]
     },
     "execution_count": 19,
     "metadata": {},
     "output_type": "execute_result"
    }
   ],
   "source": [
    "print('Size of X_test =', X_test.shape[0])\n",
    "X_test.head()"
   ]
  },
  {
   "cell_type": "code",
   "execution_count": 20,
   "metadata": {},
   "outputs": [
    {
     "name": "stdout",
     "output_type": "stream",
     "text": [
      "Size of y_train = 209\n"
     ]
    },
    {
     "data": {
      "text/plain": [
       "203    C\n",
       "266    C\n",
       "152    C\n",
       "9      A\n",
       "233    C\n",
       "Name: Category, dtype: object"
      ]
     },
     "execution_count": 20,
     "metadata": {},
     "output_type": "execute_result"
    }
   ],
   "source": [
    "print('Size of y_train =', y_train.shape[0])\n",
    "y_train.head()"
   ]
  },
  {
   "cell_type": "code",
   "execution_count": 21,
   "metadata": {},
   "outputs": [
    {
     "name": "stdout",
     "output_type": "stream",
     "text": [
      "Size of y_test = 90\n"
     ]
    },
    {
     "data": {
      "text/plain": [
       "128    C\n",
       "290    C\n",
       "8      C\n",
       "70     B\n",
       "264    A\n",
       "Name: Category, dtype: object"
      ]
     },
     "execution_count": 21,
     "metadata": {},
     "output_type": "execute_result"
    }
   ],
   "source": [
    "print('Size of y_test =', y_test.shape[0])\n",
    "y_test.head()"
   ]
  },
  {
   "cell_type": "code",
   "execution_count": null,
   "metadata": {},
   "outputs": [],
   "source": []
  }
 ],
 "metadata": {
  "kernelspec": {
   "display_name": "Python 3",
   "language": "python",
   "name": "python3"
  },
  "language_info": {
   "codemirror_mode": {
    "name": "ipython",
    "version": 3
   },
   "file_extension": ".py",
   "mimetype": "text/x-python",
   "name": "python",
   "nbconvert_exporter": "python",
   "pygments_lexer": "ipython3",
   "version": "3.12.5"
  }
 },
 "nbformat": 4,
 "nbformat_minor": 2
}
