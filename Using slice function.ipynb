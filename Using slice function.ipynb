{
 "cells": [
  {
   "cell_type": "code",
   "execution_count": null,
   "metadata": {},
   "outputs": [
    {
     "data": {
      "text/plain": [
       "[[5, 64, 9, 52], [37, 71, 38, 82], [56, 88, 53, 38], [22, 84, 67, 21]]"
      ]
     },
     "metadata": {},
     "output_type": "display_data"
    }
   ],
   "source": [
    "## Using slice function \n",
    "import random\n",
    "\n",
    "sample_list = [random.randint(1, 100) for _ in range(20)]\n",
    "slices_number = 4\n",
    "start = 0\n",
    "stop: int = start + slices_number\n",
    "slices_list = []\n",
    "\n",
    "for _ in range(slices_number):\n",
    "    \n",
    "    slices_list.append(sample_list[slice(start, stop)])\n",
    "    start = stop\n",
    "    stop += slices_number\n",
    "\n",
    "slices_list"
   ]
  }
 ],
 "metadata": {
  "language_info": {
   "name": "python"
  }
 },
 "nbformat": 4,
 "nbformat_minor": 2
}
