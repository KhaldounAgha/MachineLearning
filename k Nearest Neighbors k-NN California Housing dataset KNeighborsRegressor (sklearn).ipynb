{
 "cells": [
  {
   "cell_type": "code",
   "execution_count": 1,
   "metadata": {},
   "outputs": [],
   "source": [
    "import numpy as np\n",
    "from sklearn.datasets import fetch_california_housing"
   ]
  },
  {
   "cell_type": "code",
   "execution_count": 2,
   "metadata": {},
   "outputs": [
    {
     "name": "stdout",
     "output_type": "stream",
     "text": [
      "The California Housing dataset includes 20640 observations on 6 variables\n",
      "The California Housing dataset includes 20640 target prices\n"
     ]
    }
   ],
   "source": [
    "# Load the California housing dataset\n",
    "# Selected features: ['MedInc', 'HouseAge', 'AveRooms', 'AveBedrms', 'Population', 'AveOccup']\n",
    "X, y = fetch_california_housing(return_X_y=True)\n",
    "X = X[:, [0, 1, 2, 3, 4, 5]]  # Excluded features: ['Latitude', 'Longitude']\n",
    "\n",
    "print(f'The California Housing dataset includes {X.shape[0]} observations on {X.shape[1]} variables') \n",
    "print(f'The California Housing dataset includes {y.shape[0]} target prices') "
   ]
  },
  {
   "cell_type": "code",
   "execution_count": 3,
   "metadata": {},
   "outputs": [],
   "source": [
    "from sklearn.neighbors import KNeighborsRegressor\n",
    "from sklearn.model_selection import train_test_split\n",
    "from sklearn.metrics import mean_absolute_error"
   ]
  },
  {
   "cell_type": "code",
   "execution_count": 4,
   "metadata": {},
   "outputs": [],
   "source": [
    "# Split the data into training and validation sets\n",
    "X_train, X_validate, y_train, y_validate = train_test_split(X, y, test_size=0.8, random_state=42)"
   ]
  },
  {
   "cell_type": "code",
   "execution_count": 5,
   "metadata": {},
   "outputs": [],
   "source": [
    "mae_list = []\n",
    "\n",
    "# Loop over different values of k\n",
    "for k in range(1, 100, 1):\n",
    "    model = KNeighborsRegressor(n_neighbors=k)\n",
    "    model.fit(X=X_train, y=y_train)\n",
    "    predictions = model.predict(X_validate)\n",
    "    mae = mean_absolute_error(y_validate, predictions)\n",
    "    mae_list.append(mae)\n",
    "\n",
    "mae_array = np.array(mae_list)"
   ]
  },
  {
   "cell_type": "code",
   "execution_count": 6,
   "metadata": {},
   "outputs": [
    {
     "name": "stdout",
     "output_type": "stream",
     "text": [
      "The minimum Mean Absolute Error: 0.8858199258547894\n",
      "The minimum Mean Absolute Error achieved using k: 7 neighbors\n"
     ]
    }
   ],
   "source": [
    "# Find the best k and its corresponding MAE\n",
    "min_mae = np.min(mae_array)\n",
    "best_k = np.argmin(mae_array) + 1  # Add 1 to adjust for 0-based indexing\n",
    "print(f'The minimum Mean Absolute Error: {min_mae}')\n",
    "print(f'The minimum Mean Absolute Error achieved using k: {best_k} neighbors')"
   ]
  },
  {
   "cell_type": "code",
   "execution_count": null,
   "metadata": {},
   "outputs": [],
   "source": [
    "# Important: Note that the target variable (𝑦), is \"log-transformed median\" house price in $100,000s \n",
    "# (the house price data has been transformed using a logarithmic function).\n",
    "# Reduce Skewness: House prices are often right-skewed, with most values being lower and a few extremely high values (outliers)."
   ]
  }
 ],
 "metadata": {
  "kernelspec": {
   "display_name": "Python 3",
   "language": "python",
   "name": "python3"
  },
  "language_info": {
   "codemirror_mode": {
    "name": "ipython",
    "version": 3
   },
   "file_extension": ".py",
   "mimetype": "text/x-python",
   "name": "python",
   "nbconvert_exporter": "python",
   "pygments_lexer": "ipython3",
   "version": "3.12.5"
  }
 },
 "nbformat": 4,
 "nbformat_minor": 2
}
