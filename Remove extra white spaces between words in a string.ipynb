{
 "cells": [
  {
   "cell_type": "code",
   "execution_count": 1,
   "metadata": {},
   "outputs": [
    {
     "data": {
      "text/plain": [
       "'I went to the supermarket to buy apples.'"
      ]
     },
     "execution_count": 1,
     "metadata": {},
     "output_type": "execute_result"
    }
   ],
   "source": [
    "## Remove extra white spaces between words in a string.\n",
    "\n",
    "example_1 = \"   I went to the   supermarket to buy     apples.    \"\n",
    "\n",
    "def remove_excess(sentence: str) -> str:\n",
    "    \n",
    "    splitted_sentence: list[str] = sentence.split()\n",
    "\n",
    "    return ' '.join(splitted_sentence)\n",
    "\n",
    "remove_excess(example_1)"
   ]
  }
 ],
 "metadata": {
  "kernelspec": {
   "display_name": "Python 3",
   "language": "python",
   "name": "python3"
  },
  "language_info": {
   "codemirror_mode": {
    "name": "ipython",
    "version": 3
   },
   "file_extension": ".py",
   "mimetype": "text/x-python",
   "name": "python",
   "nbconvert_exporter": "python",
   "pygments_lexer": "ipython3",
   "version": "3.12.5"
  }
 },
 "nbformat": 4,
 "nbformat_minor": 2
}
