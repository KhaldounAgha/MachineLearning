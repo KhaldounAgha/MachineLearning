{
 "cells": [
  {
   "cell_type": "code",
   "execution_count": 1,
   "metadata": {},
   "outputs": [
    {
     "name": "stdout",
     "output_type": "stream",
     "text": [
      "The longest word: [supermarket] and the shortest word: [I]\n"
     ]
    }
   ],
   "source": [
    "## Return longest and shortest words in a sentence after removing punctuation.\n",
    "\n",
    "example_1 = \"   I went to the   supermarket; to buy    apples!.   \"\n",
    "\n",
    "def longest_shortest(sentence: str) -> None:\n",
    "    remove_char: list[str] = ['/', '-', '_', '?', '=', ')', '(', '&', '%', '¤', '#', '\"', '!', \"'\", '*', ',', ';', '.', ':', '|', '>', '<', '½', '[', ']', '{', '}', '@', '£', '$', '€', '%', '*']\n",
    "    \n",
    "    sentence = sentence.strip()\n",
    "    \n",
    "    for char in remove_char:\n",
    "        sentence = sentence.replace(char, \"\")\n",
    "    \n",
    "    word_list: list[str] = sentence.split()\n",
    "    \n",
    "    longest: list[str] = word_list[0]\n",
    "    shortest: list[str] = word_list[0]\n",
    "    \n",
    "    for word in word_list:\n",
    "        \n",
    "        if len(word) > len(longest):\n",
    "            longest = word\n",
    "        \n",
    "        if len(word) < len(shortest):\n",
    "            shortest = word\n",
    "        \n",
    "\n",
    "    print(f\"The longest word: [{longest}] and the shortest word: [{shortest}]\")\n",
    "\n",
    "longest_shortest( example_1)"
   ]
  }
 ],
 "metadata": {
  "kernelspec": {
   "display_name": "Python 3",
   "language": "python",
   "name": "python3"
  },
  "language_info": {
   "codemirror_mode": {
    "name": "ipython",
    "version": 3
   },
   "file_extension": ".py",
   "mimetype": "text/x-python",
   "name": "python",
   "nbconvert_exporter": "python",
   "pygments_lexer": "ipython3",
   "version": "3.12.5"
  }
 },
 "nbformat": 4,
 "nbformat_minor": 2
}
