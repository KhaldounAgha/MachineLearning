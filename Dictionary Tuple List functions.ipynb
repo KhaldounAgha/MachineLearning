{
 "cells": [
  {
   "cell_type": "code",
   "execution_count": 50,
   "metadata": {},
   "outputs": [
    {
     "data": {
      "text/plain": [
       "['My', 'name', 'is', 'Kelly']"
      ]
     },
     "execution_count": 50,
     "metadata": {},
     "output_type": "execute_result"
    }
   ],
   "source": [
    "## Concatenating corresponding elements from Two Existing Lists\n",
    "\n",
    "list_1 = [\"M\", \"na\", \"i\", \"Ke\"]\n",
    "list_2 = [\"y\", \"me\", \"s\", \"lly\"]\n",
    "\n",
    "[str(x + y) for x, y in zip(list_1, list_2)]"
   ]
  },
  {
   "cell_type": "code",
   "execution_count": 51,
   "metadata": {},
   "outputs": [
    {
     "name": "stdout",
     "output_type": "stream",
     "text": [
      "10 100\n",
      "20 200\n",
      "30 300\n",
      "40 400\n"
     ]
    }
   ],
   "source": [
    "## Iterating over two lists simultaneously\n",
    "\n",
    "list_3 = [10, 20, 30, 40]\n",
    "list_4 = [100, 200, 300, 400]\n",
    "\n",
    "zipping_list = [print(x, y) for x, y in zip(list_3, list_4)]"
   ]
  },
  {
   "cell_type": "code",
   "execution_count": 52,
   "metadata": {},
   "outputs": [
    {
     "name": "stdout",
     "output_type": "stream",
     "text": [
      "10 100\n",
      "20 200\n",
      "30 300\n",
      "40 400\n"
     ]
    }
   ],
   "source": [
    "## Iterating over two lists simultaneously\n",
    "\n",
    "list_3 = [10, 20, 30, 40]\n",
    "list_4 = [100, 200, 300, 400]\n",
    "\n",
    "for x, y in list(zip(list_3, list_4)):\n",
    "    print(x, y)"
   ]
  },
  {
   "cell_type": "code",
   "execution_count": 53,
   "metadata": {},
   "outputs": [
    {
     "data": {
      "text/plain": [
       "['Mike', 'Emma', 'Kelly', 'Brad']"
      ]
     },
     "execution_count": 53,
     "metadata": {},
     "output_type": "execute_result"
    }
   ],
   "source": [
    "## Removing empty strings from a list\n",
    "\n",
    "list_5 = [\"Mike\", \"\", \"Emma\", \"Kelly\", \"\", \"Brad\"]\n",
    "\n",
    "[x for x in list_5 if x]"
   ]
  },
  {
   "cell_type": "code",
   "execution_count": 54,
   "metadata": {},
   "outputs": [
    {
     "name": "stdout",
     "output_type": "stream",
     "text": [
      "3\n",
      "6\n"
     ]
    }
   ],
   "source": [
    "## Finding Index of Element in a List within a Specific Range\n",
    "\n",
    "list_6 = [5, 10, 15, 20, 25, 50, 20, 70, 80, 20, 90]\n",
    "\n",
    "value_1 = list_6.index(20)\n",
    "print(value_1)\n",
    "\n",
    "value_2 = list_6.index(20, 4, 8)\n",
    "print(value_2)\n"
   ]
  },
  {
   "cell_type": "code",
   "execution_count": 55,
   "metadata": {},
   "outputs": [
    {
     "name": "stdout",
     "output_type": "stream",
     "text": [
      "(('a', 23), ('d', 29), ('b', 37), ('c', 113))\n"
     ]
    }
   ],
   "source": [
    "## Sorting a tuple by second element in nested tuples\n",
    "\n",
    "tuple_1 = (('a', 23),('b', 37),('c', 113), ('d',29))\n",
    "sorted_tuple = tuple(sorted(tuple_1, key=lambda x: x[1]))\n",
    "\n",
    "print(sorted_tuple)"
   ]
  },
  {
   "cell_type": "code",
   "execution_count": 56,
   "metadata": {},
   "outputs": [
    {
     "name": "stdout",
     "output_type": "stream",
     "text": [
      "2950955761472\n",
      "140724406651640\n",
      "2950955632640\n",
      "140724406652696\n",
      "(11, ['A', 33], 44)\n",
      "2950955761472\n",
      "140724406651640\n",
      "2950955632640\n",
      "140724406652696\n"
     ]
    }
   ],
   "source": [
    "## Demonstrate Tuple Immutability and List Mutability Within a Tuple\n",
    "\"\"\"\n",
    "Tuples are immutable: \n",
    "This means that you cannot change the values of the elements \n",
    "directly within the tuple itself (e.g., you can't do something like tuple_2[0] = 10). \n",
    "However, tuples can contain mutable objects like lists.\n",
    "\n",
    "Mutable objects within a tuple: \n",
    "When a tuple contains a mutable object, like a list, you can modify \n",
    "the contents of that list without changing the memory address of the tuple itself. \n",
    "This is because you're not changing the tuple's reference to the list; \n",
    "you're only changing the content of the list that the tuple points to.\n",
    "\"\"\"\n",
    "\n",
    "tuple_2 = (11, [22, 33], 44)\n",
    "print(id(tuple_2))\n",
    "print(id(tuple_2[0]))\n",
    "print(id(tuple_2[1]))\n",
    "print(id(tuple_2[2]))\n",
    "\n",
    "tuple_2[1][0] = 'A'\n",
    "print(tuple_2)\n",
    "\n",
    "print(id(tuple_2))\n",
    "print(id(tuple_2[0]))\n",
    "print(id(tuple_2[1]))\n",
    "print(id(tuple_2[2]))"
   ]
  },
  {
   "cell_type": "code",
   "execution_count": 57,
   "metadata": {},
   "outputs": [
    {
     "name": "stdout",
     "output_type": "stream",
     "text": [
      "80\n"
     ]
    }
   ],
   "source": [
    "## Access value in nested dictionary\n",
    "\n",
    "nested_dict = {\"class\": {\"student\": {\"name\": \"Mike\", \"marks\": {\"physics\": 70, \"history\": 80}}}}\n",
    "\n",
    "value = nested_dict['class']['student']['marks']['history']\n",
    "print(value)"
   ]
  },
  {
   "cell_type": "code",
   "execution_count": 58,
   "metadata": {},
   "outputs": [
    {
     "name": "stdout",
     "output_type": "stream",
     "text": [
      "(50, 40, 30, 20, 10)\n"
     ]
    }
   ],
   "source": [
    "## Reversing a Tuple\n",
    "\n",
    "tuple_3 = (10, 20, 30, 40, 50)\n",
    "reversed_tuple_1 = tuple(reversed(tuple_3))\n",
    "print(reversed_tuple_1)"
   ]
  },
  {
   "cell_type": "code",
   "execution_count": 59,
   "metadata": {},
   "outputs": [
    {
     "name": "stdout",
     "output_type": "stream",
     "text": [
      "(50, 40, 30, 20, 10)\n"
     ]
    }
   ],
   "source": [
    "## Reversing a Tuple\n",
    "\n",
    "reversed_tuple_2 = tuple_3[::-1]\n",
    "print(reversed_tuple_2)"
   ]
  },
  {
   "cell_type": "code",
   "execution_count": 60,
   "metadata": {},
   "outputs": [
    {
     "name": "stdout",
     "output_type": "stream",
     "text": [
      "10 20 30 40\n"
     ]
    }
   ],
   "source": [
    "## Unpack elements from a Tuple\n",
    "\n",
    "tuple_4 = (10, 20, 30, 40)\n",
    "a, b, c, d = tuple_4\n",
    "print(a, b, c, d)"
   ]
  },
  {
   "cell_type": "code",
   "execution_count": 61,
   "metadata": {},
   "outputs": [
    {
     "name": "stdout",
     "output_type": "stream",
     "text": [
      "{'Ten': 10, 'Twenty': 20, 'Thirty': 30}\n",
      "{'Ten': 10, 'Twenty': 20, 'Thirty': 30}\n"
     ]
    }
   ],
   "source": [
    "## Create dictionary from Keys and Values\n",
    "\n",
    "# sourcery skip: identity-comprehension\n",
    "keys = ['Ten', 'Twenty', 'Thirty']\n",
    "values = [10, 20, 30]\n",
    "\n",
    "new_dictionary_1 = {k:v for k,v in zip(keys, values)}\n",
    "print(new_dictionary_1)\n",
    "\n",
    "new_dictionary_2 = dict(zip(keys, values))\n",
    "print(new_dictionary_2)"
   ]
  },
  {
   "cell_type": "code",
   "execution_count": 62,
   "metadata": {},
   "outputs": [
    {
     "name": "stdout",
     "output_type": "stream",
     "text": [
      "{'Ten': 10, 'Twenty': 20, 'Thirty': 30, 'Forty': 40, 'Fifty': 50}\n",
      "{'Ten': 10, 'Twenty': 20, 'Thirty': 30, 'Forty': 40, 'Fifty': 50}\n"
     ]
    }
   ],
   "source": [
    "## Merge Dictionaries with Overlapping Keys\n",
    "\n",
    "# sourcery skip: use-dictionary-union\n",
    "dict_1 = {'Ten': 10, 'Twenty': 20, 'Thirty': 30}\n",
    "dict_2 = {'Thirty': 30, 'Forty': 40, 'Fifty': 50}\n",
    "\n",
    "dict_3 = {** dict_1, ** dict_2}\n",
    "print(dict_3)\n",
    "\n",
    "dict_4 = dict_1 | dict_2\n",
    "print(dict_4)"
   ]
  },
  {
   "cell_type": "code",
   "execution_count": 63,
   "metadata": {},
   "outputs": [
    {
     "name": "stdout",
     "output_type": "stream",
     "text": [
      "{'Kelly': {'designation': 'Developer', 'salary': 8000}, 'Emma': {'designation': 'Developer', 'salary': 8000}}\n"
     ]
    }
   ],
   "source": [
    "## Create Dictionary with Default Values\n",
    "\n",
    "employees = ['Kelly', 'Emma']\n",
    "defaults = {\"designation\": 'Developer', \"salary\": 8000}\n",
    "\n",
    "dict_5 = {x: defaults for x in (employees)}\n",
    "print(dict_5)"
   ]
  },
  {
   "cell_type": "code",
   "execution_count": 64,
   "metadata": {},
   "outputs": [
    {
     "name": "stdout",
     "output_type": "stream",
     "text": [
      "{'Kelly': {'designation': 'Developer', 'salary': 8000}, 'Emma': {'designation': 'Developer', 'salary': 8000}}\n"
     ]
    }
   ],
   "source": [
    "## Create Dictionary with Default Values\n",
    "\n",
    "employees = ['Kelly', 'Emma']\n",
    "defaults = {\"designation\": 'Developer', \"salary\": 8000}\n",
    "\n",
    "dict_6 = dict.fromkeys(employees, defaults)\n",
    "print(dict_6)"
   ]
  },
  {
   "cell_type": "code",
   "execution_count": 67,
   "metadata": {},
   "outputs": [
    {
     "name": "stdout",
     "output_type": "stream",
     "text": [
      "Math\n"
     ]
    }
   ],
   "source": [
    "## Find Key with Minimum Value in Dictionary\n",
    "\n",
    "sample_dict = {\n",
    "    'Physics': 82,\n",
    "    'Math': 65,\n",
    "    'history': 75\n",
    "}\n",
    "print(min(sample_dict, key=sample_dict.get))"
   ]
  },
  {
   "cell_type": "code",
   "execution_count": null,
   "metadata": {},
   "outputs": [],
   "source": []
  }
 ],
 "metadata": {
  "kernelspec": {
   "display_name": "Python 3",
   "language": "python",
   "name": "python3"
  },
  "language_info": {
   "codemirror_mode": {
    "name": "ipython",
    "version": 3
   },
   "file_extension": ".py",
   "mimetype": "text/x-python",
   "name": "python",
   "nbconvert_exporter": "python",
   "pygments_lexer": "ipython3",
   "version": "3.12.5"
  }
 },
 "nbformat": 4,
 "nbformat_minor": 2
}
