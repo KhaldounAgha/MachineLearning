{
 "cells": [
  {
   "cell_type": "code",
   "execution_count": null,
   "metadata": {},
   "outputs": [],
   "source": [
    "import numpy as np\n",
    "import matplotlib.pyplot as plt\n",
    "import seaborn as sns\n",
    "import random\n",
    "from sklearn import datasets\n",
    "# from sklearn.metrics import mean_squared_error, mean_absolute_error, r2_score, root_mean_squared_error, mean_absolute_percentage_error\n",
    "\n",
    "from sklearn.model_selection import train_test_split"
   ]
  },
  {
   "cell_type": "code",
   "execution_count": 39,
   "metadata": {},
   "outputs": [],
   "source": [
    "# Simple Linearregression Model\n",
    "\n",
    "class LinearRegression():\n",
    "    \"\"\"\n",
    "    A simple linear regression model\n",
    "    \"\"\"\n",
    "    \n",
    "    def __init__(self, lr: float = 0.001, n_iters: int= 100000, tol: float = 1e-9):\n",
    "        self.lr = lr\n",
    "        self.n_iters = n_iters\n",
    "        self.tol = tol\n",
    "        self.weights = None\n",
    "        self.bias = 0\n",
    "        \n",
    "    def fit(self, X: np.ndarray, y: np.ndarray):\n",
    "        \n",
    "        n_samples, n_features = X.shape\n",
    "        self.weights = np.random.rand(n_features)\n",
    "        \n",
    "        for i in range(self.n_iters):\n",
    "            # Calculating y_predictions and Errors\n",
    "            # y^i = w.Xi + b\n",
    "            # Not: self.weight is a scaler and X is an array\n",
    "            y_pred = np.dot(X, self.weights) + self.bias\n",
    "            error = y_pred - y\n",
    "            \n",
    "            # Gradient Calculation\n",
    "            # Computing the Gradient of the cost function (Important: here cost function is MSE) with respect to weight (w) and bias (b)\n",
    "            # dw = 1/n. ∑ Xi. (y^i -yi)\n",
    "            # db = 1/n. ∑ (y^i -yi)\n",
    "            # Note: X is an array with shape (100, 1) and error is an array with shape (100,). Therefore we use\n",
    "            # X.T (X transpose) to facilitate dot notation in form of (1, 100) . (100,)\n",
    "            dw = (1/n_samples) * np.dot(X.T, (error))\n",
    "            db = (1/n_samples) * np.sum(error)\n",
    "            \n",
    "            # Gradient Descent Update Rule\n",
    "            # weights = weights − learning rate . dw\n",
    "            # bias = bias - learning rate . db \n",
    "            self.weights -= self.lr * dw    # Update weights\n",
    "            self.bias -= self.lr * db       # Update bias\n",
    "\n",
    "            # Early stopping if gradient is very small\n",
    "            # Read about the norm and calculating the norm of a vector or matrix\n",
    "            if np.linalg.norm(dw) < self.tol:\n",
    "                print(f\"Converged after {i} iterations\")\n",
    "                break\n",
    "            \n",
    "    def predict(self, X: np.ndarray) -> np.ndarray: \n",
    "                \n",
    "        return np.dot(X, self.weights) + self.bias\n",
    "    "
   ]
  },
  {
   "cell_type": "code",
   "execution_count": 40,
   "metadata": {},
   "outputs": [],
   "source": [
    "X, y = datasets.make_regression(n_samples= 100, n_features= 1, noise= 10, random_state= 42)"
   ]
  },
  {
   "cell_type": "code",
   "execution_count": 41,
   "metadata": {},
   "outputs": [
    {
     "data": {
      "image/png": "[encoded data removed]",
      "text/plain": [
       "<Figure size 800x400 with 1 Axes>"
      ]
     },
     "metadata": {},
     "output_type": "display_data"
    }
   ],
   "source": [
    "plt.figure(figsize=(8, 4))\n",
    "plt.scatter(X, y, linewidths=0.2, marker='.', c='red', s=25, edgecolors='black' )\n",
    "plt.show()"
   ]
  },
  {
   "cell_type": "code",
   "execution_count": 42,
   "metadata": {},
   "outputs": [],
   "source": [
    "X_train, X_test, y_train, y_test = train_test_split(X, y, test_size=0.2, random_state=42)"
   ]
  },
  {
   "cell_type": "code",
   "execution_count": 43,
   "metadata": {},
   "outputs": [],
   "source": [
    "reg = LinearRegression()"
   ]
  },
  {
   "cell_type": "code",
   "execution_count": 44,
   "metadata": {},
   "outputs": [
    {
     "name": "stdout",
     "output_type": "stream",
     "text": [
      "Converged after 31370 iterations\n"
     ]
    }
   ],
   "source": [
    "reg.fit(X_train, y_train)"
   ]
  },
  {
   "cell_type": "code",
   "execution_count": 45,
   "metadata": {},
   "outputs": [],
   "source": [
    "y_pred = reg.predict(X_test)"
   ]
  },
  {
   "cell_type": "code",
   "execution_count": 46,
   "metadata": {},
   "outputs": [
    {
     "data": {
      "image/png": "[encoded data removed]",
      "text/plain": [
       "<Figure size 800x400 with 1 Axes>"
      ]
     },
     "metadata": {},
     "output_type": "display_data"
    }
   ],
   "source": [
    "y_pred_line = reg.predict(X)\n",
    "cmap = plt.get_cmap('viridis')\n",
    "fig = plt.figure(figsize=(8,4))\n",
    "m1 = plt.scatter(X_train, y_train, color=cmap(0.9), s=10)\n",
    "m2 = plt.scatter(X_test, y_test, color=cmap(0.5), s=10)\n",
    "plt.plot(X, y_pred_line, color='black', linewidth=1, label='Prediction')\n",
    "plt.show()"
   ]
  },
  {
   "cell_type": "code",
   "execution_count": 47,
   "metadata": {},
   "outputs": [
    {
     "name": "stdout",
     "output_type": "stream",
     "text": [
      "MSE: 104.20222653996571\n"
     ]
    }
   ],
   "source": [
    "# Mean Squared Error\n",
    "mse_value = np.mean((y_test - y_pred)**2)\n",
    "print(\"MSE:\", mse_value)"
   ]
  },
  {
   "cell_type": "code",
   "execution_count": 48,
   "metadata": {},
   "outputs": [
    {
     "name": "stdout",
     "output_type": "stream",
     "text": [
      "MAE: 8.416659922599873\n"
     ]
    }
   ],
   "source": [
    "# Mean Absolute Error\n",
    "mae_value = np.mean(np.abs(y_test - y_pred))\n",
    "print(\"MAE:\", mae_value)"
   ]
  },
  {
   "cell_type": "code",
   "execution_count": 50,
   "metadata": {},
   "outputs": [
    {
     "name": "stdout",
     "output_type": "stream",
     "text": [
      "RMSE: 10.20794918384519\n"
     ]
    }
   ],
   "source": [
    "# Root Mean Squared Error\n",
    "rmse_value = np.sqrt(mse_value)\n",
    "print(\"RMSE:\", rmse_value)"
   ]
  },
  {
   "cell_type": "code",
   "execution_count": 51,
   "metadata": {},
   "outputs": [
    {
     "name": "stdout",
     "output_type": "stream",
     "text": [
      "MAPE: 70.39070816007822\n"
     ]
    }
   ],
   "source": [
    "# Mean Absolute Percentage Error\n",
    "mape_value = np.mean(np.abs((y_test - y_pred) / y_test)) * 100\n",
    "print(\"MAPE:\", mape_value)"
   ]
  },
  {
   "cell_type": "code",
   "execution_count": null,
   "metadata": {},
   "outputs": [
    {
     "name": "stdout",
     "output_type": "stream",
     "text": [
      "R squared:  0.9374151607574672\n"
     ]
    }
   ],
   "source": [
    "# R Squared\n",
    "r_squared = 1 - (np.sum((y_test - predictions) ** 2) / np.sum((y_test - np.mean(y_test)) ** 2))\n",
    "print('R squared: ', r_squared)"
   ]
  },
  {
   "cell_type": "code",
   "execution_count": 52,
   "metadata": {},
   "outputs": [
    {
     "name": "stdout",
     "output_type": "stream",
     "text": [
      "R squared adjusted:  0.9339382252439932\n"
     ]
    }
   ],
   "source": [
    "# R Squared Adjusted\n",
    "r_squared_adj = 1 - (1 - r_squared) * (len(y_test) - 1) / (len(y_test) - X.shape[1] - 1)\n",
    "print('R squared adjusted: ', r_squared_adj)"
   ]
  }
 ],
 "metadata": {
  "kernelspec": {
   "display_name": "Python 3",
   "language": "python",
   "name": "python3"
  },
  "language_info": {
   "codemirror_mode": {
    "name": "ipython",
    "version": 3
   },
   "file_extension": ".py",
   "mimetype": "text/x-python",
   "name": "python",
   "nbconvert_exporter": "python",
   "pygments_lexer": "ipython3",
   "version": "3.12.5"
  }
 },
 "nbformat": 4,
 "nbformat_minor": 2
}
