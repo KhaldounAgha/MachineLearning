{
 "cells": [
  {
   "cell_type": "code",
   "execution_count": 1,
   "metadata": {},
   "outputs": [
    {
     "data": {
      "text/plain": [
       "{'Ten': 10,\n",
       " 'Twenty': 20,\n",
       " 'Thirty': 30,\n",
       " 'forty': 40,\n",
       " 'fifty': 50,\n",
       " 'sixty': 60,\n",
       " 'seventy': 70,\n",
       " 'eighty': 80,\n",
       " 'ninety': 90}"
      ]
     },
     "execution_count": 1,
     "metadata": {},
     "output_type": "execute_result"
    }
   ],
   "source": [
    "## Create a dictionary using zip() function\n",
    "\n",
    "keys =      ['Ten', 'Twenty', 'Thirty', 'forty', 'fifty', 'sixty', 'seventy', 'eighty', 'ninety']\n",
    "values =    [10, 20, 30, 40, 50, 60, 70, 80, 90]\n",
    "\n",
    "def create_dict(keys: any, values: any) -> dict:\n",
    "    \n",
    "    return dict(zip(keys, values))\n",
    "\n",
    "create_dict(keys, values)"
   ]
  },
  {
   "cell_type": "code",
   "execution_count": 2,
   "metadata": {},
   "outputs": [
    {
     "data": {
      "text/plain": [
       "{'Ten': 10,\n",
       " 'Twenty': 20,\n",
       " 'Thirty': 30,\n",
       " 'forty': 40,\n",
       " 'fifty': 50,\n",
       " 'sixty': 60,\n",
       " 'seventy': 70,\n",
       " 'eighty': 80,\n",
       " 'ninety': 90}"
      ]
     },
     "execution_count": 2,
     "metadata": {},
     "output_type": "execute_result"
    }
   ],
   "source": [
    "## Create a dictionary using zip() function\n",
    "\n",
    "keys =      ['Ten', 'Twenty', 'Thirty', 'forty', 'fifty', 'sixty', 'seventy', 'eighty', 'ninety']\n",
    "values =    [10, 20, 30, 40, 50, 60, 70, 80, 90]\n",
    "\n",
    "def create_dict(keys, values) -> dict:\n",
    "    return {key : value for key, value in zip(keys, values)}\n",
    "\n",
    "create_dict(keys, values)"
   ]
  },
  {
   "cell_type": "code",
   "execution_count": null,
   "metadata": {},
   "outputs": [],
   "source": []
  }
 ],
 "metadata": {
  "kernelspec": {
   "display_name": "Python 3",
   "language": "python",
   "name": "python3"
  },
  "language_info": {
   "codemirror_mode": {
    "name": "ipython",
    "version": 3
   },
   "file_extension": ".py",
   "mimetype": "text/x-python",
   "name": "python",
   "nbconvert_exporter": "python",
   "pygments_lexer": "ipython3",
   "version": "3.12.5"
  }
 },
 "nbformat": 4,
 "nbformat_minor": 2
}
