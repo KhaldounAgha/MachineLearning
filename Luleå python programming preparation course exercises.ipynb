{
 "cells": [
  {
   "cell_type": "markdown",
   "metadata": {},
   "source": [
    "#### D0039E, Programming in Python: Basic and Preparatory Course, Lp1, H24"
   ]
  },
  {
   "cell_type": "code",
   "execution_count": null,
   "metadata": {},
   "outputs": [],
   "source": [
    "###\n",
    "\"\"\"\" \n",
    "Exercise 5.3. Fermat’s Last Theorem says that there are no positive integers a, b, and c such that\n",
    "a **n + b**n = c**n\n",
    "for any values of n greater than 2.\n",
    "1. Write a function named check_fermat that takes four parameters—a, b, c and n—and that\n",
    "checks to see if Fermat’s theorem holds. If n is greater than 2 and it turns out to be true that\n",
    " **n + b**n = c**n\n",
    "the program should print, “Holy smokes, Fermat was wrong!” Otherwise the program should\n",
    "print, “No, that doesn’t work.”\n",
    "2. Write a function that prompts the user to input values for a, b, c and n, converts them to\n",
    "integers, and uses check_fermat to check whether they violate Fermat’s theorem\n",
    "\"\"\"\n",
    "###"
   ]
  },
  {
   "cell_type": "code",
   "execution_count": 7,
   "metadata": {},
   "outputs": [],
   "source": [
    "import pandas as pd\n",
    "import numpy as np\n",
    "import random \n",
    "import doctest\n",
    "from datetime import datetime\n",
    "import os\n"
   ]
  },
  {
   "cell_type": "code",
   "execution_count": null,
   "metadata": {},
   "outputs": [],
   "source": [
    "from random import choices, randint\n",
    "\n",
    "def check_fermat(a: int, b: int, c: int, n:int) -> bool:\n",
    "    \"\"\"\n",
    "    Check the Fermat’s theorem.\n",
    "\n",
    "    Args:\n",
    "        a (float): A float number.\n",
    "        b (float): A float number.\n",
    "        c (float): A float number.\n",
    "        n (float): A float number > 2.\n",
    "\n",
    "    Returns:\n",
    "        bool: True if Fermat’s theorem does not hold (i.e., Fermat was wrong).\n",
    "\n",
    "    Examples:\n",
    "        >>> check_fermat(1,2,2,3)\n",
    "        False\n",
    "        >>> check_fermat(2,3,2,4)\n",
    "        False\n",
    "    \"\"\"\n",
    "    return n > 2 and (pow(a, n)) + (pow(b, n)) == (pow(c, n))\n",
    "\n",
    "def run_doctest():\n",
    "    _results = doctest.testmod()\n",
    "    if _results.failed == 0:\n",
    "        print(\"All tests passed!\")\n",
    "    else:\n",
    "        print(f\"{_results.failed} out of {_results.attempted} tests failed.\")\n",
    "\n",
    "run_doctest()    \n",
    "\n",
    "def log_history(a: int, b: int, c: int, n: int, result: str):\n",
    "    file_name: str = \"history_Fermat.txt\"\n",
    "    file_exist: bool = os.path.exists(file_name)\n",
    "    \n",
    "    with open(file_name, 'a') as file:\n",
    "        if not file_exist:\n",
    "            print(\"Creating history file for the first time.\") \n",
    "        timestamp = datetime.now().strftime(\"%Y-%m-%d %H:%M:%S\")\n",
    "        file.write(f\"{timestamp} a: {a} b: {b} c: {c} n: {n} >>> {result}\\n\")\n",
    "\n",
    "\n",
    "def run_simulation(iterations=1000):\n",
    "    \n",
    "    yes = 0\n",
    "    no = 0\n",
    "    population = range(0, 100, 1)\n",
    "    \n",
    "    # Use for _ in range(10000) instead   \n",
    "    for _ in range(0, iterations, 1):\n",
    "        # If you use weights keyword parameter, it should be: weights= * 100\n",
    "        a, b, c = choices(population, k=3)\n",
    "        n = randint(3, 100)\n",
    "        \n",
    "        if check_fermat(a, b, c, n):\n",
    "            yes += 1\n",
    "            result = \"Rejected.\"\n",
    "        else:\n",
    "            no +=1\n",
    "            result = \"Confirmed\"\n",
    "        \n",
    "        log_history(a, b, c, n, result)\n",
    "\n",
    "    return yes, no\n",
    "\n",
    "yes, no = run_simulation()\n",
    "\n",
    "print(f\"The theory has been disproven: {yes}, proven: {no}\")"
   ]
  },
  {
   "cell_type": "code",
   "execution_count": null,
   "metadata": {},
   "outputs": [],
   "source": [
    "### \n",
    "\"\"\" \n",
    "Write a Python program that calculates the area of a circle based on the radius given as a variable. \n",
    "\"\"\"\n",
    "###"
   ]
  },
  {
   "cell_type": "code",
   "execution_count": null,
   "metadata": {},
   "outputs": [],
   "source": [
    "from math import pi\n",
    "import doctest\n",
    "from datetime import datetime\n",
    "import os\n",
    "\n",
    "def area_circle(r: float) -> float:\n",
    "    \"\"\"\n",
    "    Calculate the area of a circle given its radius.\n",
    "\n",
    "    Args:\n",
    "        r (float): The radius of the circle.\n",
    "\n",
    "    Returns:\n",
    "        float: The calculated area of the circle.\n",
    "\n",
    "    Examples:\n",
    "        >>> area_circle(2)\n",
    "        12.566370614359172\n",
    "        \n",
    "        >>> area_circle(4)\n",
    "        50.26548245743669\n",
    "    \"\"\"\n",
    "    return pi * pow(r, 2)\n",
    "\n",
    "def run_doctest():\n",
    "    _results = doctest.testmod()\n",
    "    if _results.failed == 0:\n",
    "        print('All tests passed!') \n",
    "    else:\n",
    "        print(f\"{_results.failed} out of {_results.attempted} tests failed.\")\n",
    "\n",
    "def log_history(radius: float, area: float):\n",
    "    file_name: str = 'history_Circle.txt'\n",
    "    file_exist: bool = os.path.exists(file_name)\n",
    "    \n",
    "    with open(file_name, 'a') as file:\n",
    "        if not file_exist:\n",
    "            print('Creating history file for the first time.')\n",
    "        timestamp = datetime.now().strftime('%Y-%m-%d %H:%M:%S') \n",
    "        file.write(f\"{timestamp} Radius: {radius}, Area: {area}\\n\")        \n",
    "run_doctest()\n",
    "\n",
    "def main():\n",
    "    while True:\n",
    "        _radius = input(\"Please inter the radius of the circle: \")\n",
    "        try:\n",
    "            r = float(_radius)\n",
    "            area = area_circle(r)\n",
    "            log_history(r, area)\n",
    "            print(f\"Area: {area}\")\n",
    "            break\n",
    "        except ValueError:\n",
    "            print(\"Invalid input. Please enter a numerical value for the radius.\")\n",
    "               \n",
    "main()\n"
   ]
  },
  {
   "cell_type": "code",
   "execution_count": null,
   "metadata": {},
   "outputs": [],
   "source": [
    "### \n",
    "\"\"\" \n",
    "Write a Python program to test whether a number is within 100 of 1000 or 2000. \n",
    "\"\"\"\n",
    "###"
   ]
  },
  {
   "cell_type": "code",
   "execution_count": null,
   "metadata": {},
   "outputs": [],
   "source": [
    "from random import randint\n",
    "import doctest\n",
    "import os\n",
    "\n",
    "def number_test(a:float) -> bool:\n",
    "    \"\"\"\n",
    "    Test whether a number is within 100 of 1000 or 2000\n",
    "\n",
    "    Args:\n",
    "        a (float): Random number\n",
    "\n",
    "    Returns:\n",
    "        bool: Whether a number is within the range.\n",
    "        \n",
    "    Examples:\n",
    "         >>> number_test(950)\n",
    "         True\n",
    "         >>> number_test(2043)\n",
    "         True\n",
    "         >>> number_test(638)\n",
    "         False\n",
    "    \"\"\"\n",
    "    # print(\"within\") if 900 <= a < 1000 or 1000 < a <= 1100 or 1900 <= a < 2000 or 2000 < a <= 2100 else print(\"Outside\")\n",
    "    if 900 <= a < 1000 or 1000 < a <= 1100 or 1900 <= a < 2000 or 2000 < a <= 2100:\n",
    "        return True\n",
    "    return False\n",
    "\n",
    "def run_doctest():\n",
    "    _results = doctest.testmod()\n",
    "    if _results.failed == 0:\n",
    "        print('All tests passed!') \n",
    "    else:\n",
    "        print(f\"{_results.failed} out of {_results.attempted} tests failed.\")   \n",
    "\n",
    "run_doctest()\n",
    "    \n",
    "file_name: str = \"history_Within.txt\"\n",
    "file_exist = os.path.exists(file_name)\n",
    "if not file_exist:\n",
    "            print('Creating history file for the first time.')\n",
    "\n",
    "def log_history(a: int, status: str):\n",
    "    with open(file_name, 'a') as file:\n",
    "        timestamp = datetime.now().strftime(\"%Y-%m-%d %H:%M:%S\")\n",
    "        file.write(f\"{timestamp} No.: {a} Status: {status}.\\n\")\n",
    "\n",
    "def run_simulation(iteration: int):\n",
    "    \n",
    "    within = 0\n",
    "    outside = 0\n",
    "    \n",
    "    for _ in range(iteration):\n",
    "        a = randint(500, 2500)\n",
    "        if number_test(a):\n",
    "            within +=1\n",
    "            status = \"within\"\n",
    "        else:\n",
    "            outside +=1\n",
    "            status = \"outside\"\n",
    "        log_history(a, status)\n",
    "        \n",
    "    print(f\"Result: {within} numbers within the range and {outside} outside it.\") \n",
    "    \n",
    "run_simulation(100)\n"
   ]
  },
  {
   "cell_type": "code",
   "execution_count": null,
   "metadata": {},
   "outputs": [],
   "source": [
    "### \n",
    "\"\"\" \n",
    "Write a Python program that determines whether a given number is even or odd, and prints an appropriate message to the user. \n",
    "\"\"\"\n",
    "###"
   ]
  },
  {
   "cell_type": "code",
   "execution_count": null,
   "metadata": {},
   "outputs": [],
   "source": [
    "from random import randint\n",
    "\n",
    "def parity_check():\n",
    "    \n",
    "    odd, even = 0, 0\n",
    "\n",
    "    for _ in range(10_000_000):\n",
    "        number = randint(0, 100)\n",
    "        # print (f\"[{number}] is an even number\") if number % 2 == 0 else print (f\"[{number}] is an odd number\") \n",
    "        if number % 2 == 0:\n",
    "            even += 1\n",
    "        else:\n",
    "            odd += 1\n",
    "    \n",
    "    print (f\"The simulation results: {even} even numbers, {odd} odd numbers\")\n",
    "\n",
    "parity_check()\n",
    "  "
   ]
  },
  {
   "cell_type": "code",
   "execution_count": null,
   "metadata": {},
   "outputs": [],
   "source": [
    "### \n",
    "\"\"\" \n",
    "Write a Python program that will accept the base and height of a triangle and compute its area. \n",
    "\"\"\"\n",
    "###"
   ]
  },
  {
   "cell_type": "code",
   "execution_count": null,
   "metadata": {},
   "outputs": [],
   "source": [
    "def triangle_area(b, h) -> float:\n",
    "    \n",
    "    if not isinstance(b, (float, int)) or not isinstance(h, (float, int)):\n",
    "        # unfriendly raise TypeError(\"Base and height must be numerical values.\")\n",
    "        print(f\"Error: Both base ({b}) and height ({h}) must be numbers (int or float). Please try again.\")\n",
    "        return None\n",
    "            \n",
    "    if b < 0 or h < 0:\n",
    "        # unfriendly raise ValueError(\"Base and height must be positive values.\")\n",
    "        print(f\"Error: Both base ({b}) and height ({h}) must be positive numbers greater than zero. Please try again.\")\n",
    "        return None\n",
    "    \n",
    "    area = 0.5 * b * h\n",
    "    print(f\"The area of the triangle with base {b} and height {h} is {area}.\")\n",
    "    return area\n",
    "   \n",
    "\n",
    "area = triangle_area(4, 'a')\n",
    "print(area)"
   ]
  },
  {
   "cell_type": "code",
   "execution_count": null,
   "metadata": {},
   "outputs": [],
   "source": [
    "### \n",
    "\"\"\" \n",
    "WWrite a Python program to calculate a dog's age in dog years. \n",
    "(For the first two years, a dog year is equal to 10.5 human years. After that, each dog year equals 4 human years.)\n",
    "\"\"\"\n",
    "###"
   ]
  },
  {
   "cell_type": "code",
   "execution_count": null,
   "metadata": {},
   "outputs": [],
   "source": [
    "given_years = float(input(\"Please enter the age of the dog.\"))\n",
    "if given_years <= 2:\n",
    "    dog_age = given_years * 10.5\n",
    "else:\n",
    "    dog_age = (2 * 10.5) + ((given_years - 2) * 4) \n",
    "\n",
    "print(f\"The dog age equals to {dog_age} dog years\")"
   ]
  },
  {
   "cell_type": "code",
   "execution_count": null,
   "metadata": {},
   "outputs": [],
   "source": [
    "### \n",
    "\"\"\" \n",
    "Write a Python program to display the astrological sign for a given date of birth.\n",
    "\"\"\"\n",
    "###"
   ]
  },
  {
   "cell_type": "code",
   "execution_count": null,
   "metadata": {},
   "outputs": [],
   "source": [
    "from datetime import datetime\n",
    "\n",
    "def horoscope_calculator():\n",
    "\n",
    "    counter = 0\n",
    "\n",
    "    month_days = {\n",
    "        \"January\": 31,\n",
    "        \"February\": 28,  # Note: 29 for leap years\n",
    "        \"March\": 31,\n",
    "        \"April\": 30,\n",
    "        \"May\": 31,\n",
    "        \"June\": 30,\n",
    "        \"July\": 31,\n",
    "        \"August\": 31,\n",
    "        \"September\": 30,\n",
    "        \"October\": 31,\n",
    "        \"November\": 30,\n",
    "        \"December\": 31\n",
    "    }\n",
    "\n",
    "    zodiac_signs = {\n",
    "        \"Capricorn\": (1, 19),  # Jan 1 - Jan 19\n",
    "        \"Aquarius\": (20, 49),  # Jan 20 - Feb 18\n",
    "        \"Pisces\": (50, 79),    # Feb 19 - Mar 20\n",
    "        \"Aries\": (80, 109),    # Mar 21 - Apr 19\n",
    "        \"Taurus\": (110, 140),  # Apr 20 - May 20\n",
    "        \"Gemini\": (141, 171),  # May 21 - Jun 20\n",
    "        \"Cancer\": (172, 203),  # Jun 21 - Jul 22\n",
    "        \"Leo\": (204, 234),     # Jul 23 - Aug 22\n",
    "        \"Virgo\": (235, 265),   # Aug 23 - Sep 22\n",
    "        \"Libra\": (266, 295),   # Sep 23 - Oct 22\n",
    "        \"Scorpio\": (296, 325), # Oct 23 - Nov 21\n",
    "        \"Sagittarius\": (326, 355), # Nov 22 - Dec 21\n",
    "        \"Capricorn (again)\": (356, 365) # Dec 22 - Dec 31\n",
    "    }\n",
    "\n",
    "    while True:\n",
    "        date_string = input(\"Please enter your birth date\")\n",
    "\n",
    "        try:\n",
    "            date_object = datetime.strptime(date_string, \"%Y-%m-%d\")\n",
    "            month_name = date_object.strftime(\"%B\")\n",
    "            day_number = date_object.day\n",
    "            break\n",
    "        except ValueError:\n",
    "            print(\"Please enter a valid date in YYYY-MM-DD format.\") \n",
    "\n",
    "\n",
    "    for key in month_days:\n",
    "        if key == month_name:\n",
    "            break\n",
    "        else:\n",
    "            counter = counter + month_days[key]\n",
    "\n",
    "    total_days = counter + day_number\n",
    "\n",
    "    for sign in zodiac_signs:\n",
    "        start_day = zodiac_signs[sign][0]\n",
    "        end_day = zodiac_signs[sign][1] + 1\n",
    "        if total_days in range(start_day, end_day):\n",
    "            print(f\"Your Zodiac sign is: {sign}\")\n",
    "            break\n",
    "\n",
    "horoscope_calculator()"
   ]
  },
  {
   "cell_type": "code",
   "execution_count": null,
   "metadata": {},
   "outputs": [],
   "source": [
    "def get_zodiac_sign(): # day, month\n",
    "    \n",
    "    horoscope_signs = {\n",
    "        (1, 20): \"Capricorn\",\n",
    "        (2, 19): \"Aquarius\",\n",
    "        (3, 21): \"Pisces\",\n",
    "        (4, 20): \"Aries\",\n",
    "        (5, 21): \"Taurus\",\n",
    "        (6, 21): \"Gemini\",\n",
    "        (7, 23): \"Cancer\",\n",
    "        (8, 23): \"Leo\",\n",
    "        (9, 23): \"Virgo\",\n",
    "        (10, 23): \"Libra\",\n",
    "        (11, 22): \"Scorpio\",\n",
    "        (12, 22): \"Sagittarius\",\n",
    "        (12, 31): \"Capricorn\"\n",
    "    }\n",
    "    \n",
    "    #for (m, d) in horoscope_signs.keys():\n",
    "    #    if (m == month and day <= d) or (m == (month + 1) and day > horoscope_signs.get((m - 1, ))\n",
    "\n",
    "    print()\n",
    "    horoscope_signs.get((5+1, 1), (0, 0))[1]\n",
    "get_zodiac_sign()"
   ]
  },
  {
   "cell_type": "code",
   "execution_count": null,
   "metadata": {},
   "outputs": [],
   "source": [
    "### \n",
    "\"\"\" \n",
    "Exercise 7.1. Rewrite the function print_n from Section 5.8 using iteration instead of recursion.\n",
    "def countdown(n):\n",
    "    if n <= 0:\n",
    "        print ('Blastoff!')\n",
    "    else:\n",
    "        print(n)\n",
    "        countdown(n-1)\n",
    "countdown(7)\n",
    "\"\"\"\n",
    "###"
   ]
  },
  {
   "cell_type": "code",
   "execution_count": null,
   "metadata": {},
   "outputs": [],
   "source": [
    "def countdown_1(n):\n",
    "    while True:\n",
    "        if n <= 0:\n",
    "            print('Blastoff!')\n",
    "            break\n",
    "        else:\n",
    "            print (n)\n",
    "            n -= 1\n",
    "\n",
    "countdown_1(9)"
   ]
  },
  {
   "cell_type": "code",
   "execution_count": null,
   "metadata": {},
   "outputs": [],
   "source": [
    "def countdown_2(n):\n",
    "    while n > 0:\n",
    "        print (n)\n",
    "        n -= 1\n",
    "\n",
    "    print('Blastoff!')\n",
    "\n",
    "countdown_2(9)"
   ]
  },
  {
   "cell_type": "code",
   "execution_count": null,
   "metadata": {},
   "outputs": [],
   "source": [
    "def countdown_3(n):\n",
    "    for x in reversed(range(0, n+1)): \n",
    "        if x> 0:\n",
    "            print(x)\n",
    "\n",
    "    print('Blastoff!')\n",
    "\n",
    "countdown_3(9)"
   ]
  },
  {
   "cell_type": "code",
   "execution_count": null,
   "metadata": {},
   "outputs": [],
   "source": [
    "def countdown_4(n):\n",
    "    for x in range(n, 0, -1): \n",
    "        if x> 0:\n",
    "            print(x)\n",
    "\n",
    "    print('Blastoff!')\n",
    "\n",
    "countdown_4(9)"
   ]
  },
  {
   "cell_type": "code",
   "execution_count": null,
   "metadata": {},
   "outputs": [],
   "source": [
    "def countdown_5(n):\n",
    "    for x in list(range(0, n+1))[::-1]: \n",
    "        if x> 0:\n",
    "            print(x)\n",
    "\n",
    "    print('Blastoff!')\n",
    "\n",
    "countdown_5(9)"
   ]
  },
  {
   "cell_type": "code",
   "execution_count": null,
   "metadata": {},
   "outputs": [],
   "source": [
    "### \n",
    "\"\"\"\n",
    "Exercise 7.3. To test the square root algorithm in this chapter, you could compare it with\n",
    "math.sqrt. Write a function named test_square_root that prints a table like this:\n",
    "1.0 1.0 1.0 0.0\n",
    "2.0 1.41421356237 1.41421356237 2.22044604925e-16\n",
    "3.0 1.73205080757 1.73205080757 0.0\n",
    "4.0 2.0 2.0 0.0\n",
    "5.0 2.2360679775 2.2360679775 0.0\n",
    "6.0 2.44948974278 2.44948974278 0.0\n",
    "7.0 2.64575131106 2.64575131106 0.0\n",
    "8.0 2.82842712475 2.82842712475 4.4408920985e-16\n",
    "9.0 3.0 3.0 0.0\n",
    "\"\"\"\n",
    "### "
   ]
  },
  {
   "cell_type": "code",
   "execution_count": null,
   "metadata": {},
   "outputs": [],
   "source": [
    "from math import sqrt\n",
    "x = 2\n",
    "for _ in range(1, 10):\n",
    "    a = float(_)\n",
    "    b = ((x + a/x) / 2)\n",
    "    c = (sqrt(a))\n",
    "    d = abs(b - c)\n",
    "    print(f\"{a:.1f} {b:.11f} {c:.11f} {d:.11f}\")"
   ]
  },
  {
   "cell_type": "code",
   "execution_count": null,
   "metadata": {},
   "outputs": [],
   "source": [
    "###\n",
    "\"\"\"\n",
    "Write a Python program that prints all the numbers from 0 to 6 except 3 and 6.\n",
    "\"\"\"\n",
    "###"
   ]
  },
  {
   "cell_type": "code",
   "execution_count": null,
   "metadata": {},
   "outputs": [],
   "source": [
    "for i in range(1, 7):\n",
    "    print(i) if not i % 3 == 0 else None"
   ]
  },
  {
   "cell_type": "code",
   "execution_count": null,
   "metadata": {},
   "outputs": [],
   "source": [
    "###\n",
    "\"\"\"\n",
    "Write a Python program to get the Fibonacci series between 0 and 50.\n",
    "\"\"\"\n",
    "###"
   ]
  },
  {
   "cell_type": "code",
   "execution_count": null,
   "metadata": {},
   "outputs": [],
   "source": [
    "###\n"
   ]
  },
  {
   "cell_type": "code",
   "execution_count": null,
   "metadata": {},
   "outputs": [],
   "source": [
    "###\n",
    "\"\"\"\n",
    "Write a Python program that computes the greatest common divisor (GCD) of two positive integers.\n",
    "\"\"\"\n",
    "###"
   ]
  },
  {
   "cell_type": "code",
   "execution_count": null,
   "metadata": {},
   "outputs": [],
   "source": [
    "def gcd_1(a: int, b: int):\n",
    "    \n",
    "    \"\"\"\n",
    "    Find the Greatest Common Divisor\n",
    "\n",
    "    Args:\n",
    "        a (int): a positive integer\n",
    "        b (int): a positive integer\n",
    "    \"\"\"\n",
    "    if not isinstance(a, int) or not isinstance(a, int):\n",
    "        raise ValueError(\"Both numbers should be positive integers\")\n",
    "    \n",
    "    first_number = int(a)\n",
    "    second_number = int(b)\n",
    "\n",
    "    first_divisor_list = []\n",
    "    second_divisor_list = []\n",
    "\n",
    "    for divisor in range(1, first_number+1):\n",
    "        a = first_number / divisor\n",
    "        b = first_number // divisor\n",
    "        if a - b == 0:\n",
    "            first_divisor_list.append(divisor)\n",
    "    print(f\"Divisors of the first number: {first_divisor_list}\")\n",
    "            \n",
    "    for divisor in range(1, second_number+1):\n",
    "        a = second_number / divisor\n",
    "        b = second_number // divisor\n",
    "        if a - b == 0:\n",
    "            second_divisor_list.append(divisor)\n",
    "    print(f\"Divisors of the first number: {second_divisor_list}\")\n",
    "\n",
    "    if second_number < first_number:\n",
    "        for x in reversed(second_divisor_list):\n",
    "            if x in first_divisor_list:\n",
    "                print(f\"The Greatest Common Divisor: {x}\")\n",
    "                break\n",
    "    else:\n",
    "        for x in reversed(first_divisor_list):\n",
    "            if x in second_divisor_list:\n",
    "                print(f\"The Greatest Common Divisor: {x}\")\n",
    "                break\n",
    "            \n",
    "gcd_1(48, 18)           "
   ]
  },
  {
   "cell_type": "code",
   "execution_count": null,
   "metadata": {},
   "outputs": [],
   "source": [
    "def gcd_2(a, b):\n",
    "    \n",
    "    if not isinstance(a, int) or not isinstance(b, int):\n",
    "        raise ValueError(\"Both numbers should be positive integers\")\n",
    "    \n",
    "    first_number = int(a)\n",
    "    second_number = int(b)\n",
    "\n",
    "    first_divisor_list = []\n",
    "    second_divisor_list = []\n",
    "\n",
    "    for divisor in range(1, first_number+1):\n",
    "        a = first_number / divisor\n",
    "        b = first_number // divisor\n",
    "        if a - b == 0:\n",
    "            first_divisor_list.append(divisor)\n",
    "    print(f\"Divisors of the first number: {first_divisor_list}\")\n",
    "            \n",
    "    for divisor in range(1, second_number+1):\n",
    "        a = second_number / divisor\n",
    "        b = second_number // divisor\n",
    "        if a - b == 0:\n",
    "            second_divisor_list.append(divisor)\n",
    "    print(f\"Divisors of the first number: {second_divisor_list}\")\n",
    "\n",
    "    intersection = [x for x in first_divisor_list if x in second_divisor_list]\n",
    "    \n",
    "    print(f\"The Greatest Common Divisor: {max(intersection)}\")\n",
    "\n",
    "            \n",
    "gcd_2(48, 18)   "
   ]
  },
  {
   "cell_type": "code",
   "execution_count": null,
   "metadata": {},
   "outputs": [],
   "source": [
    "###\n",
    "\"\"\"\n",
    "Write a Python program to find the least common multiple (LCM) of two positive integers\n",
    "\"\"\"\n",
    "###"
   ]
  },
  {
   "cell_type": "code",
   "execution_count": null,
   "metadata": {},
   "outputs": [],
   "source": [
    "   \n",
    "def lcm(a, b):\n",
    "           \n",
    "    def prime_factors(n):\n",
    "\n",
    "        factors = []\n",
    "        divisor = 2\n",
    "                \n",
    "        while n > 1:\n",
    "            if n % divisor == 0:\n",
    "                n /= divisor\n",
    "                factors.append(divisor)\n",
    "                \n",
    "            else:\n",
    "                divisor += 1\n",
    "                \n",
    "        return factors\n",
    "\n",
    "\n",
    "    a_factors = prime_factors(a)\n",
    "    b_factors = prime_factors(b)\n",
    "    \n",
    "    lcm_list = []\n",
    "    \n",
    "    for x in a_factors:\n",
    "        if x in b_factors:\n",
    "            lcm_list.append(x)\n",
    "            b_factors.remove(x)\n",
    "        else:\n",
    "            lcm_list.append(x)\n",
    "    \n",
    "    lcm_list.extend(b_factors)\n",
    "\n",
    "    result = 1\n",
    "    for num in lcm_list:\n",
    "        result *= num\n",
    "    \n",
    "    return result   \n",
    "\n",
    "# Example    \n",
    "print(lcm(90, 60))"
   ]
  },
  {
   "cell_type": "code",
   "execution_count": null,
   "metadata": {},
   "outputs": [],
   "source": [
    "###\n",
    "\"\"\"\n",
    "Exercise 10.1. Write a function called nested_sum that takes a nested list of integers and add up\n",
    "the elements from all of the nested lists.\n",
    "\"\"\"\n",
    "###"
   ]
  },
  {
   "cell_type": "code",
   "execution_count": null,
   "metadata": {},
   "outputs": [],
   "source": [
    "nested_num = [1, 2, 3, 4, 5, [6, 7, 8, [9, 10]]]\n",
    "\n",
    "def nested_sum(nested_num):\n",
    "    total = 0\n",
    "    for num in nested_num:\n",
    "        if isinstance(num, list):\n",
    "            total += nested_sum(num)\n",
    "        else:\n",
    "            total += num\n",
    "    return total\n",
    "\n",
    "nested_sum(nested_num)"
   ]
  },
  {
   "cell_type": "code",
   "execution_count": null,
   "metadata": {},
   "outputs": [],
   "source": [
    "nested_num = [1, 2, 3, 4, 5, [6, 7, 8, [9, 10]]]\n",
    "\n",
    "def nested_sum_a(nested_num):\n",
    "    \n",
    "    return sum(nested_sum(num) if isinstance(num, list) else num for num in nested_num )\n",
    "\n",
    "nested_sum_a(nested_num)"
   ]
  },
  {
   "cell_type": "code",
   "execution_count": null,
   "metadata": {},
   "outputs": [],
   "source": [
    "nested_int = [1, 2, 3, 4, 5, [6, 7, 8, [9, 10]]]\n",
    "\n",
    "def nested_sum_b(nested_int):\n",
    "    return sum(num for sublist in nested_int for num in (nested_sum_b(sublist) if isinstance(sublist, list) else [sublist]) if isinstance(num, int))\n",
    "\n",
    "nested_sum_b(nested_int)"
   ]
  },
  {
   "cell_type": "code",
   "execution_count": null,
   "metadata": {},
   "outputs": [],
   "source": [
    "my_nested_int = [1, 2, 3, 4, 5, [6, 7, 8, [9, 10]]]\n",
    "\n",
    "def nested_sum_c(nested_int):\n",
    "    \n",
    "    return sum([num for sublist in nested_int for num in ([nested_sum_b(sublist)] if isinstance(sublist, list) else [sublist]) if isinstance(num, int)])\n",
    "\n",
    "nested_sum_c(my_nested_int)"
   ]
  },
  {
   "cell_type": "code",
   "execution_count": null,
   "metadata": {},
   "outputs": [],
   "source": [
    "###\n",
    "\"\"\"\n",
    "Exercise 10.2. Use capitalize_all to write a function named capitalize_nested that takes\n",
    "a nested list of strings and returns a new nested list with all strings capitalized.\n",
    "\"\"\"\n",
    "###"
   ]
  },
  {
   "cell_type": "code",
   "execution_count": null,
   "metadata": {},
   "outputs": [],
   "source": [
    "nested_list = ['a', 'b', 'c', ['x', 'y', 'z']]\n",
    "\n",
    "def capitalize_all(nested_list):\n",
    "    \n",
    "    register = []\n",
    "        \n",
    "    for item in nested_list:\n",
    "        \n",
    "        if isinstance(item, list): \n",
    "            register.extend(capitalize_all(item))\n",
    "        else:\n",
    "            register.append(str(item).capitalize()) \n",
    "    \n",
    "    return register\n",
    "\n",
    "print('Capitalized list:', capitalize_all(nested_list))"
   ]
  },
  {
   "cell_type": "code",
   "execution_count": null,
   "metadata": {},
   "outputs": [],
   "source": [
    "nested_list = ['a', 'b', 'c', ['x', 'y', 'z']]\n",
    "\n",
    "def capitalize_all_a(nested_list):\n",
    "    register = []\n",
    "    [register.extend(item) for item in nested_list] \n",
    "    \n",
    "    return register\n",
    "\n",
    "print('Capitalized list:', capitalize_all_a(nested_list))"
   ]
  },
  {
   "cell_type": "code",
   "execution_count": null,
   "metadata": {},
   "outputs": [],
   "source": []
  },
  {
   "cell_type": "code",
   "execution_count": null,
   "metadata": {},
   "outputs": [],
   "source": []
  },
  {
   "cell_type": "code",
   "execution_count": null,
   "metadata": {},
   "outputs": [],
   "source": [
    "###\n",
    "\"\"\"\n",
    "Write a Python program to count the number of even and odd numbers in a series of numbers.\n",
    "\"\"\"\n",
    "###\n"
   ]
  },
  {
   "cell_type": "code",
   "execution_count": null,
   "metadata": {},
   "outputs": [],
   "source": [
    "arbitrary_int = [random.randint(1, 20) for i in range(10)]\n",
    "print(arbitrary_int)\n",
    "\n",
    "\n",
    "\n",
    "def even_odd(*, a:list) -> int:\n",
    "    even_count = 0\n",
    "    odd_count = 0\n",
    "    for _ in a:\n",
    "        if _ % 2 == 0:\n",
    "            even_count += 1\n",
    "        else:\n",
    "            odd_count +=1\n",
    "    return even_count, odd_count\n",
    "\n",
    "\n",
    "x = [print(f\"Even count: {even} and Odd count: {odd}\") for even, odd in [even_odd(a=arbitrary_int)]]\n"
   ]
  },
  {
   "cell_type": "code",
   "execution_count": null,
   "metadata": {},
   "outputs": [],
   "source": [
    "###\n",
    "\"\"\"\n",
    "Write a Python program to count the average of a list of numbers.\n",
    "\"\"\"\n",
    "###"
   ]
  },
  {
   "cell_type": "code",
   "execution_count": null,
   "metadata": {},
   "outputs": [],
   "source": [
    "arbitrary_int = [random.randint(1, 10) for _ in range(4)]\n",
    "print(arbitrary_int)\n",
    "def aver(*, kwarg: list) -> float:\n",
    "    total = 0\n",
    "    [total:= total + num for num in kwarg] ##  walrus operator (:=) inside a list comprehension, it updates total with the cumulative sum at each step\n",
    "    return (total / len(kwarg))\n",
    "\n",
    "aver(kwarg=arbitrary_int)"
   ]
  },
  {
   "cell_type": "code",
   "execution_count": null,
   "metadata": {},
   "outputs": [],
   "source": [
    "###\n",
    "\"\"\"\n",
    "Write a Python program to get the largest number from a list.\n",
    "\"\"\"\n",
    "###"
   ]
  },
  {
   "cell_type": "code",
   "execution_count": null,
   "metadata": {},
   "outputs": [],
   "source": [
    "arbitrary_int = [random.randint(1, 50) for _ in range(10)]\n",
    "print(arbitrary_int)\n",
    "\n",
    "def largest(*, kwarg= arbitrary_int):\n",
    "    large = 0\n",
    "    for _ in kwarg:\n",
    "        if _ > large:\n",
    "            large = _\n",
    "    return large \n",
    "    \n",
    "print(\"The largest number: \", largest())\n",
    "\n"
   ]
  },
  {
   "cell_type": "code",
   "execution_count": null,
   "metadata": {},
   "outputs": [],
   "source": [
    "arbitrary_int = [random.randint(1, 50) for _ in range(10)]\n",
    "print(arbitrary_int)\n",
    "large = 0\n",
    "\n",
    "[large:= x for x in arbitrary_int if x > large]\n",
    "\n",
    "print(\"The largest number: \", large)"
   ]
  },
  {
   "cell_type": "code",
   "execution_count": null,
   "metadata": {},
   "outputs": [],
   "source": [
    "###\n",
    "\"\"\"\n",
    "Write a Python program to get the smallest number from a list.\n",
    "\"\"\"\n",
    "###"
   ]
  },
  {
   "cell_type": "code",
   "execution_count": null,
   "metadata": {},
   "outputs": [],
   "source": [
    "arbitrary_int = [random.randint(1, 50) for i in range(10)]\n",
    "print(arbitrary_int) \n",
    "\n",
    "def small(*, kwarg= arbitrary_int):\n",
    "    small = kwarg[0]\n",
    "    for _ in kwarg:\n",
    "        if _ < small or _ == small:\n",
    "            small = _\n",
    "    return small \n",
    "\n",
    "print(\"The largest number: \", small())"
   ]
  },
  {
   "cell_type": "code",
   "execution_count": null,
   "metadata": {},
   "outputs": [],
   "source": [
    "arbitrary_int = [random.randint(1, 50) for i in range(10)]\n",
    "print(arbitrary_int)\n",
    "small = arbitrary_int[0]\n",
    "[small:= x for x in arbitrary_int if x < small or x == small]\n",
    "\n",
    "print(\"The largest number: \", small)"
   ]
  },
  {
   "cell_type": "code",
   "execution_count": null,
   "metadata": {},
   "outputs": [],
   "source": [
    "###\n",
    "\"\"\"\n",
    "Write a Python program that takes a list of numbers as an input and writes two separate lists containing even and odd numbers as an output.\n",
    "\"\"\"\n",
    "###"
   ]
  },
  {
   "cell_type": "code",
   "execution_count": null,
   "metadata": {},
   "outputs": [],
   "source": [
    "arbitrary_int = [random.randint(1, 50) for i in range(10)]\n",
    "print(arbitrary_int)\n",
    "\n",
    "def two_lists(a=arbitrary_int):\n",
    "    even_list = []\n",
    "    odd_list = []\n",
    "    for num in a:\n",
    "        if num % 2 == 0:\n",
    "            even_list.append(num)\n",
    "        else:\n",
    "            odd_list.append(num)\n",
    "    return even_list, odd_list\n",
    "\n",
    "x = [print(f\"Even list: {e} - Odd list: {o}\") for e, o in [two_lists()]] # two_lists() returns a tuple (even_list, odd_list).\n",
    "# The code [two_lists()] creates a list containing the tuple (even_list, odd_list) returned by two_lists(). \n",
    "# Then, you are iterating over this list and unpacking e and o as even_list and odd_list, respectively. \n",
    "# Since the list contains only one tuple, this works fine and prints the even and odd lists.            \n",
    "            "
   ]
  },
  {
   "cell_type": "code",
   "execution_count": null,
   "metadata": {},
   "outputs": [],
   "source": [
    "###\n",
    "\"\"\"\n",
    "Write a Python program to count the median of a list of numbers.\n",
    "\"\"\"\n",
    "###"
   ]
  },
  {
   "cell_type": "code",
   "execution_count": null,
   "metadata": {},
   "outputs": [],
   "source": [
    "arbitrary_int: list[int] = [random.randint(1, 50) for i in range(11)]\n",
    "arbitrary_int.sort()\n",
    "print(arbitrary_int)\n",
    "\n",
    "def median(x: list):\n",
    "    index: int = len(x) // 2\n",
    "    x.sort()\n",
    "    if len(x) % 2 == 0:\n",
    "        return (x[index - 1] + x[index]) / 2 \n",
    "    else:\n",
    "        return x[index]\n",
    "\n",
    "median(arbitrary_int)"
   ]
  },
  {
   "cell_type": "code",
   "execution_count": null,
   "metadata": {},
   "outputs": [],
   "source": [
    "###\n",
    "\"\"\"\n",
    "Write a Python program to count the variance of a list of numbers.\n",
    "\"\"\"\n",
    "###"
   ]
  },
  {
   "cell_type": "code",
   "execution_count": null,
   "metadata": {},
   "outputs": [],
   "source": [
    "arbitrary_int: list[int] = [random.randint(1, 50) for i in range(10)]\n",
    "arbitrary_int.sort()\n",
    "print(arbitrary_int)\n",
    "\n",
    "def variance(a: list[float]):\n",
    "    n: int = len (a)\n",
    "    sum_x: float = 0\n",
    "    mean: float = 0\n",
    "    \n",
    "    for i in a:\n",
    "        sum_x += i\n",
    "    mean = sum_x / n\n",
    "    \n",
    "    sum = 0\n",
    "    for i in a:\n",
    "        x_mean_quadrat = (i - mean)**2\n",
    "        sum += x_mean_quadrat\n",
    "    \n",
    "    variance = sum / (n-1)    \n",
    "    \n",
    "    return variance\n",
    "\n",
    "variance(arbitrary_int)"
   ]
  },
  {
   "cell_type": "code",
   "execution_count": null,
   "metadata": {},
   "outputs": [],
   "source": [
    "arbitrary_int: list[int] = [random.randint(1, 50) for _ in range(10)]\n",
    "arbitrary_int.sort()\n",
    "print(arbitrary_int)\n",
    "\n",
    "def variance(a: list[float]):\n",
    "    n: int = len (a)\n",
    "    sum_x: float = 0\n",
    "\n",
    "    mean: float = 0\n",
    "    x_mean_quadrat: float = 0\n",
    "\n",
    "    [sum_x:= sum_x + i for i in a]\n",
    "    mean = sum_x / n\n",
    "\n",
    "    [x_mean_quadrat:=  x_mean_quadrat + ((i - mean)**2) for i in a]\n",
    "    \n",
    "    return x_mean_quadrat / (n - 1)\n",
    "\n",
    "variance(arbitrary_int)"
   ]
  },
  {
   "cell_type": "code",
   "execution_count": null,
   "metadata": {},
   "outputs": [],
   "source": [
    "### IMPORTANT \n",
    "\"\"\"\n",
    "Write a Python program to access a specific element at a given index of a list. (Without using the built in operator/method [].)\n",
    "\"\"\"\n",
    "###"
   ]
  },
  {
   "cell_type": "code",
   "execution_count": null,
   "metadata": {},
   "outputs": [],
   "source": [
    "arbitrary_int: list[int] = [random.randint(1, 50) for _ in range(10)]\n",
    "arbitrary_int.sort()\n",
    "print(arbitrary_int)\n",
    "\n",
    "def index(a: int, b=arbitrary_int):\n",
    "    counter = 0\n",
    "    for _ in b:\n",
    "        x = _\n",
    "        \n",
    "        if counter == a:\n",
    "            break\n",
    "        else:\n",
    "            counter += 1\n",
    "        \n",
    "    return x\n",
    "\n",
    "index(4)"
   ]
  },
  {
   "cell_type": "code",
   "execution_count": null,
   "metadata": {},
   "outputs": [],
   "source": [
    "# VERY IMPORTANT\n",
    "arbitrary_int = [8, 17, 18, 20, 21, 21, 27, 29, 35, 39]\n",
    "\n",
    "counter = 0\n",
    "index = 4\n",
    "x = None # x will store the last value of val in each iteration (x becomes like a global variable outside a list comprehension subclass)\n",
    "\n",
    "[[x:= val, counter:= counter + 1] for val in arbitrary_int if counter < index + 1]\n",
    "print(x)\n"
   ]
  },
  {
   "cell_type": "code",
   "execution_count": null,
   "metadata": {},
   "outputs": [],
   "source": [
    "# IMPORTANT\n",
    "\n",
    "arbitrary_int = [8, 17, 18, 20, 21, 21, 27, 29, 35, 39]\n",
    "counter = 0\n",
    "index = 4\n",
    "# First: the loop starts from for val in arbitrary_int if counter < index + 1 (counter here is equal to 0)\n",
    "# Second: assigning the first value to val and executing counter:= counter + 1 \n",
    "alternative_1 = [[val, counter:= counter + 1] for val in arbitrary_int if counter < index + 1]\n",
    "print(alternative_1)\n",
    "\n",
    "counter = 0\n",
    "index = 4\n",
    "# First: the loop starts from for val in arbitrary_int if (counter:= counter + 1) < index + 1 (counter here is equal to 0)\n",
    "# Second: assigning the first value to val\n",
    "alternative_2 = [val for val in arbitrary_int if (counter:= counter + 1) < index + 1]\n",
    "print(alternative_2)"
   ]
  },
  {
   "cell_type": "code",
   "execution_count": null,
   "metadata": {},
   "outputs": [],
   "source": [
    "### IMPORTANT \n",
    "\"\"\"\n",
    "Write a Python program that computes the median absolute deviation (MAD) of an input list of numbers.\n",
    "\"\"\"\n",
    "### the median absolute deviation (MAD). \n",
    "# MAD is a resistant measure of variability as it relies on the median as the estimate of the center of the distribution, \n",
    "# and on the absolute difference rather than the squared difference. "
   ]
  },
  {
   "cell_type": "code",
   "execution_count": null,
   "metadata": {},
   "outputs": [],
   "source": [
    "arbitrary_int = [34, 43, 29, 50, 38, 48, 47, 26, 46, 12]\n",
    "\n",
    "def mad(lst= arbitrary_int):\n",
    "    deviation = []\n",
    "    n = len(lst)\n",
    "    lst.sort()\n",
    "    middle = n // 2\n",
    "    median = (lst[middle - 1] + lst[middle]) / 2 if n % 2 == 0 else lst[middle]\n",
    "\n",
    "    [deviation.append(abs(val - median)) for val in lst]\n",
    "\n",
    "    deviation.sort()\n",
    "    return (\n",
    "        (deviation[middle - 1] + deviation[middle]) / 2\n",
    "        if n % 2 == 0\n",
    "        else deviation[middle]\n",
    "    )\n",
    "\n",
    "mad()"
   ]
  },
  {
   "cell_type": "code",
   "execution_count": null,
   "metadata": {},
   "outputs": [],
   "source": [
    "### IMPORTANT \n",
    "\"\"\"\n",
    "Write a Python program to remove duplicates from a list.\n",
    "\"\"\"\n",
    "###\n"
   ]
  },
  {
   "cell_type": "code",
   "execution_count": null,
   "metadata": {},
   "outputs": [],
   "source": [
    "# duplicates_list: list[int] = [random.randint(1, 100000) for _ in range(100000000)]\n",
    "duplicates_list = [34, 43, 29, 50, 38, 48, 47, 26, 50, 50, 29, 46, 12]\n",
    "\n",
    "def remove_duplicates(lst= arbitrary_int):\n",
    "    \n",
    "    no_duplicates = []\n",
    "    \n",
    "    for val in lst:\n",
    "        if val in no_duplicates:\n",
    "            continue\n",
    "        else:\n",
    "            no_duplicates.append(val)\n",
    "    return no_duplicates\n",
    "\n",
    "remove_duplicates()"
   ]
  },
  {
   "cell_type": "code",
   "execution_count": null,
   "metadata": {},
   "outputs": [],
   "source": [
    "# duplicates_list: list[int] = [random.randint(1, 100000) for _ in range(100000000)]\n",
    "duplicates_list = [34, 43, 29, 50, 38, 48, 47, 26, 50, 50, 29, 46, 12]\n",
    "\n",
    "def remove_duplicates(lst= duplicates_list):\n",
    "    \n",
    "    no_duplicates = []\n",
    "    \n",
    "    [no_duplicates.append(val) for val in lst if val not in no_duplicates]\n",
    "\n",
    "    return no_duplicates\n",
    "\n",
    "remove_duplicates()"
   ]
  },
  {
   "cell_type": "code",
   "execution_count": null,
   "metadata": {},
   "outputs": [],
   "source": [
    "### ChatGPT Solution:\n",
    "# ChatGPT wrote:\n",
    "# Your code has a time complexity of O(n^2) due to the linear time membership check (in on a list) in every iteration of the loop.\n",
    "# My code has a time complexity of O(n) because membership checks (in on a set) are constant time.\n",
    "\n",
    "# duplicates_list: list[int] = [random.randint(1, 100000) for _ in range(100000000)]\n",
    "duplicates_list = [34, 43, 29, 50, 38, 48, 47, 26, 50, 50, 29, 46, 12]\n",
    "\n",
    "def remove_duplicates(lst=duplicates_list):\n",
    "    seen = set()  ############# Set to track seen elements (constant time lookups O(1))\n",
    "    no_duplicates = []  # List to store unique values\n",
    "\n",
    "    for val in lst:\n",
    "        if val not in seen:  # Checking membership in a set takes constant time O(1)\n",
    "            no_duplicates.append(val)  # Appending takes constant time O(1)\n",
    "            seen.add(val)  # Adding to the set takes constant time O(1)\n",
    "    \n",
    "    return no_duplicates\n",
    "\n",
    "remove_duplicates()"
   ]
  },
  {
   "cell_type": "code",
   "execution_count": null,
   "metadata": {},
   "outputs": [],
   "source": [
    "# A new solution \n",
    "\n",
    "# duplicates_list: list[int] = [random.randint(1, 100000) for _ in range(100000000)]\n",
    "duplicates_list = [34, 43, 29, 50, 38, 48, 47, 26, 50, 50, 29, 46, 12]\n",
    "\n",
    "def remove_duplicates(lst=duplicates_list):\n",
    "    \n",
    "    no_duplicates = set(duplicates_list)\n",
    "    \n",
    "    return list(no_duplicates)\n",
    "\n",
    "remove_duplicates()\n",
    "\n",
    "\n",
    "### ChatGPT responded:\n",
    "\"\"\"My Solution (ChatGPT's solution) maintains the order of the elements as they first appear in the list, which could be important in certain use cases.\n",
    "Your New Solution (Khaldoun's solution) using set(duplicates_list) does not preserve order, as sets are unordered collections.\"\"\""
   ]
  },
  {
   "cell_type": "code",
   "execution_count": null,
   "metadata": {},
   "outputs": [],
   "source": [
    "### IMPORTANT \n",
    "\"\"\"\n",
    "Write a Python program to generate all sublists of a list.\n",
    "\"\"\"\n",
    "###"
   ]
  },
  {
   "cell_type": "code",
   "execution_count": null,
   "metadata": {},
   "outputs": [],
   "source": [
    "lst = ['a', 'b', 'c', 'd', 'e']\n",
    "\n",
    "x = []\n",
    "n = len(lst)\n",
    "\n",
    "\n",
    "for a in range(n):\n",
    "    x.append([lst[a]])\n",
    "    \n",
    "    for b in range(n): \n",
    "        x.append([lst[a], lst[b]])\n",
    "        \n",
    "        for c in range(n):\n",
    "            x.append([lst[a], lst[b], lst[c]])\n",
    "            \n",
    "            for d in range(n): \n",
    "                x.append([lst[a], lst[b], lst[c], lst[d]])\n",
    "                \n",
    "                for e in range(n): \n",
    "                    x.append([lst[a], lst[b], lst[c], lst[d], lst[e]])\n",
    "                    \n",
    "len(x) "
   ]
  },
  {
   "cell_type": "code",
   "execution_count": null,
   "metadata": {},
   "outputs": [],
   "source": [
    "### Does not include all combinations\n",
    "lst = ['a', 'b', 'c', 'd', 'e']\n",
    "n = len(lst)\n",
    "\n",
    "x = [[lst[a]] for a in range(n)]\n",
    "x += [[lst[a], lst[b]] for a in range(n) for b in range(n)]\n",
    "x += [[lst[a], lst[b], lst[c]] for a in range(n) for b in range(n) for c in range(n)]\n",
    "x += [[lst[a], lst[b], lst[c], lst[d]] for a in range(n) for b in range(n) for c in range(n) for d in range(n)]\n",
    "\n",
    "len(x)"
   ]
  },
  {
   "cell_type": "code",
   "execution_count": null,
   "metadata": {},
   "outputs": [],
   "source": [
    "### Does not include all combinations\n",
    "lst = ['a', 'b', 'c', 'd', 'e']\n",
    "n = len(lst)\n",
    "\n",
    "x = (\n",
    "    [[lst[a]] for a in range(n)] +  \n",
    "    [[lst[a], lst[b]] for a in range(n) for b in range(n)] + \n",
    "    [[lst[a], lst[b], lst[c]] for a in range(n) for b in range(n) for c in range(n)] +  \n",
    "    [[lst[a], lst[b], lst[c], lst[d]] for a in range(n) for b in range(n) for c in range(n) for d in range(n)] \n",
    ")\n",
    "len(x) "
   ]
  },
  {
   "cell_type": "code",
   "execution_count": null,
   "metadata": {},
   "outputs": [],
   "source": [
    "###\n",
    "\"\"\"\n",
    "Write a Python program that accepts a filename from the user and prints the extension of the file.\n",
    "\"\"\"\n",
    "###"
   ]
  },
  {
   "cell_type": "code",
   "execution_count": null,
   "metadata": {},
   "outputs": [],
   "source": [
    "filename: str = 'windows.exe'\n",
    "def filename_separator(arg:str =filename):\n",
    "    return print(\"The file type: {}\".format(str(filename).split('.')[1]))\n",
    "\n",
    "filename_separator()"
   ]
  },
  {
   "cell_type": "code",
   "execution_count": null,
   "metadata": {},
   "outputs": [],
   "source": [
    "###\n",
    "\"\"\"\n",
    "Write a Python program that counts the number character \"p\" (or any given character) occurs in a string.\n",
    "\"\"\"\n",
    "###"
   ]
  },
  {
   "cell_type": "code",
   "execution_count": null,
   "metadata": {},
   "outputs": [],
   "source": [
    "string_variable: str = 'Write a Python program that counts the number character \"p\" (or any given character) occurs in a string.'\n",
    "character: str = 'c'\n",
    "\n",
    "def character_count(arg:str =string_variable, char:str = character):\n",
    "    return print(\"The number of character [{}] in the text: [{}]\".format(char, string_variable.count(character)))\n",
    "\n",
    "character_count()"
   ]
  },
  {
   "cell_type": "code",
   "execution_count": null,
   "metadata": {},
   "outputs": [],
   "source": [
    "###\n",
    "\"\"\"\n",
    "Write a Python program that replaces all e-s in a string with 3 and all o-s with 0.\n",
    "\"\"\"\n",
    "###"
   ]
  },
  {
   "cell_type": "code",
   "execution_count": null,
   "metadata": {},
   "outputs": [],
   "source": [
    "my_text_1: str = 'Please keep doing your job and call me when you need!'\n",
    "my_replace_dict: dict = {'e': 3, 'o': 0}\n",
    "\n",
    "\n",
    "def replacement(tex: str= my_text_1, rep: dict= my_replace_dict) -> str:\n",
    "    for character, value in rep.items():\n",
    "        print('old character    >>> ', character)\n",
    "        print('new character    >>> ', value)\n",
    "        tex = tex.replace(character, str(value))\n",
    "        print('Replaced text    >>> ', tex)\n",
    "    return print('\\nFinal text    >>>', tex)\n",
    "\n",
    "replacement()"
   ]
  },
  {
   "cell_type": "code",
   "execution_count": null,
   "metadata": {},
   "outputs": [],
   "source": [
    "###\n",
    "\"\"\"\n",
    "Write a Python program that counts the number of vowels and consonants in a input string.\n",
    "\"\"\"\n",
    "###"
   ]
  },
  {
   "cell_type": "code",
   "execution_count": null,
   "metadata": {},
   "outputs": [],
   "source": [
    "test: str = 'Please keep doing your job and call me when you need!'\n",
    "\n",
    "def vowels_consonants(test: str = test):\n",
    "\n",
    "    swedish_vowels: list[str] = ['a', 'e', 'i', 'o', 'u', 'y', 'å', 'ä', 'ö']\n",
    "    swedish_consonants: list[str] = ['b', 'c', 'd', 'f', 'g', 'h', 'j', 'k', 'l', 'm', 'n', 'p', 'q', 'r', 's', 't', 'v', 'w', 'x', 'z']\n",
    "    \n",
    "    vowels_dict: dict = {}\n",
    "    # consonants_dict: dict = {}\n",
    "    \n",
    "    [(vowels_dict.update({char : test.count(char)}) if char in test else next) for char in swedish_vowels]\n",
    "\n",
    "    consonants_dict = {char : test.count(char) for char in swedish_consonants if char in test}\n",
    "\n",
    "    return vowels_dict, consonants_dict\n",
    "\n",
    "vo, co = vowels_consonants()\n",
    "\n",
    "print (f\"Vowels: {vo}.\")\n",
    "print (f\"Consonants: {co}\")"
   ]
  },
  {
   "cell_type": "code",
   "execution_count": null,
   "metadata": {},
   "outputs": [],
   "source": [
    "###\n",
    "\"\"\"\n",
    "Write a Python program that takes a specific substring of string from a given start and end position (without using the built-in function). \n",
    "\"\"\"\n",
    "###\n"
   ]
  },
  {
   "cell_type": "code",
   "execution_count": null,
   "metadata": {},
   "outputs": [],
   "source": [
    "c: str = \"Write a Python program that takes a specific substring of string from a given start and end position\"\n",
    "\n",
    "def text_slicer(start:int, end:int, text: str = c) -> str:\n",
    "    # sourcery skip: convert-to-enumerate, hoist-statement-from-if, move-assign-in-block\n",
    "    counter = 0\n",
    "    slices = ''\n",
    "    for x in text:\n",
    "        if counter in range(start, end + 1):\n",
    "            slices += x\n",
    "        counter += 1\n",
    "\n",
    "    return print(slices)\n",
    "\n",
    "text_slicer(0, 32)"
   ]
  },
  {
   "cell_type": "code",
   "execution_count": null,
   "metadata": {},
   "outputs": [],
   "source": [
    "###\n",
    "\"\"\"\n",
    "Write a Python program that count the number of words in an input sentence. \n",
    "\"\"\"\n",
    "###"
   ]
  },
  {
   "cell_type": "code",
   "execution_count": null,
   "metadata": {},
   "outputs": [],
   "source": [
    "d: str = \"Write a Python program that count the number of words in an input sentence.\"\n",
    "\n",
    "def words_counter(text: str = d) -> None:\n",
    "    \n",
    "    splitted_list: list[str] = d.split(' ')\n",
    "    print(f\"Number of words: [{len(splitted_list)}]\")\n",
    "    \n",
    "words_counter()"
   ]
  },
  {
   "cell_type": "code",
   "execution_count": null,
   "metadata": {},
   "outputs": [],
   "source": [
    "###\n",
    "\"\"\"\n",
    "Write a Python program to get a string from a given string where all occurrences of its first char have been changed to '$', except the first char itself. \n",
    "\"\"\"\n",
    "###\n"
   ]
  },
  {
   "cell_type": "code",
   "execution_count": null,
   "metadata": {},
   "outputs": [],
   "source": []
  },
  {
   "cell_type": "code",
   "execution_count": null,
   "metadata": {},
   "outputs": [],
   "source": [
    "###\n",
    "\"\"\"\n",
    "Write a Python program that takes a sentence and returns the longest word and its length. \n",
    "\"\"\"\n",
    "###"
   ]
  },
  {
   "cell_type": "code",
   "execution_count": null,
   "metadata": {},
   "outputs": [],
   "source": [
    "e: str = \"Write a Python program that takes a sentence and returns the longest word and its length.\"\n",
    "\n",
    "def longest(sentence: str= e) -> str:\n",
    "    initial_word: str = \"\"\n",
    "    for word in sentence.split(\" \"):\n",
    "        if len(word) > len(initial_word):\n",
    "            initial_word = word\n",
    "    return print(f\"The longest word is [{initial_word}] and it has a length of: [{len(initial_word)}] characters.\")\n",
    "\n",
    "longest()"
   ]
  },
  {
   "cell_type": "code",
   "execution_count": null,
   "metadata": {},
   "outputs": [],
   "source": [
    "###\n",
    "\"\"\"\n",
    "Write a Python program to find the first repeated word in a given string.\n",
    "\"\"\"\n",
    "###"
   ]
  },
  {
   "cell_type": "code",
   "execution_count": null,
   "metadata": {},
   "outputs": [],
   "source": [
    "f: str = \" Write a Python program to find the first repeated word in a given string ... \"\n",
    "\n",
    "def repeated(sentence: str= f) -> str:  # sourcery skip: use-assigned-variable\n",
    "\n",
    "    word = \"\"\n",
    "    sentence = sentence.strip()\n",
    "\n",
    "    while True:\n",
    "        last_full_stop = sentence.rfind(\".\")\n",
    "        if last_full_stop == len(sentence) - 1:\n",
    "            sentence = sentence[:-1]\n",
    "        else:\n",
    "            break\n",
    "    \n",
    "    splitted_list = sentence.split(\" \")\n",
    "\n",
    "    new_splitted_list = splitted_list.copy()\n",
    "    \n",
    "    for word in splitted_list:\n",
    "        \n",
    "        new_splitted_list.remove(word)\n",
    "\n",
    "        if word in new_splitted_list:\n",
    "            return print(f\"The first repeated word in a given string: [{word}]\")\n",
    "        \n",
    "repeated()"
   ]
  },
  {
   "cell_type": "code",
   "execution_count": null,
   "metadata": {},
   "outputs": [],
   "source": [
    "###\n",
    "\"\"\"\n",
    "Write a Python program that takes a string and removes any excess white spaces between the words of the sentence. \n",
    "In other words, ensure that there is only a single whitespace between the words in the string. \n",
    "\"\"\"\n",
    "###"
   ]
  },
  {
   "cell_type": "code",
   "execution_count": null,
   "metadata": {},
   "outputs": [],
   "source": [
    "g: str = \"  Write  a   Python program that. \"\n",
    "\n",
    "def single_whitespace(sentence: str= g) -> str:  \n",
    "    \n",
    "    clean_sentence = \"\"\n",
    "    \n",
    "    sentence = sentence.strip()\n",
    "    splitted = sentence.split(\" \")\n",
    "\n",
    "    for word in splitted:\n",
    "\n",
    "        if word != '':\n",
    "            if clean_sentence != '':\n",
    "                clean_sentence += ' '\n",
    "            clean_sentence += word\n",
    "    \n",
    "    return clean_sentence\n",
    "\n",
    "single_whitespace()"
   ]
  },
  {
   "cell_type": "code",
   "execution_count": null,
   "metadata": {},
   "outputs": [],
   "source": [
    "g: str = \"  Write  a   Python program that. \"\n",
    "\n",
    "def single_whitespace(sentence: str= g) -> str:  \n",
    "    \n",
    "    words = sentence.strip().split()\n",
    "\n",
    "    # Join words with a single space\n",
    "    clean_sentence = ' '.join(words)\n",
    "\n",
    "    return clean_sentence\n",
    "\n",
    "single_whitespace()"
   ]
  },
  {
   "cell_type": "code",
   "execution_count": null,
   "metadata": {},
   "outputs": [],
   "source": [
    "###\n",
    "\"\"\"\n",
    "Write a function in Python that takes two lists as arguments and returns the union of the lists.\n",
    "\"\"\"\n",
    "###"
   ]
  },
  {
   "cell_type": "code",
   "execution_count": null,
   "metadata": {},
   "outputs": [],
   "source": [
    "# sourcery skip: identity-comprehension\n",
    "list_1: list[int] = list(range(0, 8))\n",
    "print('List 1: ', list_1)\n",
    "list_2: list[int] = [x for x in range(5, 13)]\n",
    "print('List 2: ', list_2)\n",
    "\n",
    "def lists_union(l1 = list_1, l2 = list_2):\n",
    "    union = (\n",
    "        [a for a in l1 if a not in l2] +\n",
    "        [b for b in l2 if b not in l1] + \n",
    "        [c for c in l1 if c in l2]\n",
    "    )    \n",
    "    union.sort()\n",
    "    return print(union)\n",
    "\n",
    "lists_union()\n",
    "\n",
    "\n"
   ]
  },
  {
   "cell_type": "code",
   "execution_count": null,
   "metadata": {},
   "outputs": [],
   "source": [
    "###\n",
    "\"\"\"\n",
    "Write a function in Python that takes two lists as arguments and returns the intersection of the lists.\n",
    "\"\"\"\n",
    "###"
   ]
  },
  {
   "cell_type": "code",
   "execution_count": null,
   "metadata": {},
   "outputs": [],
   "source": [
    "\n",
    "list_1: list[int] = list(range(0, 8))       # List 1:  [0, 1, 2, 3, 4, 5, 6, 7]\n",
    "\n",
    "list_2: list[int] = list(range(5, 13))      # List 2:  [5, 6, 7, 8, 9, 10, 11, 12]\n",
    "\n",
    "\n",
    "def lists_intersection(l1 = list_1, l2 = list_2):\n",
    "    intersection = [x for x in l1 if x in l2]\n",
    "    intersection.sort()\n",
    "    return print(intersection)\n",
    "\n",
    "lists_intersection()\n"
   ]
  },
  {
   "cell_type": "code",
   "execution_count": null,
   "metadata": {},
   "outputs": [],
   "source": [
    "###\n",
    "\"\"\"\n",
    "Write a Python function to get the frequency of elements in a list.\n",
    "\"\"\"\n",
    "###"
   ]
  },
  {
   "cell_type": "code",
   "execution_count": null,
   "metadata": {},
   "outputs": [],
   "source": [
    "import random\n",
    "\n",
    "counting = {}\n",
    "list_3 = [chr(l) for l in random.choices(range(97, 122), k=20)]\n",
    "\n",
    "for _ in list_3:\n",
    "    if _ not in counting:\n",
    "        counting[_] = list_3.count(_)\n",
    "\n",
    "sorted_counting = sorted(counting.items(), key=lambda x: x[1], reverse=True)\n",
    "\n",
    "for letter, frequency in sorted_counting:\n",
    "    print(f\"{letter}: {frequency}\")"
   ]
  },
  {
   "cell_type": "code",
   "execution_count": null,
   "metadata": {},
   "outputs": [],
   "source": [
    "###\n",
    "\"\"\"\n",
    "Write a Python function that takes a list of tuples in the form of (Student:grade) and computes the average grade for all students..\n",
    "\"\"\"\n",
    "###"
   ]
  },
  {
   "cell_type": "code",
   "execution_count": null,
   "metadata": {},
   "outputs": [],
   "source": [
    "import random\n",
    "\n",
    "students_grades = [\n",
    "        (student, grade) for student, grade in \n",
    "        zip(\n",
    "                [chr(x) for x in random.choices(range(97, 122), k=10)], \n",
    "                [x for x in random.choices(range(100), k=10)]\n",
    "                )\n",
    "        ]\n",
    "students_grades\n",
    "average = sum([grad for _, grad in students_grades]) / len(students_grades)\n",
    "print(f'Average: {average}')"
   ]
  },
  {
   "cell_type": "code",
   "execution_count": null,
   "metadata": {},
   "outputs": [],
   "source": [
    "###\n",
    "\"\"\"\n",
    "Write a Python function to generate and print a dictionary that contains a number (between 1 and n) in the form (x, x*x)..\n",
    "\"\"\"\n",
    "###\n",
    "\n"
   ]
  },
  {
   "cell_type": "code",
   "execution_count": null,
   "metadata": {},
   "outputs": [],
   "source": [
    "import random\n",
    "random_list = random.choices(range(10), k=10)\n",
    "numbers = dict([(str(x), x*x) for x in random_list])\n",
    "for number, self_multiplier in numbers.items():\n",
    "    print(number, self_multiplier)\n",
    "# The issue you're seeing might be because the random.choices() function can produce duplicate numbers, \n",
    "# but dictionaries in Python don't allow duplicate keys. "
   ]
  },
  {
   "cell_type": "code",
   "execution_count": null,
   "metadata": {},
   "outputs": [],
   "source": [
    "###\n",
    "\"\"\"\n",
    "Write a Python program to remove duplicates from a list using sets..\n",
    "\"\"\"\n",
    "###"
   ]
  },
  {
   "cell_type": "code",
   "execution_count": null,
   "metadata": {},
   "outputs": [],
   "source": [
    "import random\n",
    "\n",
    "random_list = [chr(x) for x in random.choices(range(97, 122), k= 10)]\n",
    "print(sorted(random_list))\n",
    "random_set = set(random_list)\n",
    "print(sorted(list(random_set)))"
   ]
  },
  {
   "cell_type": "code",
   "execution_count": null,
   "metadata": {},
   "outputs": [],
   "source": [
    "###\n",
    "\"\"\"\n",
    "Write a Python program to find the first repeated word in a given string using sets.\n",
    "\"\"\"\n",
    "###"
   ]
  },
  {
   "cell_type": "code",
   "execution_count": null,
   "metadata": {},
   "outputs": [],
   "source": [
    "text = \"I and her are going to the cinema tomorrow and we are going to bring the night at\"\n",
    "text_as_list_1 = text.split()\n",
    "\n",
    "text_as_list_2 = list(set(text_as_list_1))\n",
    "\n",
    "for word in text_as_list_2:\n",
    "    text_as_list_1.remove(word)\n",
    "\n",
    "print(text_as_list_1)"
   ]
  },
  {
   "cell_type": "code",
   "execution_count": null,
   "metadata": {},
   "outputs": [],
   "source": [
    "###\n",
    "\"\"\"\n",
    "Write a Python function to generate all permutations of a list in Python.\n",
    "\"\"\"\n",
    "###"
   ]
  },
  {
   "cell_type": "code",
   "execution_count": 38,
   "metadata": {},
   "outputs": [
    {
     "name": "stdout",
     "output_type": "stream",
     "text": [
      "AA\n",
      "AB\n",
      "AC\n",
      "BA\n",
      "BB\n",
      "BC\n",
      "CA\n",
      "CB\n",
      "CC\n"
     ]
    }
   ],
   "source": [
    "char_list = ['A', 'B', 'C']\n",
    "\n",
    "permutations_list = [f'{a}{b}' for a in char_list for b in char_list]\n",
    "for _ in permutations_list:\n",
    "    print(_)"
   ]
  },
  {
   "cell_type": "code",
   "execution_count": null,
   "metadata": {},
   "outputs": [],
   "source": [
    "###\n",
    "\"\"\"\n",
    "Write a Python function that takes a list of numbers and returns all unique pairs of the elements of the list.\n",
    "\"\"\"\n",
    "###"
   ]
  },
  {
   "cell_type": "code",
   "execution_count": 47,
   "metadata": {},
   "outputs": [
    {
     "name": "stdout",
     "output_type": "stream",
     "text": [
      "[(0, 1), (0, 2), (1, 0), (1, 2), (2, 0), (2, 1)]\n"
     ]
    }
   ],
   "source": [
    "number_list = [0, 1, 2]\n",
    "\n",
    "permutations_list = [(x, y) for x in number_list for y in number_list]\n",
    "\n",
    "for element in permutations_list:\n",
    "    if element[0] == element[1]:\n",
    "        permutations_list.remove(element)\n",
    "print(permutations_list)\n",
    "        "
   ]
  },
  {
   "cell_type": "code",
   "execution_count": null,
   "metadata": {},
   "outputs": [],
   "source": []
  }
 ],
 "metadata": {
  "kernelspec": {
   "display_name": "Python 3",
   "language": "python",
   "name": "python3"
  },
  "language_info": {
   "codemirror_mode": {
    "name": "ipython",
    "version": 3
   },
   "file_extension": ".py",
   "mimetype": "text/x-python",
   "name": "python",
   "nbconvert_exporter": "python",
   "pygments_lexer": "ipython3",
   "version": "3.12.5"
  }
 },
 "nbformat": 4,
 "nbformat_minor": 2
}
