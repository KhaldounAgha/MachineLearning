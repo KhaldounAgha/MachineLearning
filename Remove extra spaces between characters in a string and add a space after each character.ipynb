{
 "cells": [
  {
   "cell_type": "code",
   "execution_count": 1,
   "metadata": {},
   "outputs": [
    {
     "data": {
      "text/plain": [
       "'A B C D F G H'"
      ]
     },
     "execution_count": 1,
     "metadata": {},
     "output_type": "execute_result"
    }
   ],
   "source": [
    "## Remove extra spaces between characters in a string and add a space after each character.\n",
    "\n",
    "example_1 = \"ABCD   F G    H\"\n",
    "\n",
    "def remove_excess(sentence: str) -> str:\n",
    "    \n",
    "    words_list: list[str] = []\n",
    "    joined_str: str = \"\"\n",
    "    \n",
    "    for i in sentence:\n",
    "        words_list.append(i)\n",
    "        if i == \" \" and words_list[-1] == \" \":\n",
    "            words_list = words_list[:-1]\n",
    "\n",
    "    for ii in range(len(words_list)):\n",
    "\n",
    "        for letter in words_list[ii]:\n",
    "            \n",
    "            if ii < len(words_list) - 1:\n",
    "                joined_str = joined_str + letter + \" \"\n",
    "            else:\n",
    "                joined_str = joined_str + letter\n",
    "        \n",
    "    return joined_str\n",
    "\n",
    "remove_excess(example_1)"
   ]
  }
 ],
 "metadata": {
  "kernelspec": {
   "display_name": "Python 3",
   "language": "python",
   "name": "python3"
  },
  "language_info": {
   "codemirror_mode": {
    "name": "ipython",
    "version": 3
   },
   "file_extension": ".py",
   "mimetype": "text/x-python",
   "name": "python",
   "nbconvert_exporter": "python",
   "pygments_lexer": "ipython3",
   "version": "3.12.5"
  }
 },
 "nbformat": 4,
 "nbformat_minor": 2
}
