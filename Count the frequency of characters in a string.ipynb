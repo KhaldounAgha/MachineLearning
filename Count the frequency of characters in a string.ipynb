{
 "cells": [
  {
   "cell_type": "code",
   "execution_count": 1,
   "metadata": {},
   "outputs": [
    {
     "data": {
      "text/plain": [
       "{'i': 1,\n",
       " ' ': 9,\n",
       " 'a': 4,\n",
       " 'm': 2,\n",
       " 'g': 1,\n",
       " 'o': 5,\n",
       " 'd': 1,\n",
       " 'n': 2,\n",
       " 'w': 2,\n",
       " 'h': 3,\n",
       " 't': 3,\n",
       " 'e': 2,\n",
       " 'l': 1,\n",
       " 'p': 1,\n",
       " 'r': 1,\n",
       " 's': 1}"
      ]
     },
     "execution_count": 1,
     "metadata": {},
     "output_type": "execute_result"
    }
   ],
   "source": [
    "## Count the frequency of characters in a string.\n",
    "\n",
    "text: str = 'I am a good man who want to help others'\n",
    "\n",
    "def count_chr(text: str) -> dict:\n",
    "    text_dict: dict = {}\n",
    "    text = text.lower()\n",
    "    for i in text:\n",
    "        text_dict[i] = text_dict.get(i, 0) + 1\n",
    "    \n",
    "    return text_dict\n",
    "\n",
    "count_chr(text)"
   ]
  },
  {
   "cell_type": "code",
   "execution_count": 1,
   "metadata": {},
   "outputs": [
    {
     "data": {
      "text/plain": [
       "[{0: 'W'},\n",
       " {1: 'd'},\n",
       " {1: 'm'},\n",
       " {1: 's'},\n",
       " {1: 'q'},\n",
       " {2: 'r'},\n",
       " {2: 'i'},\n",
       " {2: 'a'},\n",
       " {2: 'f'},\n",
       " {2: 'u'},\n",
       " {2: 'c'},\n",
       " {2: 'o'},\n",
       " {2: 'l'},\n",
       " {3: 'n'},\n",
       " {4: 't'},\n",
       " {4: 'e'}]"
      ]
     },
     "execution_count": 1,
     "metadata": {},
     "output_type": "execute_result"
    }
   ],
   "source": [
    "## Count the frequencies and corresponding characters in a string.\n",
    "\n",
    "string = ' Write a function called most_frequent'\n",
    "\n",
    "def most_frequent(string: str) -> list:\n",
    "    \n",
    "    dont_count = ['/', '-', '_', '?', '=', ')', ' ', '(', '&', '%', '¤', '#', '\"', '!', \"'\", '*', ',', ';', '.', ':', '|', '>', '<', '½', '[', ']', '{', '}']\n",
    "    \n",
    "    letter_dictionary = {letter: string.lower().count(letter) for letter in string if letter not in dont_count}\n",
    "\n",
    "    ordered_frequency = []\n",
    "\n",
    "    sorted_frequencies = sorted(set(letter_dictionary.values()))\n",
    "\n",
    "    [ordered_frequency.append({value: key}) for frequency in sorted_frequencies for key, value in letter_dictionary.items() if value == frequency]\n",
    "\n",
    "    return ordered_frequency\n",
    "\n",
    "most_frequent(string)"
   ]
  }
 ],
 "metadata": {
  "kernelspec": {
   "display_name": "Python 3",
   "language": "python",
   "name": "python3"
  },
  "language_info": {
   "codemirror_mode": {
    "name": "ipython",
    "version": 3
   },
   "file_extension": ".py",
   "mimetype": "text/x-python",
   "name": "python",
   "nbconvert_exporter": "python",
   "pygments_lexer": "ipython3",
   "version": "3.12.5"
  }
 },
 "nbformat": 4,
 "nbformat_minor": 2
}
