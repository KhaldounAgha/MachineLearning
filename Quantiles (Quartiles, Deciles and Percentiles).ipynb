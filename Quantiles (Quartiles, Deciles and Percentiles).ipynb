{
 "cells": [
  {
   "cell_type": "code",
   "execution_count": 7,
   "metadata": {},
   "outputs": [],
   "source": [
    "import numpy as np\n",
    "import random\n",
    "import matplotlib.pyplot as plt"
   ]
  },
  {
   "cell_type": "code",
   "execution_count": 8,
   "metadata": {},
   "outputs": [],
   "source": [
    "## REMEMBER ## Defining common types of Quantiles: Quartiles, Deciles and Percentiles."
   ]
  },
  {
   "cell_type": "code",
   "execution_count": 9,
   "metadata": {},
   "outputs": [],
   "source": [
    "## Define the array (example dataset)\n",
    "arr = np.array([5, 7, 8, 10, 12, 15, 18, 20, 22, 25])"
   ]
  },
  {
   "cell_type": "code",
   "execution_count": 10,
   "metadata": {},
   "outputs": [
    {
     "name": "stdout",
     "output_type": "stream",
     "text": [
      "First Quartile Q1= 8.5\n",
      "Second Quartile (Median) Q2= 13.5\n",
      "Third Quartile Q3= 19.5, Median= 13.5\n",
      "\n"
     ]
    }
   ],
   "source": [
    "## Quartiles (divide data into 4 parts)\n",
    "# The numpy.quantile function uses a method called linear interpolation to calculate quantiles. \n",
    "# Therefore you received First Quartile Q1= 8.5 instead of 8\n",
    "Q1 = np.quantile(a=arr, q=0.25) \n",
    "Q2 = np.quantile(a=arr, q=0.5)\n",
    "Q3 = np.quantile(a=arr, q=0.75)\n",
    "median = np.median(a=arr)\n",
    "\n",
    "print(f'First Quartile Q1= {Q1}'), \n",
    "print(f'Second Quartile (Median) Q2= {Q2}'), \n",
    "print(f'Third Quartile Q3= {Q3}, Median= {median}\\n')"
   ]
  },
  {
   "cell_type": "code",
   "execution_count": 11,
   "metadata": {},
   "outputs": [
    {
     "name": "stdout",
     "output_type": "stream",
     "text": [
      "First Decile= 6.8\n",
      "Second Decile= 7.8\n",
      "Third Decile= 9.4\n",
      "Fourth Decile= 11.2\n",
      "Fifth Decile= 13.5\n",
      "Sixth Decile= 16.2\n",
      "Seventh Decile= 18.6\n",
      "Eighth Decile= 20.4\n",
      "Ninth Decile= 22.3\n",
      "Tenth Decile= 25.0\n",
      "\n"
     ]
    }
   ],
   "source": [
    "## Deciles (divide data into 10 parts)\n",
    "D1 = np.quantile(a=arr, q=0.1)\n",
    "D2 = np.quantile(a=arr, q=0.2)\n",
    "D3 = np.quantile(a=arr, q=0.3)\n",
    "D4 = np.quantile(a=arr, q=0.4)\n",
    "D5 = np.quantile(a=arr, q=0.5)\n",
    "D6 = np.quantile(a=arr, q=0.6)\n",
    "D7 = np.quantile(a=arr, q=0.7)\n",
    "D8 = np.quantile(a=arr, q=0.8)\n",
    "D9 = np.quantile(a=arr, q=0.9)\n",
    "D10 = np.quantile(a=arr, q=1.0)\n",
    "\n",
    "print(f'First Decile= {D1}'), \n",
    "print(f'Second Decile= {D2}'), \n",
    "print(f'Third Decile= {D3:.1f}'), \n",
    "print(f'Fourth Decile= {D4}'), \n",
    "print(f'Fifth Decile= {D5}'), \n",
    "print(f'Sixth Decile= {D6}'), \n",
    "print(f'Seventh Decile= {D7}'), \n",
    "print(f'Eighth Decile= {D8}'), \n",
    "print(f'Ninth Decile= {D9:.1f}'), \n",
    "print(f'Tenth Decile= {D10}\\n')"
   ]
  },
  {
   "cell_type": "code",
   "execution_count": 12,
   "metadata": {},
   "outputs": [
    {
     "name": "stdout",
     "output_type": "stream",
     "text": [
      "First Percentile= 5.18\n",
      "Second Percentile= 5.36\n",
      "Third Percentile= 5.54\n",
      "Ninety-Eighth Percentile= 24.46\n",
      "Ninety-Ninth Percentile= 24.73\n",
      "Hundredth Percentile= 25.0\n",
      "\n"
     ]
    }
   ],
   "source": [
    "## Percentiles (divide data into 100 parts)\n",
    "P1 = np.quantile(a=arr, q=0.01)\n",
    "P2 = np.quantile(a=arr, q=0.02)\n",
    "P3 = np.quantile(a=arr, q=0.03)\n",
    "P98 = np.quantile(a=arr, q=0.98)\n",
    "P99 = np.quantile(a=arr, q=0.99)\n",
    "P100 = np.quantile(a=arr, q=1.0)  \n",
    "\n",
    "print(f'First Percentile= {P1}'), \n",
    "print(f'Second Percentile= {P2}'), \n",
    "print(f'Third Percentile= {P3}'), \n",
    "print(f'Ninety-Eighth Percentile= {P98}'), \n",
    "print(f'Ninety-Ninth Percentile= {P99}'), \n",
    "print(f'Hundredth Percentile= {P100}\\n')"
   ]
  }
 ],
 "metadata": {
  "kernelspec": {
   "display_name": "Python 3",
   "language": "python",
   "name": "python3"
  },
  "language_info": {
   "codemirror_mode": {
    "name": "ipython",
    "version": 3
   },
   "file_extension": ".py",
   "mimetype": "text/x-python",
   "name": "python",
   "nbconvert_exporter": "python",
   "pygments_lexer": "ipython3",
   "version": "3.12.5"
  }
 },
 "nbformat": 4,
 "nbformat_minor": 2
}
