{
 "cells": [
  {
   "cell_type": "code",
   "execution_count": 10,
   "metadata": {},
   "outputs": [],
   "source": [
    "## Examples of guest lists with varying numbers of entries\n",
    "guests_list_1 = []\n",
    "guests_list_2 = ['A']\n",
    "guests_list_3 = ['A', 'B']\n",
    "guests_list_4 = ['A', 'B', 'C']\n",
    "guests_list_5 = ['A', 'B', 'C', 'D', 'E']\n",
    "guests_list_6 = ['A', 'B', 'C', 'D', 'E', 'F']\n",
    "\n",
    "guests_list = [\"Harry\", \"Ginny\", \"Dobby\", \"Hagrid\"]\n"
   ]
  },
  {
   "cell_type": "code",
   "execution_count": 19,
   "metadata": {},
   "outputs": [],
   "source": [
    "## A function to generate combinations from guest list\n",
    "def combinations(guests_list):\n",
    "    if len(guests_list) in {0}:\n",
    "        return []\n",
    "    elif len(guests_list) in {1}:\n",
    "        return (guests_list) \n",
    "        \n",
    "    else:\n",
    "        dance_combinations = []\n",
    "        for i in range(len(guests_list) - 1):\n",
    "            for ii in range(i + 1, len(guests_list)):\n",
    "                if guests_list[i] != guests_list[ii]:\n",
    "                    dance_combinations.append((guests_list[i], guests_list[ii]))\n",
    "        return dance_combinations\n",
    "\n",
    "dance_combinations = combinations(guests_list)\n"
   ]
  },
  {
   "cell_type": "code",
   "execution_count": 20,
   "metadata": {},
   "outputs": [
    {
     "name": "stdout",
     "output_type": "stream",
     "text": [
      "_ Pair no.1:\t1 and 2\n",
      "_ Pair no.2:\t1 and 3\n",
      "_ Pair no.3:\t1 and 4\n",
      "_ Pair no.4:\t1 and 5\n",
      "_ Pair no.5:\t2 and 3\n",
      "_ Pair no.6:\t2 and 4\n",
      "_ Pair no.7:\t2 and 5\n",
      "_ Pair no.8:\t3 and 4\n",
      "_ Pair no.9:\t3 and 5\n",
      "_ Pair no.10:\t4 and 5\n"
     ]
    }
   ],
   "source": [
    "## A void function to print the dance combinations\n",
    "def print_combinations() -> None:\n",
    "    \n",
    "    if len(dance_combinations) in {0}:\n",
    "        print(\"The guest list is empty. Please enter guest names.\")\n",
    "    elif len(dance_combinations) in {1} and type(dance_combinations[0]) == str:\n",
    "        print(f\"No combinations, Only one dancer {dance_combinations[0]}\")\n",
    "    \n",
    "    else:\n",
    "        for index, pair in enumerate(dance_combinations, start= 1):\n",
    "            print(f\"_ Pair no.{index}:\\t{pair[0]} and {pair[1]}\")\n",
    "\n",
    "print_combinations()\n"
   ]
  },
  {
   "cell_type": "code",
   "execution_count": 21,
   "metadata": {},
   "outputs": [],
   "source": [
    "## A function to generate dance rounds from combinations\n",
    "def rounds(dance_combinations):\n",
    "    \n",
    "    round_list = []\n",
    "\n",
    "    if len(dance_combinations) in {0, 1}:\n",
    "        return dance_combinations\n",
    "    \n",
    "    elif len(dance_combinations) in {3}:\n",
    "        for par in dance_combinations:\n",
    "            round_list.append([par])\n",
    "        return round_list\n",
    "\n",
    "    for i in range(len(dance_combinations)):\n",
    "        \n",
    "        name1, name2 = dance_combinations[i]\n",
    "        memory = []\n",
    "        unique = []\n",
    "        \n",
    "        memory.append(dance_combinations[i])\n",
    "        unique.extend(dance_combinations[i])\n",
    "        \n",
    "        \n",
    "        for ii in range(i + 1, len(dance_combinations)):\n",
    "            if name1 not in dance_combinations[ii] and name2 not in dance_combinations[ii]:\n",
    "                new_name1, new_name2 = dance_combinations[ii]\n",
    "                if new_name1 not in unique and new_name2 not in unique:\n",
    "                    memory.append(dance_combinations[ii])\n",
    "                    unique.extend(dance_combinations[ii])\n",
    "                \n",
    "        if len(memory) > 1:        \n",
    "            round_list.append(memory)\n",
    "\n",
    "    return round_list\n",
    "    \n",
    "round_list = rounds(dance_combinations)\n"
   ]
  },
  {
   "cell_type": "code",
   "execution_count": 22,
   "metadata": {},
   "outputs": [
    {
     "name": "stdout",
     "output_type": "stream",
     "text": [
      "\n",
      "_ Round no.1: \n",
      "\t1 and 2\n",
      "\t3 and 4\n",
      "\n",
      "_ Round no.2: \n",
      "\t1 and 3\n",
      "\t2 and 4\n",
      "\n",
      "_ Round no.3: \n",
      "\t1 and 4\n",
      "\t2 and 3\n",
      "\n",
      "_ Round no.4: \n",
      "\t1 and 5\n",
      "\t2 and 3\n",
      "\n",
      "_ Round no.5: \n",
      "\t2 and 3\n",
      "\t4 and 5\n",
      "\n",
      "_ Round no.6: \n",
      "\t2 and 4\n",
      "\t3 and 5\n",
      "\n",
      "_ Round no.7: \n",
      "\t2 and 5\n",
      "\t3 and 4\n"
     ]
    }
   ],
   "source": [
    "## A void function to print dance rounds\n",
    "def print_rounds() -> None:\n",
    "    \n",
    "    if len(round_list) in {0}:\n",
    "        print(\"There are no dance rounds scheduled. The guest list is empty. Please enter guest names.\")\n",
    "    \n",
    "    elif len(round_list) in {1} and type(round_list[0]) == str:\n",
    "        print(f\"_ Round no.1:\\tOne dancer {round_list[0]}\")\n",
    "    \n",
    "    elif len(round_list) in {1} and type(round_list[0]) == tuple:\n",
    "        print(\"_ Round no.1: \")\n",
    "        print(f\"\\t {round_list[0][0]} and {round_list[0][1]}\")\n",
    "    \n",
    "    else:\n",
    "        for index, pairs in enumerate(round_list, start= 1):\n",
    "            print(f\"\\n_ Round no.{index}: \")\n",
    "        \n",
    "            for i in range(len(pairs)):\n",
    "                print(f\"\\t{pairs[i][0]} and {pairs[i][1]}\")\n",
    "        \n",
    "print_rounds()\n"
   ]
  }
 ],
 "metadata": {
  "kernelspec": {
   "display_name": "Python 3",
   "language": "python",
   "name": "python3"
  },
  "language_info": {
   "codemirror_mode": {
    "name": "ipython",
    "version": 3
   },
   "file_extension": ".py",
   "mimetype": "text/x-python",
   "name": "python",
   "nbconvert_exporter": "python",
   "pygments_lexer": "ipython3",
   "version": "3.12.5"
  }
 },
 "nbformat": 4,
 "nbformat_minor": 2
}
