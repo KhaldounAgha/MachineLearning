{
 "cells": [
  {
   "cell_type": "code",
   "execution_count": 28,
   "metadata": {},
   "outputs": [
    {
     "data": {
      "text/plain": [
       "'Emma received an e-mail from John last night.'"
      ]
     },
     "execution_count": 28,
     "metadata": {},
     "output_type": "execute_result"
    }
   ],
   "source": [
    "## Replace each character in a string using translate() with given translation table.\n",
    "\n",
    "table\n",
    "'Emma received an e-mail@ from John last night#'.translate({ord('@'): '', ord('#'): '.'})"
   ]
  },
  {
   "cell_type": "code",
   "execution_count": 29,
   "metadata": {},
   "outputs": [
    {
     "data": {
      "text/plain": [
       "{64: '', 35: '.'}"
      ]
     },
     "execution_count": 29,
     "metadata": {},
     "output_type": "execute_result"
    }
   ],
   "source": [
    "## Using maketrans() to make a translation table  \n",
    "table = str.maketrans({ord('@'): '', ord('#'): '.'})\n",
    "table"
   ]
  },
  {
   "cell_type": "code",
   "execution_count": 30,
   "metadata": {},
   "outputs": [
    {
     "data": {
      "text/plain": [
       "{64: '', 35: '.'}"
      ]
     },
     "execution_count": 30,
     "metadata": {},
     "output_type": "execute_result"
    }
   ],
   "source": [
    "## Using maketrans() to make a translation table \n",
    "table = str.maketrans({'@': '', '#': '.'})\n",
    "table"
   ]
  },
  {
   "cell_type": "code",
   "execution_count": 31,
   "metadata": {},
   "outputs": [
    {
     "data": {
      "text/plain": [
       "'Emma received an e-mail from John last night.'"
      ]
     },
     "execution_count": 31,
     "metadata": {},
     "output_type": "execute_result"
    }
   ],
   "source": [
    "## Using translate() function with maketrans() table\n",
    "'Emma received an e-mail@@ from John last night#'.translate(table)"
   ]
  },
  {
   "cell_type": "code",
   "execution_count": 32,
   "metadata": {},
   "outputs": [
    {
     "name": "stdout",
     "output_type": "stream",
     "text": [
      "['Emma', 'Jon', 'Kelly', '', None, 'Eric']\n"
     ]
    }
   ],
   "source": [
    "## Using filter() function \n",
    "str_list = [\"Emma\", \"Jon\", \" \", \"Kelly\", \"\", None, \"Eric\"]\n",
    "\n",
    "def fun(x: str):\n",
    "    return x != ' '     # Check if the element is not a single space\n",
    "\n",
    "new_list = list(filter(fun, str_list))\n",
    "\n",
    "print(new_list) "
   ]
  },
  {
   "cell_type": "code",
   "execution_count": 33,
   "metadata": {},
   "outputs": [
    {
     "name": "stdout",
     "output_type": "stream",
     "text": [
      "['Emma', 'Jon', 'Kelly', 'Eric']\n"
     ]
    }
   ],
   "source": [
    "## Using filter() function \n",
    "str_list = [\"Emma\", \"Jon\", \" \", \"Kelly\", \"\", None, \"Eric\"]\n",
    "\n",
    "new_list = list(filter(lambda x: x not in [None, ' ', ''], str_list))\n",
    "\n",
    "print(new_list) "
   ]
  }
 ],
 "metadata": {
  "kernelspec": {
   "display_name": "Python 3",
   "language": "python",
   "name": "python3"
  },
  "language_info": {
   "codemirror_mode": {
    "name": "ipython",
    "version": 3
   },
   "file_extension": ".py",
   "mimetype": "text/x-python",
   "name": "python",
   "nbconvert_exporter": "python",
   "pygments_lexer": "ipython3",
   "version": "3.12.5"
  }
 },
 "nbformat": 4,
 "nbformat_minor": 2
}
