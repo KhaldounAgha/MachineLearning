{
 "cells": [
  {
   "cell_type": "code",
   "execution_count": 3,
   "metadata": {},
   "outputs": [
    {
     "data": {
      "text/plain": [
       "{4, 5, 6}"
      ]
     },
     "execution_count": 3,
     "metadata": {},
     "output_type": "execute_result"
    }
   ],
   "source": [
    "## Find the intersection of the two sets that contains only the elements that are common to both sets.\n",
    "first_set = {1, 2, 3, 4, 5, 6}\n",
    "second_set = {4, 5, 6, 7, 8, 9, 10}\n",
    "\n",
    "sets_intersection = first_set.intersection(second_set)\n",
    "sets_intersection"
   ]
  },
  {
   "cell_type": "code",
   "execution_count": 4,
   "metadata": {},
   "outputs": [
    {
     "data": {
      "text/plain": [
       "{1, 2, 3, 4, 5, 6, 7, 8, 9, 10}"
      ]
     },
     "execution_count": 4,
     "metadata": {},
     "output_type": "execute_result"
    }
   ],
   "source": [
    "## Find the union of the two sets that contains all unique elements from both sets.\n",
    "first_set = {1, 2, 3, 4, 5, 6}\n",
    "second_set = {4, 5, 6, 7, 8, 9, 10}\n",
    "\n",
    "sets_union = first_set.union(second_set)\n",
    "sets_union"
   ]
  },
  {
   "cell_type": "code",
   "execution_count": 5,
   "metadata": {},
   "outputs": [
    {
     "data": {
      "text/plain": [
       "{1, 2, 3}"
      ]
     },
     "execution_count": 5,
     "metadata": {},
     "output_type": "execute_result"
    }
   ],
   "source": [
    "## Find the difference of the two sets that contains all the elements that are in the first set but not in the second set.\n",
    "first_set = {1, 2, 3, 4, 5, 6}\n",
    "second_set = {4, 5, 6, 7, 8, 9, 10}\n",
    "\n",
    "sets_difference = first_set.difference(second_set)\n",
    "sets_difference"
   ]
  },
  {
   "cell_type": "code",
   "execution_count": 9,
   "metadata": {},
   "outputs": [
    {
     "data": {
      "text/plain": [
       "{1, 2, 3, 7, 8, 9, 10}"
      ]
     },
     "execution_count": 9,
     "metadata": {},
     "output_type": "execute_result"
    }
   ],
   "source": [
    "## Find the symmetric difference of the two sets that contains all the elements that are not common between the two sets.\n",
    "first_set = {1, 2, 3, 4, 5, 6}\n",
    "second_set = {4, 5, 6, 7, 8, 9, 10}\n",
    "\n",
    "symmetric = second_set.symmetric_difference(first_set)\n",
    "symmetric"
   ]
  },
  {
   "cell_type": "code",
   "execution_count": 6,
   "metadata": {},
   "outputs": [
    {
     "data": {
      "text/plain": [
       "True"
      ]
     },
     "execution_count": 6,
     "metadata": {},
     "output_type": "execute_result"
    }
   ],
   "source": [
    "## Test whether every element in the set is in other.\n",
    "first_set = { 4, 5, 6}\n",
    "second_set = {4, 5, 6, 7, 8, 9, 10}\n",
    "\n",
    "subset = first_set.issubset(second_set)\n",
    "subset"
   ]
  },
  {
   "cell_type": "code",
   "execution_count": 7,
   "metadata": {},
   "outputs": [
    {
     "data": {
      "text/plain": [
       "True"
      ]
     },
     "execution_count": 7,
     "metadata": {},
     "output_type": "execute_result"
    }
   ],
   "source": [
    "## Test whether every element in other is in the set\n",
    "first_set = { 4, 5, 6}\n",
    "second_set = {4, 5, 6, 7, 8, 9, 10}\n",
    "\n",
    "subset = second_set.issuperset(first_set)\n",
    "subset"
   ]
  },
  {
   "cell_type": "code",
   "execution_count": 8,
   "metadata": {},
   "outputs": [
    {
     "data": {
      "text/plain": [
       "True"
      ]
     },
     "execution_count": 8,
     "metadata": {},
     "output_type": "execute_result"
    }
   ],
   "source": [
    "## Test whether every element in other is in the set\n",
    "first_set = { 4, 5, 6}\n",
    "second_set = {4, 5, 6}\n",
    "\n",
    "subset = second_set.issuperset(first_set)\n",
    "subset"
   ]
  },
  {
   "cell_type": "code",
   "execution_count": null,
   "metadata": {},
   "outputs": [],
   "source": []
  }
 ],
 "metadata": {
  "kernelspec": {
   "display_name": "Python 3",
   "language": "python",
   "name": "python3"
  },
  "language_info": {
   "codemirror_mode": {
    "name": "ipython",
    "version": 3
   },
   "file_extension": ".py",
   "mimetype": "text/x-python",
   "name": "python",
   "nbconvert_exporter": "python",
   "pygments_lexer": "ipython3",
   "version": "3.12.5"
  }
 },
 "nbformat": 4,
 "nbformat_minor": 2
}
