{
 "cells": [
  {
   "cell_type": "code",
   "execution_count": 5,
   "metadata": {},
   "outputs": [
    {
     "data": {
      "text/plain": [
       "['Emma', 'is', 'a', 'data', 'scientist an she likes to cook']"
      ]
     },
     "execution_count": 5,
     "metadata": {},
     "output_type": "execute_result"
    }
   ],
   "source": [
    "## Split hyphen-separated string without using split function.\n",
    "\n",
    "string_1 = '-Emma-is-a-data-scientist an she likes to cook-'\n",
    "\n",
    "def split_hyphen(string: str) -> list:\n",
    "    memory_list = []\n",
    "    memory = ''\n",
    "    for char in string_1:\n",
    "        if char == '-':\n",
    "            if memory:\n",
    "                memory_list.append(memory)\n",
    "                memory = ''\n",
    "        else:\n",
    "            memory += char\n",
    "        \n",
    "    if memory:\n",
    "        memory_list.append(memory)\n",
    "    \n",
    "    return memory_list\n",
    "    \n",
    "split_hyphen(string_1)"
   ]
  },
  {
   "cell_type": "code",
   "execution_count": 6,
   "metadata": {},
   "outputs": [
    {
     "data": {
      "text/plain": [
       "['', 'Emma', 'is', 'a', 'data', 'scientist an she likes to cook', '']"
      ]
     },
     "execution_count": 6,
     "metadata": {},
     "output_type": "execute_result"
    }
   ],
   "source": [
    "## Split hyphen-separated string using split function.\n",
    "\n",
    "string_1 = '-Emma-is-a-data-scientist an she likes to cook-'\n",
    "splitted_string = string_1.split('-')\n",
    "splitted_string"
   ]
  },
  {
   "cell_type": "code",
   "execution_count": 1,
   "metadata": {},
   "outputs": [
    {
     "name": "stdout",
     "output_type": "stream",
     "text": [
      "['Emma', 'Jon', 'Kelly', 'Eric']\n"
     ]
    }
   ],
   "source": [
    "string_list = [\"\", \"\", None, \"Emma\", \"Jon\", \"\", \"Kelly\", None, \"Eric\", \"\"]\n",
    "\n",
    "cleaned_list = [s for s in string_list if s]\n",
    "print(cleaned_list)"
   ]
  },
  {
   "cell_type": "code",
   "execution_count": 2,
   "metadata": {},
   "outputs": [
    {
     "name": "stdout",
     "output_type": "stream",
     "text": [
      "['Emma', 'Jon', 'Kelly', 'Eric']\n"
     ]
    }
   ],
   "source": [
    "string_list = [\"\", \"\", None, \"Emma\", \"Jon\", \"\", \"Kelly\", None, \"Eric\", \"\"]\n",
    "cleaned_list = []\n",
    "\n",
    "for s in string_list:\n",
    "    \n",
    "    if s:\n",
    "        cleaned_list.append(s)\n",
    "print(cleaned_list)"
   ]
  }
 ],
 "metadata": {
  "kernelspec": {
   "display_name": "Python 3",
   "language": "python",
   "name": "python3"
  },
  "language_info": {
   "codemirror_mode": {
    "name": "ipython",
    "version": 3
   },
   "file_extension": ".py",
   "mimetype": "text/x-python",
   "name": "python",
   "nbconvert_exporter": "python",
   "pygments_lexer": "ipython3",
   "version": "3.12.5"
  }
 },
 "nbformat": 4,
 "nbformat_minor": 2
}
