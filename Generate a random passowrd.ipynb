{
 "cells": [
  {
   "cell_type": "code",
   "execution_count": null,
   "metadata": {},
   "outputs": [],
   "source": [
    "import random\n",
    "import string\n",
    "\n",
    "# Generate a random passowrd of lingth n including\n",
    "# uppercase, lowercase, digits and special characters.\n",
    "# Minimum length is 8 characters.\n",
    "# Minimum uppercase characters is 2, minimum lowercase characters is 2,\n",
    "# minimum digits is 2, and minimum special characters is 2. \n",
    "\n",
    "def generate_password(n: int) -> str:\n",
    "    \n",
    "    if n < 8:\n",
    "        raise ValueError(\"Password length must be at least 8 characters.\")\n",
    "\n",
    "    # Define the character sets to choose from\n",
    "    lowercase = random.sample(string.ascii_lowercase, k=2)\n",
    "    uppercase = random.sample(string.ascii_uppercase, k=2)\n",
    "    digits = random.sample(string.digits, k=2)\n",
    "    special = random.sample(string.punctuation, k=2)\n",
    "    # Calculate the remaining characters needed\n",
    "    remaining_length = n - 8\n",
    "    # Generate remaining characters\n",
    "    remaining_characters = random.sample(string.ascii_letters + string.digits + string.punctuation, k=remaining_length)\n",
    "    # Combine all characters and shuffle them\n",
    "    password_characters = lowercase + uppercase + digits + special + remaining_characters \n",
    "    random.shuffle(password_characters)\n",
    "    # Join the characters to form the password\n",
    "    password = ''.join(password_characters)\n",
    "    \n",
    "    return password\n",
    "\n",
    "\n",
    "generate_password(12)\n",
    "\n",
    "\n",
    "\n",
    "\n"
   ]
  }
 ],
 "metadata": {
  "language_info": {
   "name": "python"
  }
 },
 "nbformat": 4,
 "nbformat_minor": 2
}
