{
 "cells": [
  {
   "cell_type": "code",
   "execution_count": null,
   "metadata": {},
   "outputs": [],
   "source": [
    "# A standard Python implementation of Insertion Sort\n",
    "\n",
    "def insertion_sort(arr):\n",
    "\n",
    "    for i in range(1, len(arr)):\n",
    "        key = arr[i]\n",
    "        j = i - 1\n",
    "\n",
    "        while j >= 0 and arr[j] > key:\n",
    "            arr[j + 1] = arr[j]\n",
    "            j -= 1\n",
    "\n",
    "        arr[j + 1] = key\n",
    "\n",
    "    return arr"
   ]
  },
  {
   "cell_type": "code",
   "execution_count": null,
   "metadata": {},
   "outputs": [],
   "source": [
    "# A standard Python implementation of Bubble Sort\n",
    "\n",
    "def bubble_sort(arr):\n",
    "    n = len(arr)\n",
    "\n",
    "    for i in range(n):\n",
    "        swapped = False\n",
    "\n",
    "        for j in range(0, n - i - 1):\n",
    "\n",
    "            if arr[j] > arr[j + 1]:\n",
    "                arr[j], arr[j + 1] = arr[j + 1], arr[j]\n",
    "                swapped = True\n",
    "\n",
    "        if not swapped:\n",
    "            break\n",
    "\n",
    "    return arr"
   ]
  },
  {
   "cell_type": "code",
   "execution_count": 16,
   "metadata": {},
   "outputs": [],
   "source": [
    "# A standard Python implementation of Quicksort\n",
    "\n",
    "def quicksort(arr):\n",
    "    if len(arr) <= 1:\n",
    "        return arr\n",
    "    \n",
    "    else:\n",
    "        pivot = arr[-1]\n",
    "\n",
    "        left = [x for x in arr[:-1] if x <= pivot]\n",
    "\n",
    "        right = [x for x in arr[:-1] if x > pivot]\n",
    "\n",
    "        return quicksort(left) + [pivot] + quicksort(right)"
   ]
  },
  {
   "cell_type": "code",
   "execution_count": 61,
   "metadata": {},
   "outputs": [],
   "source": [
    "# A standard Python implementation of Merge Sort\n",
    "\n",
    "def merge_sort(arr):\n",
    "    \n",
    "    if len(arr) <= 1:\n",
    "        return arr\n",
    "\n",
    "    mid = len(arr) // 2\n",
    "    \n",
    "    left_half = merge_sort(arr[:mid])\n",
    "    \n",
    "    right_half = merge_sort(arr[mid:])\n",
    "    \n",
    "    \n",
    "    return merge(left_half, right_half)\n",
    "\n",
    "def merge(left, right):\n",
    "\n",
    "    sorted_list = []\n",
    "    i = j = 0\n",
    "    while i < len(left) and j < len(right):\n",
    "        if left[i] <= right[j]:\n",
    "            sorted_list.append(left[i])\n",
    "            i += 1\n",
    "        else:\n",
    "            sorted_list.append(right[j])\n",
    "            j += 1\n",
    "\n",
    "    sorted_list.extend(left[i:])\n",
    "    sorted_list.extend(right[j:])\n",
    "\n",
    "    return sorted_list"
   ]
  },
  {
   "cell_type": "code",
   "execution_count": null,
   "metadata": {},
   "outputs": [],
   "source": []
  },
  {
   "cell_type": "code",
   "execution_count": 59,
   "metadata": {},
   "outputs": [
    {
     "data": {
      "text/plain": [
       "[2, 2, 2, 2, 3, 5, 5, 6, 7]"
      ]
     },
     "execution_count": 59,
     "metadata": {},
     "output_type": "execute_result"
    }
   ],
   "source": [
    "## My implementation .. Can be classified as Selection Sort (this algorithm behaves like Selection Sort)\n",
    "\n",
    "\n",
    "original_list = [5, 5, 6, 7, 2, 3, 2, 2, 2] \n",
    "\n",
    "\n",
    "def sort_list(original_list: list[int]) -> list[int]:\n",
    "    \n",
    "    for i in range(len(original_list) - 1):\n",
    "\n",
    "        for ii in range(i + 1, len(original_list)):\n",
    "            if original_list[ii] < original_list[i]:\n",
    "                original_list[i], original_list[ii] = original_list[ii], original_list[i]\n",
    "                \n",
    "    return original_list\n",
    "\n",
    "sort_list(original_list)"
   ]
  },
  {
   "cell_type": "code",
   "execution_count": null,
   "metadata": {},
   "outputs": [],
   "source": [
    "## My implementation .. My Basic solution for Insertion Sort\n",
    "unsorted_list = [4, 3, 2, 0, 1, 3, 9, 6]\n",
    "sorted_list = []\n",
    "\n",
    "for i in range(len(unsorted_list)):\n",
    "    if i == 0:\n",
    "        sorted_list.append(unsorted_list[0])\n",
    "    else:\n",
    "        for ii in list(reversed(range(len(sorted_list)))):\n",
    "            if unsorted_list[i] < sorted_list[ii]:\n",
    "                if ii == 0:\n",
    "                    sorted_list.insert(ii, unsorted_list[i])\n",
    "                else:\n",
    "                    continue\n",
    "            else:\n",
    "                sorted_list.insert(ii + 1, unsorted_list[i])\n",
    "                break\n",
    "\n",
    "print(sorted_list)"
   ]
  },
  {
   "cell_type": "code",
   "execution_count": 48,
   "metadata": {},
   "outputs": [
    {
     "name": "stdout",
     "output_type": "stream",
     "text": [
      "[0, 0, 1, 2, 3, 3, 4, 6, 9]\n"
     ]
    }
   ],
   "source": [
    "## My implementation .. Bubble Sort\n",
    "unsorted_list = [4, 3, 2, 0, 1, 3, 9, 6, 0]\n",
    "\n",
    "for i in range(1, len(unsorted_list)):\n",
    "    j = i - 1\n",
    "    while j >= 0 and unsorted_list[j+1] < unsorted_list[j]:\n",
    "        unsorted_list[j], unsorted_list[j+1] = unsorted_list[j+1], unsorted_list[j]\n",
    "        j -= 1\n",
    "\n",
    "\n",
    "print(unsorted_list)"
   ]
  },
  {
   "cell_type": "code",
   "execution_count": 3,
   "metadata": {},
   "outputs": [
    {
     "name": "stdout",
     "output_type": "stream",
     "text": [
      "[0, 0, 0, 1, 2, 3, 3, 4, 4, 5, 5, 8, 9]\n"
     ]
    }
   ],
   "source": [
    "## My implementation .. Quick Sort\n",
    "\n",
    "unsorted_list = [1, 3, 4, 0, 2, 5, 0, 0, 4, 8, 3, 5, 9]\n",
    "i=0\n",
    "while i <= (len(unsorted_list) -1):\n",
    "\n",
    "    pivot = unsorted_list[i]\n",
    "    \n",
    "    for j in range(i+1, len(unsorted_list)):\n",
    "\n",
    "        if unsorted_list[j] <= pivot:\n",
    "            \n",
    "            key = unsorted_list[j]\n",
    "            unsorted_list[i+1:j+1] = unsorted_list[i:j]\n",
    "            unsorted_list[i] = key\n",
    "            i += 1\n",
    "    i +=1\n",
    "      \n",
    "print(unsorted_list)\n"
   ]
  }
 ],
 "metadata": {
  "kernelspec": {
   "display_name": "Python 3",
   "language": "python",
   "name": "python3"
  },
  "language_info": {
   "codemirror_mode": {
    "name": "ipython",
    "version": 3
   },
   "file_extension": ".py",
   "mimetype": "text/x-python",
   "name": "python",
   "nbconvert_exporter": "python",
   "pygments_lexer": "ipython3",
   "version": "3.12.5"
  }
 },
 "nbformat": 4,
 "nbformat_minor": 2
}
