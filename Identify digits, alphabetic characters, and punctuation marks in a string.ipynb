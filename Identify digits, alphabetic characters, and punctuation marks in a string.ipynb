{
 "cells": [
  {
   "cell_type": "code",
   "execution_count": 1,
   "metadata": {},
   "outputs": [
    {
     "name": "stdout",
     "output_type": "stream",
     "text": [
      "The digits in the string: ['2', '9', '8', '4', '9', '6'] with total sum: [38].\n",
      "The alphabetic characters in the string: ['P', 'Y', 'n', 'a', 't', 'i', 'v', 'e'] count: [8].\n",
      "The punctuation marks in the string: ['@', '#', '!', '?'] count: [4].\n"
     ]
    }
   ],
   "source": [
    "## Identify Digits, Alphabetic Characters, and Punctuation Marks in a string.\n",
    "\n",
    "example_1 = \"PYnative29@#8496!?\"\n",
    "\n",
    "def digit(string: str) -> None:\n",
    "\n",
    "    digit_list: list[int] = []\n",
    "    alpha_list: list[str] = []\n",
    "    punctuation_list: list[str] = [] \n",
    "\n",
    "    _sum_d: int = 0\n",
    "    _sum_a: int = 0\n",
    "    _sum_p: int = 0\n",
    "    \n",
    "    for char in string:\n",
    "        \n",
    "        if char.isdigit():\n",
    "            digit_list.append(char)\n",
    "            i = int(char) # To calculate the sum of the digits in the string.\n",
    "            _sum_d += i ## Or use: sum(temp)\n",
    "        elif char.isalpha(): \n",
    "            alpha_list.append(char)\n",
    "            _sum_a += 1 # To count the number of alphabetic characters in the string\n",
    "        else:\n",
    "            punctuation_list.append(char)\n",
    "            _sum_p += 1\n",
    "    \n",
    "    print(f'The digits in the string: {digit_list} with total sum: [{_sum_d}].')\n",
    "    print(f'The alphabetic characters in the string: {alpha_list} count: [{_sum_a}].')\n",
    "    print(f'The punctuation marks in the string: {punctuation_list} count: [{_sum_p}].')\n",
    "\n",
    "\n",
    "digit(example_1)"
   ]
  },
  {
   "cell_type": "code",
   "execution_count": 1,
   "metadata": {},
   "outputs": [
    {
     "name": "stdout",
     "output_type": "stream",
     "text": [
      "The sum of [2, 9, 8, 4, 9, 6] = 38\n"
     ]
    }
   ],
   "source": [
    "str1 = \"PYnative29@#8496\"\n",
    "temp = []\n",
    "_sum: int = 0\n",
    "for i in str1:\n",
    "    if i.isdigit():\n",
    "        ii = int(i)\n",
    "        _sum = _sum + ii\n",
    "        temp.append(ii)\n",
    "_sum\n",
    "print(f'The sum of {temp} = {_sum}')"
   ]
  }
 ],
 "metadata": {
  "kernelspec": {
   "display_name": "Python 3",
   "language": "python",
   "name": "python3"
  },
  "language_info": {
   "codemirror_mode": {
    "name": "ipython",
    "version": 3
   },
   "file_extension": ".py",
   "mimetype": "text/x-python",
   "name": "python",
   "nbconvert_exporter": "python",
   "pygments_lexer": "ipython3",
   "version": "3.12.5"
  }
 },
 "nbformat": 4,
 "nbformat_minor": 2
}
