{
 "cells": [
  {
   "cell_type": "code",
   "execution_count": 5,
   "metadata": {},
   "outputs": [
    {
     "name": "stdout",
     "output_type": "stream",
     "text": [
      "The word \"Python\" was found in the file.\n"
     ]
    }
   ],
   "source": [
    "## Search for word in text file.\n",
    "\n",
    "import os\n",
    "\n",
    "def search_word_in_file(file_path: str, word: str) -> bool:\n",
    "    \n",
    "    if not os.path.isfile(path=file_path):\n",
    "        open(file=file_path, mode='w', encoding='utf-8').close()\n",
    "        \n",
    "    \n",
    "    with open(file=file_path, mode='r', encoding='utf-8') as file:\n",
    "        for line in file:\n",
    "            if word in line:\n",
    "                return True\n",
    "\n",
    "    return False\n",
    "\n",
    "file_path = 'example.txt'\n",
    "word_to_search = 'Python'\n",
    "\n",
    "search_word_in_file(file_path, word_to_search)\n",
    "\n",
    "\n",
    "if search_word_in_file(file_path, word_to_search):\n",
    "    \n",
    "    print(f'The word \"{word_to_search}\" was found in the file.')\n",
    "\n",
    "else:\n",
    "    print(f'The word \"{word_to_search}\" was not found in the file.')\n"
   ]
  },
  {
   "cell_type": "code",
   "execution_count": null,
   "metadata": {},
   "outputs": [],
   "source": []
  }
 ],
 "metadata": {
  "kernelspec": {
   "display_name": "Python 3",
   "language": "python",
   "name": "python3"
  },
  "language_info": {
   "codemirror_mode": {
    "name": "ipython",
    "version": 3
   },
   "file_extension": ".py",
   "mimetype": "text/x-python",
   "name": "python",
   "nbconvert_exporter": "python",
   "pygments_lexer": "ipython3",
   "version": "3.12.5"
  }
 },
 "nbformat": 4,
 "nbformat_minor": 2
}
