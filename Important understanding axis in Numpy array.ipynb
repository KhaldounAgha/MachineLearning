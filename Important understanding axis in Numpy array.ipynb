{
 "cells": [
  {
   "cell_type": "code",
   "execution_count": null,
   "metadata": {},
   "outputs": [],
   "source": [
    "### \n",
    "'''\n",
    "Understanding Axes in NumPy Arrays\n",
    "One-dimensional arrays:\n",
    "    For a 1D array, axis=0 is the only axis, representing the entire array.\n",
    "Two-dimensional arrays:\n",
    "    axis=0 corresponds to the rows (vertical direction)\n",
    "    axis=1 corresponds to the columns (horizontal direction)\n",
    "Three-dimensional arrays and beyond:\n",
    "    axis=0 is the first dimension (think of it as depth)\n",
    "    axis=1 is the second dimension (rows)\n",
    "    axis=2 is the third dimension (columns)\n",
    "'''\n",
    "### "
   ]
  },
  {
   "cell_type": "code",
   "execution_count": 2,
   "metadata": {},
   "outputs": [],
   "source": [
    "import numpy as np"
   ]
  },
  {
   "cell_type": "code",
   "execution_count": 10,
   "metadata": {},
   "outputs": [
    {
     "name": "stdout",
     "output_type": "stream",
     "text": [
      "[1 2 3 4]\n",
      "Number of dimensions 1\n",
      "Shape (4,)\n",
      "Sum along axis 0 10\n"
     ]
    }
   ],
   "source": [
    "arr_1d = np.array([1, 2, 3, 4])\n",
    "print(arr_1d)\n",
    "print('Number of dimensions',arr_1d.ndim)  # Number of dimensions\n",
    "print('Shape', arr_1d.shape)  # Shape\n",
    "print('Sum along axis 0', arr_1d.sum(axis=0))  # Sum along axis 0 (entire array)\n",
    "# Output: 10"
   ]
  },
  {
   "cell_type": "code",
   "execution_count": 11,
   "metadata": {},
   "outputs": [
    {
     "name": "stdout",
     "output_type": "stream",
     "text": [
      "[[1 2 3]\n",
      " [4 5 6]]\n",
      "Number of dimensions 2\n",
      "Shape (2, 3)\n",
      "[5 7 9]\n",
      "[ 6 15]\n"
     ]
    }
   ],
   "source": [
    "arr_2d = np.array([[1, 2, 3],\n",
    "                   [4, 5, 6]])\n",
    "print(arr_2d)\n",
    "print('Number of dimensions',arr_2d.ndim)  # Number of dimensions\n",
    "print('Shape', arr_2d.shape)  # Shape\n",
    "\n",
    "print(arr_2d.sum(axis=0))  # Sum along axis 0 (columns)\n",
    "# Output: [5 7 9]\n",
    "\n",
    "print(arr_2d.sum(axis=1))  # Sum along axis 1 (rows)\n",
    "# Output: [ 6 15]"
   ]
  },
  {
   "cell_type": "code",
   "execution_count": null,
   "metadata": {},
   "outputs": [
    {
     "name": "stdout",
     "output_type": "stream",
     "text": [
      "[[[ 1  2  3]\n",
      "  [ 4  5  6]]\n",
      "\n",
      " [[ 6  7  8]\n",
      "  [ 9 10 11]]]\n",
      "Number of dimensions 3\n",
      "Shape (2, 2, 3)\n",
      "[[ 7  9 11]\n",
      " [13 15 17]]\n"
     ]
    }
   ],
   "source": [
    "arr_3d = np.array([[[1, 2, 3], [4, 5, 6]],\n",
    "                   [[6, 7, 8], [9, 10, 11]]])\n",
    "print(arr_3d)\n",
    "print('Number of dimensions',arr_3d.ndim)  # Number of dimensions\n",
    "print('Shape', arr_3d.shape)  # Shape\n",
    "\n",
    "\n",
    "print(arr_3d.sum(axis=0))  # Sum along first dimension\n",
    "# Output: \n",
    "# [[ 7  9 11]\n",
    "# [13 15 17]]"
   ]
  }
 ],
 "metadata": {
  "kernelspec": {
   "display_name": "Python 3",
   "language": "python",
   "name": "python3"
  },
  "language_info": {
   "codemirror_mode": {
    "name": "ipython",
    "version": 3
   },
   "file_extension": ".py",
   "mimetype": "text/x-python",
   "name": "python",
   "nbconvert_exporter": "python",
   "pygments_lexer": "ipython3",
   "version": "3.12.5"
  }
 },
 "nbformat": 4,
 "nbformat_minor": 2
}
