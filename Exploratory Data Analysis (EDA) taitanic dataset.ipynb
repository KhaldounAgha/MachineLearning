{
 "cells": [
  {
   "cell_type": "markdown",
   "metadata": {},
   "source": [
    "##### **Exploratory Data Analysis (EDA) Taitanic**"
   ]
  },
  {
   "cell_type": "code",
   "execution_count": 2,
   "metadata": {},
   "outputs": [],
   "source": [
    "# sibsp - Number of Siblings/Spouses Aboard. \n",
    "# parch - Number of Parents/Children Aboard."
   ]
  },
  {
   "cell_type": "code",
   "execution_count": 3,
   "metadata": {},
   "outputs": [],
   "source": [
    "# importing required libraries\n",
    "import pandas as pd\n",
    "import matplotlib.pyplot as plt\n",
    "import seaborn as sns\n",
    "import numpy as np\n",
    "import logging\n",
    "import os\n",
    "import sys"
   ]
  },
  {
   "cell_type": "code",
   "execution_count": 4,
   "metadata": {},
   "outputs": [],
   "source": [
    "\n",
    "# Configuring logging\n",
    "log_file = 'LOG_titanic_EDA.log'\n",
    "logging.basicConfig(\n",
    "    filename=log_file,\n",
    "    filemode='a',\n",
    "    format='%(asctime)s - %(levelname)s - %(message)s',\n",
    "    datefmt='%Y-%m-%d %H:%M:%S',\n",
    "    level=logging.INFO,\n",
    "    encoding='utf-8',\n",
    "    errors='ignore'\n",
    ")\n",
    "\n",
    "def prompt_file_path() -> str:\n",
    "    \"\"\"\n",
    "    Prompt the user to enter a file path or quit the program.\n",
    "\n",
    "    return:\n",
    "        str: A valid file path entered bhy the user.\n",
    "    \"\"\"\n",
    "    \n",
    "    while True:\n",
    "        file_path = input('Please enter a valid file path or \"q\" to exit.').strip()\n",
    "        \n",
    "        if file_path.lower() == 'q':\n",
    "            logging.info('User chosen to exit.')\n",
    "            sys.exit(1)\n",
    "        \n",
    "        if file_path:\n",
    "            logging.info('A valid file path has been entered.')\n",
    "            return os.path.abspath(file_path)\n",
    "        logging.warning('The file path is empty. Please provide a valid file path.')    \n",
    "\n",
    "def validate_file_path(file_path: str) -> str:\n",
    "    \"\"\"\n",
    "    Validate if the provided file path exists. If not, prompt the user for a valid file path.\n",
    "\n",
    "    Args:\n",
    "        file_path (str): The initial file path.\n",
    "\n",
    "    Returns:\n",
    "        str: A valid file path that exists.\n",
    "    \"\"\"\n",
    "    \n",
    "    while not os.path.exists(file_path):\n",
    "        logging.error(f'File not found at: \"{file_path}\". Please try again.')\n",
    "        file_path = prompt_file_path()\n",
    "    \n",
    "    logging.info(f'File found at: {file_path}.')\n",
    "    return file_path\n",
    "    \n",
    "def load_dataset(file_path: str) -> pd.DataFrame:\n",
    "    \"\"\"\n",
    "    Load the dataset from the specified file path into a Pandas DataFrame.\n",
    "\n",
    "    Args:\n",
    "        file_path (str): Path to the dataset file.\n",
    "\n",
    "    Returns:\n",
    "        pd.DataFrame: Loaded dataset as a DataFrame.\n",
    "    \"\"\"\n",
    "    \n",
    "    while True:\n",
    "        try:\n",
    "            valid_path = validate_file_path(file_path)\n",
    "            df = pd.read_csv(filepath_or_buffer=valid_path, encoding='utf-8')\n",
    "            logging.info(f'Dataset successfully loaded from: {valid_path}.')\n",
    "            return df\n",
    "        except pd.errors.EmptyDataError:\n",
    "            logging.error(f'The file is empty. Please provide a valid dataset file.' )\n",
    "        except pd.errors.ParserError:\n",
    "            logging.error('Error occured while parsing the file. Please check the file format.')\n",
    "        except Exception as e:\n",
    "            logging.error(f'Error occurred while reading the dataset: {e}.')\n",
    "            sys.exit(1)\n",
    "            \n",
    "        file_path = prompt_file_path()"
   ]
  },
  {
   "cell_type": "code",
   "execution_count": 5,
   "metadata": {},
   "outputs": [],
   "source": [
    "console_handler = logging.StreamHandler(sys.stdout)\n",
    "console_handler.setLevel(logging.INFO)\n",
    "console_handler.setFormatter(logging.Formatter('- %(message)s'))\n",
    "logging.getLogger().addHandler(console_handler)"
   ]
  },
  {
   "cell_type": "code",
   "execution_count": 6,
   "metadata": {},
   "outputs": [
    {
     "name": "stdout",
     "output_type": "stream",
     "text": [
      "- Starting dataset loading process...\n",
      "- File found at: ./data/titanic.csv.\n",
      "- Dataset successfully loaded from: ./data/titanic.csv.\n",
      "- Dataset loaded successfully.\n"
     ]
    },
    {
     "data": {
      "text/html": [
       "<div>\n",
       "<style scoped>\n",
       "    .dataframe tbody tr th:only-of-type {\n",
       "        vertical-align: middle;\n",
       "    }\n",
       "\n",
       "    .dataframe tbody tr th {\n",
       "        vertical-align: top;\n",
       "    }\n",
       "\n",
       "    .dataframe thead th {\n",
       "        text-align: right;\n",
       "    }\n",
       "</style>\n",
       "<table border=\"1\" class=\"dataframe\">\n",
       "  <thead>\n",
       "    <tr style=\"text-align: right;\">\n",
       "      <th></th>\n",
       "      <th>PassengerId</th>\n",
       "      <th>Survived</th>\n",
       "      <th>Pclass</th>\n",
       "      <th>Name</th>\n",
       "      <th>Sex</th>\n",
       "      <th>Age</th>\n",
       "      <th>SibSp</th>\n",
       "      <th>Parch</th>\n",
       "      <th>Ticket</th>\n",
       "      <th>Fare</th>\n",
       "      <th>Cabin</th>\n",
       "      <th>Embarked</th>\n",
       "    </tr>\n",
       "  </thead>\n",
       "  <tbody>\n",
       "    <tr>\n",
       "      <th>0</th>\n",
       "      <td>892</td>\n",
       "      <td>0</td>\n",
       "      <td>3</td>\n",
       "      <td>Kelly, Mr. James</td>\n",
       "      <td>male</td>\n",
       "      <td>34.5</td>\n",
       "      <td>0</td>\n",
       "      <td>0</td>\n",
       "      <td>330911</td>\n",
       "      <td>7.8292</td>\n",
       "      <td>NaN</td>\n",
       "      <td>Q</td>\n",
       "    </tr>\n",
       "    <tr>\n",
       "      <th>1</th>\n",
       "      <td>893</td>\n",
       "      <td>1</td>\n",
       "      <td>3</td>\n",
       "      <td>Wilkes, Mrs. James (Ellen Needs)</td>\n",
       "      <td>female</td>\n",
       "      <td>47.0</td>\n",
       "      <td>1</td>\n",
       "      <td>0</td>\n",
       "      <td>363272</td>\n",
       "      <td>7.0000</td>\n",
       "      <td>NaN</td>\n",
       "      <td>S</td>\n",
       "    </tr>\n",
       "    <tr>\n",
       "      <th>2</th>\n",
       "      <td>894</td>\n",
       "      <td>0</td>\n",
       "      <td>2</td>\n",
       "      <td>Myles, Mr. Thomas Francis</td>\n",
       "      <td>male</td>\n",
       "      <td>62.0</td>\n",
       "      <td>0</td>\n",
       "      <td>0</td>\n",
       "      <td>240276</td>\n",
       "      <td>9.6875</td>\n",
       "      <td>NaN</td>\n",
       "      <td>Q</td>\n",
       "    </tr>\n",
       "    <tr>\n",
       "      <th>3</th>\n",
       "      <td>895</td>\n",
       "      <td>0</td>\n",
       "      <td>3</td>\n",
       "      <td>Wirz, Mr. Albert</td>\n",
       "      <td>male</td>\n",
       "      <td>27.0</td>\n",
       "      <td>0</td>\n",
       "      <td>0</td>\n",
       "      <td>315154</td>\n",
       "      <td>8.6625</td>\n",
       "      <td>NaN</td>\n",
       "      <td>S</td>\n",
       "    </tr>\n",
       "    <tr>\n",
       "      <th>4</th>\n",
       "      <td>896</td>\n",
       "      <td>1</td>\n",
       "      <td>3</td>\n",
       "      <td>Hirvonen, Mrs. Alexander (Helga E Lindqvist)</td>\n",
       "      <td>female</td>\n",
       "      <td>22.0</td>\n",
       "      <td>1</td>\n",
       "      <td>1</td>\n",
       "      <td>3101298</td>\n",
       "      <td>12.2875</td>\n",
       "      <td>NaN</td>\n",
       "      <td>S</td>\n",
       "    </tr>\n",
       "  </tbody>\n",
       "</table>\n",
       "</div>"
      ],
      "text/plain": [
       "   PassengerId  Survived  Pclass  \\\n",
       "0          892         0       3   \n",
       "1          893         1       3   \n",
       "2          894         0       2   \n",
       "3          895         0       3   \n",
       "4          896         1       3   \n",
       "\n",
       "                                           Name     Sex   Age  SibSp  Parch  \\\n",
       "0                              Kelly, Mr. James    male  34.5      0      0   \n",
       "1              Wilkes, Mrs. James (Ellen Needs)  female  47.0      1      0   \n",
       "2                     Myles, Mr. Thomas Francis    male  62.0      0      0   \n",
       "3                              Wirz, Mr. Albert    male  27.0      0      0   \n",
       "4  Hirvonen, Mrs. Alexander (Helga E Lindqvist)  female  22.0      1      1   \n",
       "\n",
       "    Ticket     Fare Cabin Embarked  \n",
       "0   330911   7.8292   NaN        Q  \n",
       "1   363272   7.0000   NaN        S  \n",
       "2   240276   9.6875   NaN        Q  \n",
       "3   315154   8.6625   NaN        S  \n",
       "4  3101298  12.2875   NaN        S  "
      ]
     },
     "execution_count": 6,
     "metadata": {},
     "output_type": "execute_result"
    }
   ],
   "source": [
    "# Loading Titanic dataset\n",
    "if __name__ == '__main__':\n",
    "    logging.info('Starting dataset loading process...')\n",
    "    initial_path = './data/titanic.csv'\n",
    "    dataset = load_dataset(initial_path)\n",
    "    logging.info('Dataset loaded successfully.')\n",
    "    \n",
    "dataset.head()"
   ]
  },
  {
   "cell_type": "code",
   "execution_count": 7,
   "metadata": {},
   "outputs": [
    {
     "name": "stdout",
     "output_type": "stream",
     "text": [
      "- The loaded dataset has 418 rows and 12 columns.\n",
      "- Columns of the dataset: ['PassengerId', 'Survived', 'Pclass', 'Name', 'Sex', 'Age', 'SibSp', 'Parch', 'Ticket', 'Fare', 'Cabin', 'Embarked']\n"
     ]
    }
   ],
   "source": [
    "# Logging the shape of the\n",
    "logging.info(f'The loaded dataset has {dataset.shape[0]} rows and {dataset.shape[1]} columns.')\n",
    "\n",
    "# Logging the names of the columns of the dataset\n",
    "logging.info(f'Columns of the dataset: {list(dataset.columns)}')"
   ]
  },
  {
   "cell_type": "code",
   "execution_count": 35,
   "metadata": {},
   "outputs": [
    {
     "data": {
      "text/html": [
       "<div>\n",
       "<style scoped>\n",
       "    .dataframe tbody tr th:only-of-type {\n",
       "        vertical-align: middle;\n",
       "    }\n",
       "\n",
       "    .dataframe tbody tr th {\n",
       "        vertical-align: top;\n",
       "    }\n",
       "\n",
       "    .dataframe thead th {\n",
       "        text-align: right;\n",
       "    }\n",
       "</style>\n",
       "<table border=\"1\" class=\"dataframe\">\n",
       "  <thead>\n",
       "    <tr style=\"text-align: right;\">\n",
       "      <th></th>\n",
       "      <th>PassengerId</th>\n",
       "      <th>Survived</th>\n",
       "      <th>Pclass</th>\n",
       "      <th>Name</th>\n",
       "      <th>Sex</th>\n",
       "      <th>Age</th>\n",
       "      <th>SibSp</th>\n",
       "      <th>Parch</th>\n",
       "      <th>Ticket</th>\n",
       "      <th>Fare</th>\n",
       "      <th>Cabin</th>\n",
       "      <th>Embarked</th>\n",
       "    </tr>\n",
       "  </thead>\n",
       "  <tbody>\n",
       "    <tr>\n",
       "      <th>0</th>\n",
       "      <td>892</td>\n",
       "      <td>0</td>\n",
       "      <td>3</td>\n",
       "      <td>Kelly, Mr. James</td>\n",
       "      <td>male</td>\n",
       "      <td>34.5</td>\n",
       "      <td>0</td>\n",
       "      <td>0</td>\n",
       "      <td>330911</td>\n",
       "      <td>7.8292</td>\n",
       "      <td>NaN</td>\n",
       "      <td>Q</td>\n",
       "    </tr>\n",
       "    <tr>\n",
       "      <th>1</th>\n",
       "      <td>893</td>\n",
       "      <td>1</td>\n",
       "      <td>3</td>\n",
       "      <td>Wilkes, Mrs. James (Ellen Needs)</td>\n",
       "      <td>female</td>\n",
       "      <td>47.0</td>\n",
       "      <td>1</td>\n",
       "      <td>0</td>\n",
       "      <td>363272</td>\n",
       "      <td>7.0000</td>\n",
       "      <td>NaN</td>\n",
       "      <td>S</td>\n",
       "    </tr>\n",
       "    <tr>\n",
       "      <th>2</th>\n",
       "      <td>894</td>\n",
       "      <td>0</td>\n",
       "      <td>2</td>\n",
       "      <td>Myles, Mr. Thomas Francis</td>\n",
       "      <td>male</td>\n",
       "      <td>62.0</td>\n",
       "      <td>0</td>\n",
       "      <td>0</td>\n",
       "      <td>240276</td>\n",
       "      <td>9.6875</td>\n",
       "      <td>NaN</td>\n",
       "      <td>Q</td>\n",
       "    </tr>\n",
       "    <tr>\n",
       "      <th>3</th>\n",
       "      <td>895</td>\n",
       "      <td>0</td>\n",
       "      <td>3</td>\n",
       "      <td>Wirz, Mr. Albert</td>\n",
       "      <td>male</td>\n",
       "      <td>27.0</td>\n",
       "      <td>0</td>\n",
       "      <td>0</td>\n",
       "      <td>315154</td>\n",
       "      <td>8.6625</td>\n",
       "      <td>NaN</td>\n",
       "      <td>S</td>\n",
       "    </tr>\n",
       "    <tr>\n",
       "      <th>4</th>\n",
       "      <td>896</td>\n",
       "      <td>1</td>\n",
       "      <td>3</td>\n",
       "      <td>Hirvonen, Mrs. Alexander (Helga E Lindqvist)</td>\n",
       "      <td>female</td>\n",
       "      <td>22.0</td>\n",
       "      <td>1</td>\n",
       "      <td>1</td>\n",
       "      <td>3101298</td>\n",
       "      <td>12.2875</td>\n",
       "      <td>NaN</td>\n",
       "      <td>S</td>\n",
       "    </tr>\n",
       "  </tbody>\n",
       "</table>\n",
       "</div>"
      ],
      "text/plain": [
       "   PassengerId  Survived  Pclass  \\\n",
       "0          892         0       3   \n",
       "1          893         1       3   \n",
       "2          894         0       2   \n",
       "3          895         0       3   \n",
       "4          896         1       3   \n",
       "\n",
       "                                           Name     Sex   Age  SibSp  Parch  \\\n",
       "0                              Kelly, Mr. James    male  34.5      0      0   \n",
       "1              Wilkes, Mrs. James (Ellen Needs)  female  47.0      1      0   \n",
       "2                     Myles, Mr. Thomas Francis    male  62.0      0      0   \n",
       "3                              Wirz, Mr. Albert    male  27.0      0      0   \n",
       "4  Hirvonen, Mrs. Alexander (Helga E Lindqvist)  female  22.0      1      1   \n",
       "\n",
       "    Ticket     Fare Cabin Embarked  \n",
       "0   330911   7.8292   NaN        Q  \n",
       "1   363272   7.0000   NaN        S  \n",
       "2   240276   9.6875   NaN        Q  \n",
       "3   315154   8.6625   NaN        S  \n",
       "4  3101298  12.2875   NaN        S  "
      ]
     },
     "execution_count": 35,
     "metadata": {},
     "output_type": "execute_result"
    }
   ],
   "source": [
    "# Displaying the first 5 rows of the dataset\n",
    "dataset.head(5)"
   ]
  },
  {
   "cell_type": "code",
   "execution_count": 9,
   "metadata": {},
   "outputs": [
    {
     "name": "stdout",
     "output_type": "stream",
     "text": [
      "- Total memory usage of the dataset: 134.29 KB\n",
      "- Memory usage of each column:\n",
      "- Index: \t132.00 bytes\n",
      "- PassengerId: \t3344.00 bytes\n",
      "- Survived: \t3344.00 bytes\n",
      "- Pclass: \t3344.00 bytes\n",
      "- Name: \t31970.00 bytes\n",
      "- Sex: \t22458.00 bytes\n",
      "- Age: \t3344.00 bytes\n",
      "- SibSp: \t3344.00 bytes\n",
      "- Parch: \t3344.00 bytes\n",
      "- Ticket: \t23356.00 bytes\n",
      "- Fare: \t3344.00 bytes\n",
      "- Cabin: \t15294.00 bytes\n",
      "- Embarked: \t20900.00 bytes\n"
     ]
    }
   ],
   "source": [
    "# Logging total memory usage of the dataset\n",
    "total_memory_kb = dataset.memory_usage(deep=True).sum() / 1024\n",
    "logging.info(f'Total memory usage of the dataset: {total_memory_kb:.2f} KB')\n",
    "\n",
    "# Logging memory usage of each column in the dataset\n",
    "logging.info('Memory usage of each column:')\n",
    "for col, usage in dataset.memory_usage(deep=True).items():\n",
    "    logging.info(f'{col}: \\t{(usage):.2f} bytes')"
   ]
  },
  {
   "cell_type": "code",
   "execution_count": 10,
   "metadata": {},
   "outputs": [
    {
     "name": "stdout",
     "output_type": "stream",
     "text": [
      "- The data type of each column in the dataset:\n",
      "- PassengerId: \tint64\n",
      "- Survived: \tint64\n",
      "- Pclass: \tint64\n",
      "- Name: \tobject\n",
      "- Sex: \tobject\n",
      "- Age: \tfloat64\n",
      "- SibSp: \tint64\n",
      "- Parch: \tint64\n",
      "- Ticket: \tobject\n",
      "- Fare: \tfloat64\n",
      "- Cabin: \tobject\n",
      "- Embarked: \tobject\n"
     ]
    }
   ],
   "source": [
    "# logging the data type of each column in the dataset\n",
    "logging.info('The data type of each column in the dataset:')\n",
    "for col, dtype in dataset.dtypes.items():\n",
    "    logging.info(f'{col}: \\t{dtype}')"
   ]
  },
  {
   "cell_type": "code",
   "execution_count": 11,
   "metadata": {},
   "outputs": [
    {
     "name": "stdout",
     "output_type": "stream",
     "text": [
      "- Missing values in the dataset:\n",
      "- PassengerId: \t0 (0.00%)\n",
      "- Survived: \t0 (0.00%)\n",
      "- Pclass: \t0 (0.00%)\n",
      "- Name: \t0 (0.00%)\n",
      "- Sex: \t0 (0.00%)\n",
      "- Age: \t86 (20.57%)\n",
      "- SibSp: \t0 (0.00%)\n",
      "- Parch: \t0 (0.00%)\n",
      "- Ticket: \t0 (0.00%)\n",
      "- Fare: \t1 (0.24%)\n",
      "- Cabin: \t327 (78.23%)\n",
      "- Embarked: \t0 (0.00%)\n"
     ]
    }
   ],
   "source": [
    "# Logging missing values in the dataset\n",
    "logging.info('Missing values in the dataset:')\n",
    "for col in dataset.columns:\n",
    "    missing_values = dataset[col].isnull().sum()\n",
    "    percentage = (missing_values / len(dataset)) * 100\n",
    "    logging.info(f'{col}: \\t{missing_values} ({percentage:.2f}%)')"
   ]
  },
  {
   "cell_type": "code",
   "execution_count": 12,
   "metadata": {},
   "outputs": [
    {
     "data": {
      "image/png": "[encoded data removed]",
      "text/plain": [
       "<Figure size 1600x300 with 2 Axes>"
      ]
     },
     "metadata": {},
     "output_type": "display_data"
    }
   ],
   "source": [
    "fig, ax = plt.subplots(nrows=1, ncols=2, figsize=(16, 3), dpi=100, facecolor='gainsboro', edgecolor='k')\n",
    "\n",
    "ax[0].set_title('Age Distribution of Passengers', fontdict={'font': 'arial', 'fontsize': 10, 'fontweight': 'bold', 'color': 'black'})\n",
    "ax[0].hist(x=dataset['Age'],\n",
    "        bins=30,\n",
    "        density=False,\n",
    "        histtype='bar',\n",
    "        align='mid',\n",
    "        orientation='vertical',\n",
    "        rwidth=0.95,\n",
    "        edgecolor='gray',\n",
    "        linewidth=0.6,\n",
    "        color='navy',\n",
    "        alpha=0.9)\n",
    "ax[0].set_xlabel('Age', fontdict={'font': 'arial', 'fontsize': 9, 'fontweight': 'bold', 'color': 'black'})\n",
    "ax[0].set_ylabel(ylabel='Number of Passengers', fontdict={'font': 'arial', 'fontsize': 9, 'fontweight': 'bold', 'color': 'black'})\n",
    "ax[0].grid(axis='y', color='gray', linestyle='--', linewidth=0.5)\n",
    "\n",
    "ax[1].set_title('Age Distribution (Boxplot)', \n",
    "                fontdict={'font': 'arial', 'fontsize': 10, 'fontweight': 'bold', 'color': 'black'})\n",
    "ax[1].boxplot(dataset['Age'], \n",
    "        vert=False, \n",
    "        patch_artist=True, \n",
    "        boxprops=dict(facecolor='navy', alpha=0.9))\n",
    "ax[1].set_xlabel('Age', fontdict={'font': 'arial', 'fontsize': 9, 'fontweight': 'bold', 'color': 'black'})\n",
    "\n",
    "# Customize ticks for both subplots\n",
    "for axis in ax:\n",
    "    axis.tick_params(axis='x', labelsize=9, colors='black')\n",
    "    axis.tick_params(axis='y', labelsize=9, colors='black')\n",
    "\n",
    "# Show the plot\n",
    "plt.tight_layout()\n",
    "plt.show()"
   ]
  },
  {
   "cell_type": "code",
   "execution_count": 13,
   "metadata": {},
   "outputs": [
    {
     "data": {
      "text/plain": [
       "\"\\nBoxplot appears empty: \\nit because the dataset['Age'] column contains NaN (missing) values, and the boxplot function cannot display an empty or all-NaN series. \\nTo fix this, you need to handle missing values in the Age column before plotting.\\n\""
      ]
     },
     "execution_count": 13,
     "metadata": {},
     "output_type": "execute_result"
    }
   ],
   "source": [
    "# Handling Missing Values in the Age Column\n",
    "\"\"\"\n",
    "Boxplot appears empty: \n",
    "it because the dataset['Age'] column contains NaN (missing) values, and the boxplot function cannot display an empty or all-NaN series. \n",
    "To fix this, you need to handle missing values in the Age column before plotting.\n",
    "\"\"\""
   ]
  },
  {
   "cell_type": "code",
   "execution_count": 14,
   "metadata": {},
   "outputs": [
    {
     "name": "stdout",
     "output_type": "stream",
     "text": [
      "- Information about missing values in the Age column:\n",
      "- Total missing values: 86\n",
      "- Percentage of missing values; 20.57%\n"
     ]
    }
   ],
   "source": [
    "# Information about missing values in the Age column\n",
    "logging.info('Information about missing values in the Age column:')\n",
    "\n",
    "missing_values = dataset['Age'].isnull().sum()\n",
    "percentage = (missing_values / len(dataset)) * 100\n",
    "logging.info(f'Total missing values: {missing_values}')\n",
    "logging.info(f'Percentage of missing values; {percentage:.2f}%')"
   ]
  },
  {
   "cell_type": "markdown",
   "metadata": {},
   "source": [
    "##### **Removing missing values**"
   ]
  },
  {
   "cell_type": "code",
   "execution_count": 15,
   "metadata": {},
   "outputs": [
    {
     "data": {
      "text/plain": [
       "Index([ 10,  22,  29,  33,  36,  39,  41,  47,  54,  58,  65,  76,  83,  84,\n",
       "        85,  88,  91,  93, 102, 107, 108, 111, 116, 121, 124, 127, 132, 133,\n",
       "       146, 148, 151, 160, 163, 168, 170, 173, 183, 188, 191, 199, 200, 205,\n",
       "       211, 216, 219, 225, 227, 233, 243, 244, 249, 255, 256, 265, 266, 267,\n",
       "       268, 271, 273, 274, 282, 286, 288, 289, 290, 292, 297, 301, 304, 312,\n",
       "       332, 339, 342, 344, 357, 358, 365, 366, 380, 382, 384, 408, 410, 413,\n",
       "       416, 417],\n",
       "      dtype='int64')"
      ]
     },
     "execution_count": 15,
     "metadata": {},
     "output_type": "execute_result"
    }
   ],
   "source": [
    "# Indices of Missing Values\n",
    "\n",
    "indices = dataset.loc[dataset['Age'].isnull()].index\n",
    "indices"
   ]
  },
  {
   "cell_type": "code",
   "execution_count": 16,
   "metadata": {},
   "outputs": [],
   "source": [
    "# Function to drop missing values\n",
    "def remove_missing_values_a(dataset, indices):\n",
    "    dataset = dataset.drop(index=indices, inplace=True, axis=0, errors='ignore')\n",
    "    return dataset\n",
    "\n",
    "def remove_missing_values_b(dataset):\n",
    "    dataset = dataset.dropna(subset=['Age'], inplace=True, axis=0, errors='ignore')\n",
    "    return dataset"
   ]
  },
  {
   "cell_type": "markdown",
   "metadata": {},
   "source": [
    "##### **Imputation (Replacing Missing Values)**"
   ]
  },
  {
   "cell_type": "markdown",
   "metadata": {},
   "source": [
    "###### **# Imputation with the mean**"
   ]
  },
  {
   "cell_type": "code",
   "execution_count": 17,
   "metadata": {},
   "outputs": [],
   "source": [
    "# Replacing missing values with the mean of the Age column\n",
    "def replace_missing_values_a(dataset):\n",
    "    dataset = dataset['Age'].replace(to_replace=np.nan, value=dataset['Age'].mean(), inplace=True)\n",
    "    return dataset\n",
    "\n",
    "def replace_missing_values_b(dataset):\n",
    "    dataset = dataset['Age'].fillna(value=dataset['Age'].mean(), inplace=True)\n",
    "    return dataset\n"
   ]
  },
  {
   "cell_type": "markdown",
   "metadata": {},
   "source": [
    "###### **# Imputation with the median**"
   ]
  },
  {
   "cell_type": "code",
   "execution_count": 18,
   "metadata": {},
   "outputs": [],
   "source": [
    "# Replacing missing values with the median of the Age column\n",
    "def replace_missing_values_c(dataset):\n",
    "    dataset = dataset['Age'].replace(to_replace=np.nan, value=dataset['Age'].median(), inplace=True, axis=0)\n",
    "    return dataset\n",
    "\n",
    "def replace_missing_values_d(dataset):\n",
    "    dataset = dataset['Age'].fillna(value=dataset['Age'].median(), inplace=True, axis=0)\n",
    "    return dataset"
   ]
  },
  {
   "cell_type": "markdown",
   "metadata": {},
   "source": [
    "###### **# Imputation with the mode**"
   ]
  },
  {
   "cell_type": "code",
   "execution_count": 19,
   "metadata": {},
   "outputs": [
    {
     "data": {
      "text/plain": [
       "0    21.0\n",
       "1    24.0\n",
       "Name: Age, dtype: float64"
      ]
     },
     "execution_count": 19,
     "metadata": {},
     "output_type": "execute_result"
    }
   ],
   "source": [
    "# Replacing missing values with the mode of the Age column\n",
    "# The mode of the Age column\n",
    "mode_values = dataset['Age'].mode()\n",
    "mode_values\n",
    "# Therefore, we have two alternatives here:"
   ]
  },
  {
   "cell_type": "code",
   "execution_count": 20,
   "metadata": {},
   "outputs": [],
   "source": [
    "# We can replace missing values with one of the mode values of the Age column. \n",
    "first_mode_value = mode_values[0]\n",
    "def replace_missing_values_e(dataset):\n",
    "    dataset = dataset['Age'].fillna(value=first_mode_value, inplace=True, axis=0)\n",
    "    return dataset\n",
    "\n",
    "# We can replace missing values with the mean of the mode values.\n",
    "mode_values_mean = mode_values.mean().astype('int64')\n",
    "def replace_missing_values_f(dataset):\n",
    "    dataset = dataset['Age'].fillna(value=mode_values_mean, inplace=True, axis=0)\n",
    "    return dataset"
   ]
  },
  {
   "cell_type": "markdown",
   "metadata": {},
   "source": [
    "##### **# Group-Based Imputation**"
   ]
  },
  {
   "cell_type": "code",
   "execution_count": 21,
   "metadata": {},
   "outputs": [],
   "source": [
    "# Analysis of missing values in the Age column Grouped by Sex and Pclass\n",
    "# We can use the groupby() function to analyze the missing values in the Age column grouped by Sex and Pclass."
   ]
  },
  {
   "cell_type": "code",
   "execution_count": 22,
   "metadata": {},
   "outputs": [
    {
     "data": {
      "text/plain": [
       "Sex     Pclass\n",
       "female  1          50\n",
       "        2          30\n",
       "        3          72\n",
       "male    1          57\n",
       "        2          63\n",
       "        3         146\n",
       "Name: Age, dtype: int64"
      ]
     },
     "execution_count": 22,
     "metadata": {},
     "output_type": "execute_result"
    }
   ],
   "source": [
    "# Number of values in the Age column grouped by Sex and Pclass\n",
    "\n",
    "dataset['Age'].groupby(by=[dataset['Sex'], dataset['Pclass']]).size()"
   ]
  },
  {
   "cell_type": "code",
   "execution_count": 23,
   "metadata": {},
   "outputs": [
    {
     "data": {
      "text/html": [
       "<div>\n",
       "<style scoped>\n",
       "    .dataframe tbody tr th:only-of-type {\n",
       "        vertical-align: middle;\n",
       "    }\n",
       "\n",
       "    .dataframe tbody tr th {\n",
       "        vertical-align: top;\n",
       "    }\n",
       "\n",
       "    .dataframe thead th {\n",
       "        text-align: right;\n",
       "    }\n",
       "</style>\n",
       "<table border=\"1\" class=\"dataframe\">\n",
       "  <thead>\n",
       "    <tr style=\"text-align: right;\">\n",
       "      <th></th>\n",
       "      <th></th>\n",
       "      <th>sum_missing</th>\n",
       "      <th>count_rows</th>\n",
       "      <th>mean</th>\n",
       "      <th>median</th>\n",
       "      <th>skewness</th>\n",
       "      <th>percentage_missing</th>\n",
       "    </tr>\n",
       "    <tr>\n",
       "      <th>Sex</th>\n",
       "      <th>Pclass</th>\n",
       "      <th></th>\n",
       "      <th></th>\n",
       "      <th></th>\n",
       "      <th></th>\n",
       "      <th></th>\n",
       "      <th></th>\n",
       "    </tr>\n",
       "  </thead>\n",
       "  <tbody>\n",
       "    <tr>\n",
       "      <th rowspan=\"3\" valign=\"top\">female</th>\n",
       "      <th>1</th>\n",
       "      <td>2</td>\n",
       "      <td>50</td>\n",
       "      <td>41</td>\n",
       "      <td>41</td>\n",
       "      <td>0.209797</td>\n",
       "      <td>4.0 %</td>\n",
       "    </tr>\n",
       "    <tr>\n",
       "      <th>2</th>\n",
       "      <td>1</td>\n",
       "      <td>30</td>\n",
       "      <td>24</td>\n",
       "      <td>24</td>\n",
       "      <td>0.647348</td>\n",
       "      <td>3.33 %</td>\n",
       "    </tr>\n",
       "    <tr>\n",
       "      <th>3</th>\n",
       "      <td>22</td>\n",
       "      <td>72</td>\n",
       "      <td>23</td>\n",
       "      <td>22</td>\n",
       "      <td>-0.082087</td>\n",
       "      <td>30.56 %</td>\n",
       "    </tr>\n",
       "    <tr>\n",
       "      <th rowspan=\"3\" valign=\"top\">male</th>\n",
       "      <th>1</th>\n",
       "      <td>7</td>\n",
       "      <td>57</td>\n",
       "      <td>40</td>\n",
       "      <td>42</td>\n",
       "      <td>-0.364779</td>\n",
       "      <td>12.28 %</td>\n",
       "    </tr>\n",
       "    <tr>\n",
       "      <th>2</th>\n",
       "      <td>4</td>\n",
       "      <td>63</td>\n",
       "      <td>30</td>\n",
       "      <td>28</td>\n",
       "      <td>0.671198</td>\n",
       "      <td>6.35 %</td>\n",
       "    </tr>\n",
       "    <tr>\n",
       "      <th>3</th>\n",
       "      <td>50</td>\n",
       "      <td>146</td>\n",
       "      <td>24</td>\n",
       "      <td>24</td>\n",
       "      <td>0.213786</td>\n",
       "      <td>34.25 %</td>\n",
       "    </tr>\n",
       "  </tbody>\n",
       "</table>\n",
       "</div>"
      ],
      "text/plain": [
       "               sum_missing  count_rows  mean  median  skewness  \\\n",
       "Sex    Pclass                                                    \n",
       "female 1                 2          50    41      41  0.209797   \n",
       "       2                 1          30    24      24  0.647348   \n",
       "       3                22          72    23      22 -0.082087   \n",
       "male   1                 7          57    40      42 -0.364779   \n",
       "       2                 4          63    30      28  0.671198   \n",
       "       3                50         146    24      24  0.213786   \n",
       "\n",
       "              percentage_missing  \n",
       "Sex    Pclass                     \n",
       "female 1                   4.0 %  \n",
       "       2                  3.33 %  \n",
       "       3                 30.56 %  \n",
       "male   1                 12.28 %  \n",
       "       2                  6.35 %  \n",
       "       3                 34.25 %  "
      ]
     },
     "execution_count": 23,
     "metadata": {},
     "output_type": "execute_result"
    }
   ],
   "source": [
    "\n",
    "# Analyzing missing values\n",
    "isnull_df = dataset.groupby(by=['Sex','Pclass'])['Age'].aggregate(\n",
    "    sum_missing = lambda x: x.isnull().sum(),\n",
    "    count_rows = lambda x: x.size, # Or use len(X). Do not use x.count(), which returns the number of non-null values\n",
    "    mean = lambda x: int(x.mean()),\n",
    "    median = lambda x: int(x.median()),\n",
    "    skewness = lambda x: x.skew(),\n",
    "    percentage_missing = lambda x: f'{round(x.isnull().sum() / x.size * 100, 2)} %'\n",
    "    )\n",
    "\n",
    "# Displaying the results\n",
    "isnull_df"
   ]
  },
  {
   "cell_type": "code",
   "execution_count": 24,
   "metadata": {},
   "outputs": [
    {
     "name": "stdout",
     "output_type": "stream",
     "text": [
      "Sex: [female] - Passenger Class: [1] Missing values: [2]\n",
      "Sex: [female] - Passenger Class: [2] Missing values: [1]\n",
      "Sex: [female] - Passenger Class: [3] Missing values: [22]\n",
      "Sex: [male] - Passenger Class: [1] Missing values: [7]\n",
      "Sex: [male] - Passenger Class: [2] Missing values: [4]\n",
      "Sex: [male] - Passenger Class: [3] Missing values: [50]\n"
     ]
    }
   ],
   "source": [
    "for (grouping_key_1, grouping_key_2), values in dataset.groupby(by=['Sex', 'Pclass'])['Age']:\n",
    "    print(f'Sex: [{grouping_key_1}] - Passenger Class: [{grouping_key_2}] Missing values: [{values.isnull().sum()}]')\n",
    "\n"
   ]
  },
  {
   "cell_type": "code",
   "execution_count": 25,
   "metadata": {},
   "outputs": [
    {
     "data": {
      "image/png": "[encoded data removed]",
      "text/plain": [
       "<Figure size 1600x600 with 6 Axes>"
      ]
     },
     "metadata": {},
     "output_type": "display_data"
    }
   ],
   "source": [
    "fig, ax = plt.subplots(nrows=2, ncols=3, figsize=(16, 6), dpi=100, facecolor='gainsboro', edgecolor='k')\n",
    "axes = ax.flatten()\n",
    "\n",
    "\n",
    "for i, groups in enumerate(dataset.groupby(by=['Sex', 'Pclass'])['Age']):\n",
    "\n",
    "        sns.kdeplot(data=groups[1],\n",
    "                fill=True,\n",
    "                color='royalblue',\n",
    "                alpha=0.6,\n",
    "                linewidth=1.1,\n",
    "                edgecolor='black',\n",
    "                ax=axes[i])\n",
    "        axes[i].set_title(f'Sex: {groups[0][0]} - Passenger Class: {groups[0][1]}', fontdict={'font': 'arial', 'fontsize': 10, 'fontweight': 'bold', 'color': 'navy'})\n",
    "        axes[i].set_xlabel('Age', fontdict={'font': 'arial', 'fontsize': 9, 'fontweight': 'bold', 'color': 'black'}, loc= 'right')\n",
    "        axes[i].set_ylabel('Density', fontdict={'font': 'arial', 'fontsize': 9, 'fontweight': 'bold', 'color': 'black'}, loc= 'top')\n",
    "        \n",
    "        # mean line\n",
    "        axes[i].axvline(x=groups[1].mean(), color='red', linestyle='--', linewidth=1.1, label='Mean')\n",
    "        axes[i].axvline(x=groups[1].median(), color='black', linestyle='--', linewidth=1.1, label='Median')\n",
    "        axes[i].legend(loc='best')\n",
    "plt.tight_layout()\n",
    "plt.show()"
   ]
  },
  {
   "cell_type": "code",
   "execution_count": null,
   "metadata": {},
   "outputs": [],
   "source": [
    "dataset.groupby(by=['Sex', 'Pclass'])['Age'].median()\n",
    "plt.table(dataset.groupby(by=['Sex', 'Pclass'])['Age'].median())\n"
   ]
  },
  {
   "cell_type": "markdown",
   "metadata": {},
   "source": [
    "##### **# Filling 'Age' based on median values grouped by 'Pclass' and 'Sex'**"
   ]
  },
  {
   "cell_type": "code",
   "execution_count": null,
   "metadata": {},
   "outputs": [],
   "source": [
    "# Fill the missing Age values in each group with the median of the group\n",
    "def replace_missing_values(dataset):\n",
    "    dataset['Age'] = dataset.groupby(['Sex', 'Pclass'])['Age'].transform(lambda x: x.fillna(x.median()))\n",
    "    return dataset\n",
    "    \n"
   ]
  },
  {
   "cell_type": "markdown",
   "metadata": {},
   "source": [
    "###### **# # Creating Age Groups**"
   ]
  },
  {
   "cell_type": "code",
   "execution_count": null,
   "metadata": {},
   "outputs": [
    {
     "name": "stdout",
     "output_type": "stream",
     "text": [
      "- The minimum age in the dataset: 0.17 and the maximum age is 76.0.\n",
      "- Creating Age Groups '0-20', '20-40', '40-60', '60-80'\n"
     ]
    }
   ],
   "source": [
    "# Creating Age Groups\n",
    "\n",
    "logging.info(f'The minimum age in the dataset: {dataset['Age'].min()} and the maximum age is {dataset['Age'].max()}.')\n",
    "logging.info(f\"Creating Age Groups '0-20', '20-40', '40-60', '60-80'\")\n",
    "dataset['Age_Groups'] = pd.cut(dataset['Age'], bins=[0, 20, 40, 60, 80], labels=['0-20', '20-40', '40-60', '60-80'], right=True)"
   ]
  },
  {
   "cell_type": "markdown",
   "metadata": {},
   "source": [
    "##### **Predict Missing Values Using Machine Learning**"
   ]
  },
  {
   "cell_type": "code",
   "execution_count": null,
   "metadata": {},
   "outputs": [],
   "source": [
    "from sklearn.ensemble import RandomForestRegressor\n",
    "from sklearn import preprocessing"
   ]
  },
  {
   "cell_type": "code",
   "execution_count": null,
   "metadata": {},
   "outputs": [],
   "source": [
    "one_hot_encoder = preprocessing.OneHotEncoder(sparse_output=False)\n",
    "one_hot_encoder.fit(dataset[['Sex']])\n",
    "encoded_sex = one_hot_encoder.transform(dataset[['Sex']])"
   ]
  },
  {
   "cell_type": "code",
   "execution_count": null,
   "metadata": {},
   "outputs": [
    {
     "data": {
      "text/html": [
       "<div>\n",
       "<style scoped>\n",
       "    .dataframe tbody tr th:only-of-type {\n",
       "        vertical-align: middle;\n",
       "    }\n",
       "\n",
       "    .dataframe tbody tr th {\n",
       "        vertical-align: top;\n",
       "    }\n",
       "\n",
       "    .dataframe thead th {\n",
       "        text-align: right;\n",
       "    }\n",
       "</style>\n",
       "<table border=\"1\" class=\"dataframe\">\n",
       "  <thead>\n",
       "    <tr style=\"text-align: right;\">\n",
       "      <th></th>\n",
       "      <th>Sex_female</th>\n",
       "      <th>Sex_male</th>\n",
       "    </tr>\n",
       "  </thead>\n",
       "  <tbody>\n",
       "    <tr>\n",
       "      <th>0</th>\n",
       "      <td>0.0</td>\n",
       "      <td>1.0</td>\n",
       "    </tr>\n",
       "    <tr>\n",
       "      <th>1</th>\n",
       "      <td>1.0</td>\n",
       "      <td>0.0</td>\n",
       "    </tr>\n",
       "    <tr>\n",
       "      <th>2</th>\n",
       "      <td>0.0</td>\n",
       "      <td>1.0</td>\n",
       "    </tr>\n",
       "    <tr>\n",
       "      <th>3</th>\n",
       "      <td>0.0</td>\n",
       "      <td>1.0</td>\n",
       "    </tr>\n",
       "    <tr>\n",
       "      <th>4</th>\n",
       "      <td>1.0</td>\n",
       "      <td>0.0</td>\n",
       "    </tr>\n",
       "    <tr>\n",
       "      <th>...</th>\n",
       "      <td>...</td>\n",
       "      <td>...</td>\n",
       "    </tr>\n",
       "    <tr>\n",
       "      <th>413</th>\n",
       "      <td>0.0</td>\n",
       "      <td>1.0</td>\n",
       "    </tr>\n",
       "    <tr>\n",
       "      <th>414</th>\n",
       "      <td>1.0</td>\n",
       "      <td>0.0</td>\n",
       "    </tr>\n",
       "    <tr>\n",
       "      <th>415</th>\n",
       "      <td>0.0</td>\n",
       "      <td>1.0</td>\n",
       "    </tr>\n",
       "    <tr>\n",
       "      <th>416</th>\n",
       "      <td>0.0</td>\n",
       "      <td>1.0</td>\n",
       "    </tr>\n",
       "    <tr>\n",
       "      <th>417</th>\n",
       "      <td>0.0</td>\n",
       "      <td>1.0</td>\n",
       "    </tr>\n",
       "  </tbody>\n",
       "</table>\n",
       "<p>418 rows × 2 columns</p>\n",
       "</div>"
      ],
      "text/plain": [
       "     Sex_female  Sex_male\n",
       "0           0.0       1.0\n",
       "1           1.0       0.0\n",
       "2           0.0       1.0\n",
       "3           0.0       1.0\n",
       "4           1.0       0.0\n",
       "..          ...       ...\n",
       "413         0.0       1.0\n",
       "414         1.0       0.0\n",
       "415         0.0       1.0\n",
       "416         0.0       1.0\n",
       "417         0.0       1.0\n",
       "\n",
       "[418 rows x 2 columns]"
      ]
     },
     "execution_count": 31,
     "metadata": {},
     "output_type": "execute_result"
    }
   ],
   "source": [
    "encoded_sex_df = pd.DataFrame(encoded_sex, columns=one_hot_encoder.get_feature_names_out(['Sex']))\n",
    "encoded_sex_df"
   ]
  },
  {
   "cell_type": "code",
   "execution_count": null,
   "metadata": {},
   "outputs": [
    {
     "data": {
      "text/html": [
       "<div>\n",
       "<style scoped>\n",
       "    .dataframe tbody tr th:only-of-type {\n",
       "        vertical-align: middle;\n",
       "    }\n",
       "\n",
       "    .dataframe tbody tr th {\n",
       "        vertical-align: top;\n",
       "    }\n",
       "\n",
       "    .dataframe thead th {\n",
       "        text-align: right;\n",
       "    }\n",
       "</style>\n",
       "<table border=\"1\" class=\"dataframe\">\n",
       "  <thead>\n",
       "    <tr style=\"text-align: right;\">\n",
       "      <th></th>\n",
       "      <th>PassengerId</th>\n",
       "      <th>Survived</th>\n",
       "      <th>Pclass</th>\n",
       "      <th>Name</th>\n",
       "      <th>Sex</th>\n",
       "      <th>Age</th>\n",
       "      <th>SibSp</th>\n",
       "      <th>Parch</th>\n",
       "      <th>Ticket</th>\n",
       "      <th>Fare</th>\n",
       "      <th>Cabin</th>\n",
       "      <th>Embarked</th>\n",
       "      <th>Age_Groups</th>\n",
       "      <th>Sex_female</th>\n",
       "      <th>Sex_male</th>\n",
       "    </tr>\n",
       "  </thead>\n",
       "  <tbody>\n",
       "    <tr>\n",
       "      <th>0</th>\n",
       "      <td>892</td>\n",
       "      <td>0</td>\n",
       "      <td>3</td>\n",
       "      <td>Kelly, Mr. James</td>\n",
       "      <td>male</td>\n",
       "      <td>34.5</td>\n",
       "      <td>0</td>\n",
       "      <td>0</td>\n",
       "      <td>330911</td>\n",
       "      <td>7.8292</td>\n",
       "      <td>NaN</td>\n",
       "      <td>Q</td>\n",
       "      <td>20-40</td>\n",
       "      <td>0.0</td>\n",
       "      <td>1.0</td>\n",
       "    </tr>\n",
       "    <tr>\n",
       "      <th>1</th>\n",
       "      <td>893</td>\n",
       "      <td>1</td>\n",
       "      <td>3</td>\n",
       "      <td>Wilkes, Mrs. James (Ellen Needs)</td>\n",
       "      <td>female</td>\n",
       "      <td>47.0</td>\n",
       "      <td>1</td>\n",
       "      <td>0</td>\n",
       "      <td>363272</td>\n",
       "      <td>7.0000</td>\n",
       "      <td>NaN</td>\n",
       "      <td>S</td>\n",
       "      <td>40-60</td>\n",
       "      <td>1.0</td>\n",
       "      <td>0.0</td>\n",
       "    </tr>\n",
       "    <tr>\n",
       "      <th>2</th>\n",
       "      <td>894</td>\n",
       "      <td>0</td>\n",
       "      <td>2</td>\n",
       "      <td>Myles, Mr. Thomas Francis</td>\n",
       "      <td>male</td>\n",
       "      <td>62.0</td>\n",
       "      <td>0</td>\n",
       "      <td>0</td>\n",
       "      <td>240276</td>\n",
       "      <td>9.6875</td>\n",
       "      <td>NaN</td>\n",
       "      <td>Q</td>\n",
       "      <td>60-80</td>\n",
       "      <td>0.0</td>\n",
       "      <td>1.0</td>\n",
       "    </tr>\n",
       "    <tr>\n",
       "      <th>3</th>\n",
       "      <td>895</td>\n",
       "      <td>0</td>\n",
       "      <td>3</td>\n",
       "      <td>Wirz, Mr. Albert</td>\n",
       "      <td>male</td>\n",
       "      <td>27.0</td>\n",
       "      <td>0</td>\n",
       "      <td>0</td>\n",
       "      <td>315154</td>\n",
       "      <td>8.6625</td>\n",
       "      <td>NaN</td>\n",
       "      <td>S</td>\n",
       "      <td>20-40</td>\n",
       "      <td>0.0</td>\n",
       "      <td>1.0</td>\n",
       "    </tr>\n",
       "    <tr>\n",
       "      <th>4</th>\n",
       "      <td>896</td>\n",
       "      <td>1</td>\n",
       "      <td>3</td>\n",
       "      <td>Hirvonen, Mrs. Alexander (Helga E Lindqvist)</td>\n",
       "      <td>female</td>\n",
       "      <td>22.0</td>\n",
       "      <td>1</td>\n",
       "      <td>1</td>\n",
       "      <td>3101298</td>\n",
       "      <td>12.2875</td>\n",
       "      <td>NaN</td>\n",
       "      <td>S</td>\n",
       "      <td>20-40</td>\n",
       "      <td>1.0</td>\n",
       "      <td>0.0</td>\n",
       "    </tr>\n",
       "  </tbody>\n",
       "</table>\n",
       "</div>"
      ],
      "text/plain": [
       "   PassengerId  Survived  Pclass  \\\n",
       "0          892         0       3   \n",
       "1          893         1       3   \n",
       "2          894         0       2   \n",
       "3          895         0       3   \n",
       "4          896         1       3   \n",
       "\n",
       "                                           Name     Sex   Age  SibSp  Parch  \\\n",
       "0                              Kelly, Mr. James    male  34.5      0      0   \n",
       "1              Wilkes, Mrs. James (Ellen Needs)  female  47.0      1      0   \n",
       "2                     Myles, Mr. Thomas Francis    male  62.0      0      0   \n",
       "3                              Wirz, Mr. Albert    male  27.0      0      0   \n",
       "4  Hirvonen, Mrs. Alexander (Helga E Lindqvist)  female  22.0      1      1   \n",
       "\n",
       "    Ticket     Fare Cabin Embarked Age_Groups  Sex_female  Sex_male  \n",
       "0   330911   7.8292   NaN        Q      20-40         0.0       1.0  \n",
       "1   363272   7.0000   NaN        S      40-60         1.0       0.0  \n",
       "2   240276   9.6875   NaN        Q      60-80         0.0       1.0  \n",
       "3   315154   8.6625   NaN        S      20-40         0.0       1.0  \n",
       "4  3101298  12.2875   NaN        S      20-40         1.0       0.0  "
      ]
     },
     "execution_count": 32,
     "metadata": {},
     "output_type": "execute_result"
    }
   ],
   "source": [
    "dataset = pd.concat(objs=[dataset, encoded_sex_df], axis=1)\n",
    "dataset.head()"
   ]
  },
  {
   "cell_type": "code",
   "execution_count": null,
   "metadata": {},
   "outputs": [],
   "source": [
    "train_data = dataset[dataset['Age'].notna()]\n",
    "test_data = dataset[dataset['Age'].isna()]\n",
    "\n",
    "features = ['Pclass', 'Sex_female', 'Sex_male', 'SibSp', 'Parch', 'Fare']\n",
    "\n",
    "X_train = train_data[features]\n",
    "y_train = train_data['Age']\n",
    "\n",
    "X_test = test_data[features]\n",
    "y_test = test_data['Age']\n",
    "\n",
    "model = RandomForestRegressor(random_state=42)\n",
    "model.fit(X_train, y_train)\n",
    "pred_age = model.predict(X_test).astype(int)\n"
   ]
  },
  {
   "cell_type": "code",
   "execution_count": null,
   "metadata": {},
   "outputs": [],
   "source": [
    "assert len(pred_age) == dataset['Age'].isna().sum(), \"Mismatch between predicted and missing Age counts.\""
   ]
  },
  {
   "cell_type": "code",
   "execution_count": null,
   "metadata": {},
   "outputs": [],
   "source": [
    "dataset.loc[dataset['Age'].isna(), 'Age'] = pred_age"
   ]
  },
  {
   "cell_type": "code",
   "execution_count": null,
   "metadata": {},
   "outputs": [
    {
     "name": "stdout",
     "output_type": "stream",
     "text": [
      "- Number of missing values in the Age column: 0\n"
     ]
    }
   ],
   "source": [
    "logging.info(f'Number of missing values in the Age column: {dataset[\"Age\"].isnull().sum()}') "
   ]
  },
  {
   "cell_type": "code",
   "execution_count": null,
   "metadata": {},
   "outputs": [
    {
     "data": {
      "image/png": "[encoded data removed]",
      "text/plain": [
       "<Figure size 1600x400 with 2 Axes>"
      ]
     },
     "metadata": {},
     "output_type": "display_data"
    }
   ],
   "source": [
    "fig, ax = plt.subplots(nrows=1, ncols=2, figsize=(16, 4), dpi=100, facecolor='gainsboro', edgecolor='k')\n",
    "\n",
    "ax[0].set_title('Age Distribution of Passengers', fontdict={'font': 'arial', 'fontsize': 10, 'fontweight': 'bold', 'color': 'black'})\n",
    "ax[0].hist(x=dataset['Age'],\n",
    "        bins=30,\n",
    "        density=False,\n",
    "        histtype='bar',\n",
    "        align='mid',\n",
    "        orientation='vertical',\n",
    "        rwidth=0.95,\n",
    "        edgecolor='gray',\n",
    "        linewidth=0.6,\n",
    "        color='navy',\n",
    "        alpha=0.9)\n",
    "ax[0].set_xlabel('Age', fontdict={'font': 'arial', 'fontsize': 9, 'fontweight': 'bold', 'color': 'black'})\n",
    "ax[0].set_ylabel(ylabel='Number of Passengers', fontdict={'font': 'arial', 'fontsize': 9, 'fontweight': 'bold', 'color': 'black'})\n",
    "ax[0].grid(axis='y', color='gray', linestyle='--', linewidth=0.5)\n",
    "\n",
    "ax[1].set_title('Age Distribution (Boxplot)', \n",
    "                fontdict={'font': 'arial', 'fontsize': 10, 'fontweight': 'bold', 'color': 'black'})\n",
    "ax[1].boxplot(dataset['Age'], \n",
    "        vert=False, \n",
    "        patch_artist=True, \n",
    "        boxprops=dict(facecolor='navy', alpha=0.9))\n",
    "ax[1].set_xlabel('Age', fontdict={'font': 'arial', 'fontsize': 9, 'fontweight': 'bold', 'color': 'black'})\n",
    "\n",
    "# Customize ticks for both subplots\n",
    "for axis in ax:\n",
    "    axis.tick_params(axis='x', labelsize=9, colors='black')\n",
    "    axis.tick_params(axis='y', labelsize=9, colors='black')\n",
    "\n",
    "# Show the plot\n",
    "plt.tight_layout()\n",
    "plt.show()"
   ]
  },
  {
   "cell_type": "code",
   "execution_count": null,
   "metadata": {},
   "outputs": [],
   "source": []
  }
 ],
 "metadata": {
  "kernelspec": {
   "display_name": "Python 3",
   "language": "python",
   "name": "python3"
  },
  "language_info": {
   "codemirror_mode": {
    "name": "ipython",
    "version": 3
   },
   "file_extension": ".py",
   "mimetype": "text/x-python",
   "name": "python",
   "nbconvert_exporter": "python",
   "pygments_lexer": "ipython3",
   "version": "3.12.5"
  }
 },
 "nbformat": 4,
 "nbformat_minor": 2
}
