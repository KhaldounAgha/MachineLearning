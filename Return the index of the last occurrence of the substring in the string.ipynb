{
 "cells": [
  {
   "cell_type": "code",
   "execution_count": 1,
   "metadata": {},
   "outputs": [
    {
     "name": "stdout",
     "output_type": "stream",
     "text": [
      "Finished searching\n",
      "The last occurrence of the word [Emma] in the provided text is in the position: [45]\n",
      "All positions: [0, 26, 45]\n"
     ]
    }
   ],
   "source": [
    "## Return the index of the last occurrence of the substring in the string\n",
    "\n",
    "string_1 = \"Emma is a data scientist. Emma knows Python. Emma works at google.\"\n",
    "word_1 = 'Emma'\n",
    "\n",
    "def reversed_find(string: str, word: str) -> None:\n",
    "    position_list = []\n",
    "    pos = 0\n",
    "\n",
    "    while True:\n",
    "        \n",
    "        pos = string.find(word, pos)\n",
    "        \n",
    "        if pos != -1:\n",
    "            position_list.append(pos)\n",
    "            pos += len(word)\n",
    "        \n",
    "        else:\n",
    "            print('Finished searching')\n",
    "            break\n",
    "        \n",
    "    if not position_list:     # len(position_list) == 0\n",
    "        print(f'The word [{word}] does not exist in the provided text')\n",
    "    \n",
    "    else:\n",
    "        print(f'The last occurrence of the word [{word}] in the provided text is in the position: [{position_list[-1]}]')\n",
    "        print(f'All positions: {position_list}')\n",
    "    \n",
    "\n",
    "reversed_find(string_1, word_1)"
   ]
  },
  {
   "cell_type": "code",
   "execution_count": 7,
   "metadata": {},
   "outputs": [
    {
     "name": "stdout",
     "output_type": "stream",
     "text": [
      "The last occurrence of the word [Emma] in the provided text is in [45]\n"
     ]
    }
   ],
   "source": [
    "## Return the index of the last occurrence of the substring in the string\n",
    "\n",
    "string_2 = \"Emma is a data scientist. Emma knows Python. Emma works at google.\"\n",
    "word_2 = 'Emma'\n",
    "\n",
    "last_position = string_2.rfind(word_2)\n",
    "\n",
    "print(f'The last occurrence of the word [{word_2}] in the provided text is in [{last_position}]')"
   ]
  }
 ],
 "metadata": {
  "kernelspec": {
   "display_name": "Python 3",
   "language": "python",
   "name": "python3"
  },
  "language_info": {
   "codemirror_mode": {
    "name": "ipython",
    "version": 3
   },
   "file_extension": ".py",
   "mimetype": "text/x-python",
   "name": "python",
   "nbconvert_exporter": "python",
   "pygments_lexer": "ipython3",
   "version": "3.12.5"
  }
 },
 "nbformat": 4,
 "nbformat_minor": 2
}
